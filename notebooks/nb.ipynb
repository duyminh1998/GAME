{
 "cells": [
  {
   "cell_type": "markdown",
   "metadata": {},
   "source": [
    "#### Generating a surface image for 3D Mountain Car"
   ]
  },
  {
   "cell_type": "code",
   "execution_count": 3,
   "metadata": {},
   "outputs": [],
   "source": [
    "import numpy as np\n",
    "import matplotlib.pyplot as plt"
   ]
  },
  {
   "cell_type": "code",
   "execution_count": 7,
   "metadata": {},
   "outputs": [],
   "source": [
    "screen_width = 600\n",
    "screen_height = 600\n",
    "points_resolution = 1000\n",
    "x = np.linspace(-1.2, 0.6, points_resolution)\n",
    "y = np.linspace(-1.2, 0.6, points_resolution)\n",
    "xx, yy = np.meshgrid(x, y)\n",
    "z = np.sin(3 * xx) + np.sin(3 * yy)"
   ]
  },
  {
   "cell_type": "code",
   "execution_count": 12,
   "metadata": {},
   "outputs": [
    {
     "data": {
      "image/png": "[encoded data removed]",
      "text/plain": [
       "<Figure size 600x600 with 1 Axes>"
      ]
     },
     "metadata": {},
     "output_type": "display_data"
    }
   ],
   "source": [
    "my_dpi = 96\n",
    "fig = plt.figure(figsize=(600/my_dpi, 600/my_dpi), dpi=my_dpi)\n",
    "\n",
    "ax2 = fig.add_subplot(1, 1, 1, aspect='equal')\n",
    "ax2.contourf(x, y, z)\n",
    "plt.axis('off')\n",
    "plt.savefig('3d_mountain_car_surf.png', dpi=my_dpi, bbox_inches='tight')"
   ]
  },
  {
   "cell_type": "markdown",
   "metadata": {},
   "source": [
    "#### Parsing keepaway logs to graph learning curves"
   ]
  },
  {
   "cell_type": "code",
   "execution_count": 1,
   "metadata": {},
   "outputs": [],
   "source": [
    "from GAME.utils.config import config\n",
    "import pandas as pd\n",
    "import numpy as np\n",
    "import matplotlib.pyplot as plt\n",
    "\n",
    "config_data = config()"
   ]
  },
  {
   "cell_type": "code",
   "execution_count": 2,
   "metadata": {},
   "outputs": [],
   "source": [
    "def generate_keepaway_learning_curves(kwy_paths:list, window_size:int=900, alpha:float=0.01, coarse:int=30) -> tuple:\n",
    "    # init variables\n",
    "    ep_dur_sum = 0 # Window sum of episode durations\n",
    "    start = 0\n",
    "    q = np.zeros(shape = (1, window_size))\n",
    "    output_X = []\n",
    "    output_Y = []\n",
    "\n",
    "    # read the first kwy file. There might be more that results from interrupted training\n",
    "    initial_kwy_file_path = kwy_paths[0]\n",
    "\n",
    "    # read the first window_size entries\n",
    "    with open(initial_kwy_file_path, 'r') as f:\n",
    "        # ignore header\n",
    "        line = f.readline()\n",
    "        while line[0] == '#':\n",
    "            line = f.readline()\n",
    "        # fill window\n",
    "        for i in range(len(q[0])):\n",
    "            if line: # while we still have non-empty lines\n",
    "                parsed_line = line.split()\n",
    "                ep_dur = int(parsed_line[3])\n",
    "                q[0][i] = ep_dur\n",
    "                ep_dur_sum += q[0][i]\n",
    "                line = f.readline()\n",
    "            else:\n",
    "                raise ValueError(\"Not enough data to fill window.\")\n",
    "\n",
    "        # read the rest of the data\n",
    "        i = 0\n",
    "        ccount = 0\n",
    "        prev = ep_dur_sum\n",
    "        while line:\n",
    "            if ccount % coarse == 0:\n",
    "                output_X.append(start / 10.0 / 3600)\n",
    "                output_Y.append(prev / 10.0 / window_size)\n",
    "            \n",
    "            ep_dur_sum -= q[0][i]\n",
    "            parsed_line = line.split()\n",
    "            ep_dur = int(parsed_line[3])\n",
    "            q[0][i] = ep_dur\n",
    "            ep_dur_sum += q[0][i]\n",
    "            start += q[0][i]\n",
    "\n",
    "            prev = (1 - alpha) * prev + alpha * ep_dur_sum\n",
    "            i = (i + 1) % window_size\n",
    "            ccount += 1\n",
    "            line = f.readline()\n",
    "    \n",
    "    # continue to parse keepaway files if more are supplied. Appends this data to the previously computed data\n",
    "    if len(kwy_paths) > 1:\n",
    "        for kwy_path_idx in range(1, len(kwy_paths)):\n",
    "            with open(kwy_paths[kwy_path_idx], 'r') as f:\n",
    "                # ignore header\n",
    "                line = f.readline()\n",
    "                while line[0] == '#':\n",
    "                    line = f.readline()\n",
    "\n",
    "                # read the rest of the data\n",
    "                while line:\n",
    "                    if ccount % coarse == 0:\n",
    "                        output_X.append(start / 10.0 / 3600)\n",
    "                        output_Y.append(prev / 10.0 / window_size)\n",
    "                    \n",
    "                    ep_dur_sum -= q[0][i]\n",
    "                    parsed_line = line.split()\n",
    "                    ep_dur = int(parsed_line[3])\n",
    "                    q[0][i] = ep_dur\n",
    "                    ep_dur_sum += q[0][i]\n",
    "                    start += q[0][i]\n",
    "\n",
    "                    prev = (1 - alpha) * prev + alpha * ep_dur_sum\n",
    "                    i = (i + 1) % window_size\n",
    "                    ccount += 1\n",
    "                    line = f.readline()\n",
    "    \n",
    "    # return the parsed kwy data\n",
    "    return output_X, output_Y"
   ]
  },
  {
   "cell_type": "code",
   "execution_count": 9,
   "metadata": {},
   "outputs": [],
   "source": [
    "kwy_3v2_folder_path = config_data['logs_path'] + 'initial_3v2_training_11052022\\\\'\n",
    "first_3v2_train_kwy = kwy_3v2_folder_path + '202211031646-UbuntuXenial.kwy'\n",
    "second_3v2_train_kwy = kwy_3v2_folder_path + '202211051648-UbuntuXenial.kwy'\n",
    "\n",
    "kwy_4v3_folder_path = config_data['logs_path'] + 'initial_4v3_training_11052022\\\\'\n",
    "first_4v3_train_kwy = kwy_4v3_folder_path + '202211031855-UbuntuXenial.kwy'\n",
    "second_4v3_train_kwy = kwy_4v3_folder_path + '202211051650-UbuntuXenial.kwy'\n",
    "\n",
    "kwy_path = second_4v3_train_kwy\n",
    "kwy_paths = [first_4v3_train_kwy]"
   ]
  },
  {
   "cell_type": "code",
   "execution_count": 10,
   "metadata": {},
   "outputs": [],
   "source": [
    "window_size = 900\n",
    "alpha = 1\n",
    "coarse = 1\n",
    "output_X, output_Y = generate_keepaway_learning_curves(kwy_paths, window_size, alpha, coarse)"
   ]
  },
  {
   "cell_type": "code",
   "execution_count": 11,
   "metadata": {},
   "outputs": [
    {
     "data": {
      "text/plain": [
       "[<matplotlib.lines.Line2D at 0x1bbb0d76668>]"
      ]
     },
     "execution_count": 11,
     "metadata": {},
     "output_type": "execute_result"
    },
    {
     "data": {
      "image/png": "[encoded data removed]",
      "text/plain": [
       "<Figure size 640x480 with 1 Axes>"
      ]
     },
     "metadata": {},
     "output_type": "display_data"
    }
   ],
   "source": [
    "plt.plot(output_X, output_Y)"
   ]
  },
  {
   "cell_type": "markdown",
   "metadata": {},
   "source": [
    "#### Generate learning curves for 3D Mountain Car"
   ]
  },
  {
   "cell_type": "code",
   "execution_count": 78,
   "metadata": {},
   "outputs": [],
   "source": [
    "from GAME.utils.config import config\n",
    "import pandas as pd\n",
    "import matplotlib.pyplot as plt\n",
    "\n",
    "config_data = config()"
   ]
  },
  {
   "cell_type": "code",
   "execution_count": 127,
   "metadata": {},
   "outputs": [],
   "source": [
    "MC3D_train_folder_path = config_data['output_path'] + '11072022 MC3D No Transfer Consolidated\\\\'\n",
    "MC3D_train_filepath = MC3D_train_folder_path + 'eval_3DMC_a0.75_l0.99_e0.01_nt8_cons.csv'"
   ]
  },
  {
   "cell_type": "code",
   "execution_count": 128,
   "metadata": {},
   "outputs": [],
   "source": [
    "df = pd.read_csv(MC3D_train_filepath, index_col=False)"
   ]
  },
  {
   "cell_type": "code",
   "execution_count": 163,
   "metadata": {},
   "outputs": [],
   "source": [
    "trials = df.Trial.unique()\n",
    "trial = 5\n",
    "\n",
    "df_by_trial = df[df['Trial'] == trial].reset_index(drop = True)"
   ]
  },
  {
   "cell_type": "code",
   "execution_count": 164,
   "metadata": {},
   "outputs": [
    {
     "data": {
      "text/plain": [
       "2010"
      ]
     },
     "execution_count": 164,
     "metadata": {},
     "output_type": "execute_result"
    }
   ],
   "source": [
    "len(df_by_trial)"
   ]
  },
  {
   "cell_type": "code",
   "execution_count": 165,
   "metadata": {},
   "outputs": [],
   "source": [
    "def generate_MC_learning_curves(training_data:pd.DataFrame, window_size:int=10, alpha:float=0.01, coarse:int=30) -> tuple:\n",
    "    # init variables\n",
    "    ep_reward_sum = 0 # Window sum of episode durations\n",
    "    start = 0\n",
    "    q = np.zeros(shape = (1, window_size))\n",
    "    output_X = []\n",
    "    output_Y = []\n",
    "\n",
    "    # read the first window_size entries\n",
    "    i = 0\n",
    "    for ind, row in training_data.iterrows():\n",
    "        # fill window\n",
    "        if ind < window_size:\n",
    "            ep_reward = row['Reward']\n",
    "            q[0][i] = ep_reward\n",
    "            ep_reward_sum += q[0][i]\n",
    "            i += 1\n",
    "        else:\n",
    "            break\n",
    "\n",
    "    # read the rest of the data\n",
    "    i = 0\n",
    "    ccount = 0\n",
    "    prev = ep_reward_sum\n",
    "    for ind, row in training_data.iterrows():\n",
    "        if ind >= window_size:\n",
    "            if ccount % coarse == 0:\n",
    "                output_X.append(start)\n",
    "                output_Y.append(prev / window_size)\n",
    "            \n",
    "            ep_reward_sum -= q[0][i]\n",
    "            ep_reward = row['Reward']\n",
    "            q[0][i] = ep_reward\n",
    "            ep_reward_sum += q[0][i]\n",
    "            # start += q[0][i]\n",
    "            start = row['Episode']\n",
    "\n",
    "            prev = (1 - alpha) * prev + alpha * ep_reward_sum\n",
    "            i = (i + 1) % window_size\n",
    "            ccount += 1\n",
    "    \n",
    "    # return the parsed kwy data\n",
    "    return output_X, output_Y"
   ]
  },
  {
   "cell_type": "code",
   "execution_count": 166,
   "metadata": {},
   "outputs": [],
   "source": [
    "output_X, output_Y = generate_MC_learning_curves(df_by_trial)"
   ]
  },
  {
   "cell_type": "code",
   "execution_count": 167,
   "metadata": {},
   "outputs": [
    {
     "data": {
      "text/plain": [
       "[<matplotlib.lines.Line2D at 0x20b14bc25c0>]"
      ]
     },
     "execution_count": 167,
     "metadata": {},
     "output_type": "execute_result"
    },
    {
     "data": {
      "image/png": "[encoded data removed]",
      "text/plain": [
       "<Figure size 640x480 with 1 Axes>"
      ]
     },
     "metadata": {},
     "output_type": "display_data"
    }
   ],
   "source": [
    "plt.plot(output_X, output_Y)"
   ]
  },
  {
   "cell_type": "markdown",
   "metadata": {},
   "source": [
    "#### Parsing Keepaway weights files"
   ]
  },
  {
   "cell_type": "code",
   "execution_count": 1,
   "metadata": {},
   "outputs": [],
   "source": [
    "from GAME.utils.config import config\n",
    "import numpy as np"
   ]
  },
  {
   "cell_type": "code",
   "execution_count": 2,
   "metadata": {},
   "outputs": [],
   "source": [
    "config_data = config()"
   ]
  },
  {
   "cell_type": "code",
   "execution_count": 3,
   "metadata": {},
   "outputs": [],
   "source": [
    "k3v2_weights_folder = config_data['logs_path'] + '202211031646-UbuntuXenial-3v2-weights//'\n",
    "k3v2_weights_file = k3v2_weights_folder + 'k1-weights.dat'\n",
    "\n",
    "k4v3_weights_folder = config_data['logs_path'] + '202211031855-UbuntuXenial-4v3-weights//'\n",
    "k4v3_weights_file = k3v2_weights_folder + 'k1-weights.dat'"
   ]
  },
  {
   "cell_type": "code",
   "execution_count": 4,
   "metadata": {},
   "outputs": [],
   "source": [
    "with open(k3v2_weights_file, 'rb') as f:\n",
    "    weights_3v2 = np.fromfile(f)"
   ]
  },
  {
   "cell_type": "code",
   "execution_count": null,
   "metadata": {},
   "outputs": [],
   "source": [
    "for w in weights_3v2:\n",
    "    if w != 0:\n",
    "        print(w)"
   ]
  },
  {
   "cell_type": "code",
   "execution_count": 6,
   "metadata": {},
   "outputs": [
    {
     "data": {
      "text/plain": [
       "2097156"
      ]
     },
     "execution_count": 6,
     "metadata": {},
     "output_type": "execute_result"
    }
   ],
   "source": [
    "len(weights_3v2)"
   ]
  }
 ],
 "metadata": {
  "kernelspec": {
   "display_name": "Python 3.7.3 ('venv': venv)",
   "language": "python",
   "name": "python3"
  },
  "language_info": {
   "codemirror_mode": {
    "name": "ipython",
    "version": 3
   },
   "file_extension": ".py",
   "mimetype": "text/x-python",
   "name": "python",
   "nbconvert_exporter": "python",
   "pygments_lexer": "ipython3",
   "version": "3.7.3"
  },
  "orig_nbformat": 4,
  "vscode": {
   "interpreter": {
    "hash": "66eb0ff22152a42a55105d2627a5529bd8ce21fe81b81dbad1c4e8c0b6b69aac"
   }
  }
 },
 "nbformat": 4,
 "nbformat_minor": 2
}
