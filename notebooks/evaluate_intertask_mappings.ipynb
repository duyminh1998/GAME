{
 "cells": [
  {
   "cell_type": "markdown",
   "metadata": {},
   "source": [
    "#### Evaluating 3DMC"
   ]
  },
  {
   "cell_type": "code",
   "execution_count": 1,
   "metadata": {},
   "outputs": [],
   "source": [
    "from GAME.bin.intertask_mappings import *"
   ]
  },
  {
   "cell_type": "code",
   "execution_count": 7,
   "metadata": {},
   "outputs": [],
   "source": [
    "MC2D_states = ['x_position', 'x_velocity']\n",
    "MC3D_states = ['x_position', 'y_position', 'x_velocity', 'y_velocity']\n",
    "MC2D_actions = ['Left', 'Neutral', 'Right']\n",
    "MC3D_actions = ['Neutral', 'West', 'East', 'South', 'North']\n",
    "\n",
    "# evolution parameters\n",
    "src_state_var = MC2D_states\n",
    "src_actions = MC2D_actions\n",
    "target_state_var = MC3D_states\n",
    "target_actions = MC3D_actions\n",
    "\n",
    "mapping = IntertaskMapping([0, 0, 0, 0], [1, 0, 2, 0, 2], src_state_var, src_actions, target_state_var, target_actions)\n",
    "\n",
    "src_data_path = \"C:\\\\Users\\\\minhh\\\\Documents\\\\JHU\\\\Fall 2022\\\\Evolutionary and Swarm Intelligence\\\\src\\\\GAME\\\\output\\\\10242022 Initial Samples Collection for 2D MC\\\\test.csv\"\n",
    "# src_data_df = pd.read_csv(src_data_path, index_col = False)\n",
    "transformed_df_col_names = ['Current_x_position', 'Current_x_velocity', 'Current_y_position', \"Current_y_velocity\",\n",
    "'Current_action', 'Next_x_position', 'Next_x_velocity', 'Next_y_position', 'Next_y_velocity']\n",
    "\n",
    "# transformed_df = transform_source_dataset(src_data_df, mapping, transformed_df_col_names, target_actions)\n",
    "transformed_df_out_path = \"C:\\\\Users\\\\minhh\\\\Documents\\\\JHU\\\\Fall 2022\\\\Evolutionary and Swarm Intelligence\\\\src\\\\GAME\\\\output\\\\11022022 Transformed Source Data 3DMC\\\\transformed_df.csv\"\n",
    "# transformed_df.to_csv(transformed_df_out_path, index = False)\n",
    "transformed_df = pd.read_csv(transformed_df_out_path, index_col = False)\n",
    "\n",
    "network_folder_path = \"C:\\\\Users\\\\minhh\\\\Documents\\\\JHU\\\\Fall 2022\\\\Evolutionary and Swarm Intelligence\\\\src\\\\GAME\\\\pickle\\\\11122022 3DMC Neural Nets\\\\\"\n",
    "eval_networks = EvaluationNetworks(network_folder_path)"
   ]
  },
  {
   "cell_type": "code",
   "execution_count": 21,
   "metadata": {},
   "outputs": [],
   "source": [
    "MC2D_states = ['x_position', 'x_velocity']\n",
    "MC3D_states = ['x_position', 'x_velocity', 'y_position', 'y_velocity']\n",
    "MC2D_actions = ['Left', 'Neutral', 'Right']\n",
    "MC3D_actions = [0, 1, 2, 3, 4]\n",
    "\n",
    "# evolution parameters\n",
    "src_state_var = MC2D_states\n",
    "src_actions = MC2D_actions\n",
    "target_state_var = MC3D_states\n",
    "target_actions = MC3D_actions\n",
    "\n",
    "mapping = IntertaskMapping([0, 1, 0, 1], [1, 0, 2, 0, 2], src_state_var, src_actions, target_state_var, target_actions)\n",
    "\n",
    "src_data_path = \"C:\\\\Users\\\\minhh\\\\Documents\\\\JHU\\\\Fall 2022\\\\Evolutionary and Swarm Intelligence\\\\src\\\\GAME\\\\output\\\\11032022 2DMC Sample Collection 100 Episodes with Training\\\\2DMC_100_episodes_sample_data.csv\"\n",
    "src_data_df = pd.read_csv(src_data_path, index_col = False)\n",
    "transformed_df_col_names = ['Current-x_position', 'Current-x_velocity', 'Current-y_position', \"Current-y_velocity\",\n",
    "'Current-action', 'Next-x_position', 'Next-x_velocity', 'Next-y_position', 'Next-y_velocity']\n",
    "\n",
    "transformed_df = transform_source_dataset(src_data_df, mapping, transformed_df_col_names, target_actions)\n",
    "# transformed_df_out_path = \"C:\\\\Users\\\\minhh\\\\Documents\\\\JHU\\\\Fall 2022\\\\Evolutionary and Swarm Intelligence\\\\src\\\\GAME\\\\output\\\\11022022 Transformed Source Data 3DMC\\\\transformed_df.csv\"\n",
    "# transformed_df.to_csv(transformed_df_out_path, index = False)\n",
    "\n",
    "network_folder_path = \"C:\\\\Users\\\\minhh\\\\Documents\\\\JHU\\\\Fall 2022\\\\Evolutionary and Swarm Intelligence\\\\src\\\\GAME\\\\pickle\\\\neural_nets\\\\mountain_car\\\\\"\n",
    "eval_networks = EvaluationNetworks(network_folder_path)"
   ]
  },
  {
   "cell_type": "code",
   "execution_count": 13,
   "metadata": {},
   "outputs": [],
   "source": [
    "feature_scaler = MinMaxScaler()\n",
    "feature_names = ['Current-{}'.format(feature) for feature in src_state_var]\n",
    "feature_scaler.fit(src_data_df[feature_names])\n",
    "src_data_df[feature_names] = feature_scaler.transform(src_data_df[feature_names])\n",
    "\n",
    "target_scaler = MinMaxScaler()\n",
    "target_names = ['Next-{}'.format(feature) for feature in src_state_var]\n",
    "target_scaler.fit(src_data_df[target_names])\n",
    "src_data_df[target_names] = target_scaler.transform(src_data_df[target_names])"
   ]
  },
  {
   "cell_type": "code",
   "execution_count": 14,
   "metadata": {},
   "outputs": [],
   "source": [
    "transformed_df = transform_source_dataset(src_data_df, mapping, transformed_df_col_names, target_actions)"
   ]
  },
  {
   "cell_type": "code",
   "execution_count": 22,
   "metadata": {},
   "outputs": [],
   "source": [
    "current_state_cols = ['Current-x_position', 'Current-x_velocity', 'Current-y_position', 'Current-y_velocity']\n",
    "next_state_cols = ['Next-x_position', 'Next-x_velocity', 'Next-y_position', 'Next-y_velocity']\n",
    "actions = [0, 1, 2, 3, 4]\n",
    "eval_scores = {}\n",
    "\n",
    "for action in actions:\n",
    "    action_col_name = 'Current-action-' + str(action)\n",
    "    src_df_by_action = transformed_df[transformed_df[action_col_name] == 1]\n",
    "\n",
    "    features = src_df_by_action[current_state_cols]\n",
    "    for target_name in next_state_cols:\n",
    "        target = src_df_by_action[target_name]\n",
    "        eval_mlp = eval_networks.get_network(action, target_name)\n",
    "        eval_score = eval_mlp.score(features, target)\n",
    "        eval_scores['{}_{}'.format(action, target_name)] = eval_score"
   ]
  },
  {
   "cell_type": "code",
   "execution_count": 19,
   "metadata": {},
   "outputs": [
    {
     "data": {
      "text/plain": [
       "{'0_Next-x_position': 0.9952614592946506,\n",
       " '0_Next-x_velocity': 0.9910675030105118,\n",
       " '0_Next-y_position': 0.9941485327532792,\n",
       " '0_Next-y_velocity': 0.9914491215213592,\n",
       " '1_Next-x_position': 0.9831014382625355,\n",
       " '1_Next-x_velocity': 0.9940551842679042,\n",
       " '1_Next-y_position': 0.9890262789546276,\n",
       " '1_Next-y_velocity': 0.9932388440764259,\n",
       " '2_Next-x_position': 0.9948239842986615,\n",
       " '2_Next-x_velocity': 0.9892228477434274,\n",
       " '2_Next-y_position': 0.996418385980334,\n",
       " '2_Next-y_velocity': 0.9905102094853853,\n",
       " '3_Next-x_position': 0.9911865804046918,\n",
       " '3_Next-x_velocity': 0.9914063188247954,\n",
       " '3_Next-y_position': 0.9999392194890382,\n",
       " '3_Next-y_velocity': 0.9930383580313504,\n",
       " '4_Next-x_position': 0.9962196273755292,\n",
       " '4_Next-x_velocity': 0.9911525699969038,\n",
       " '4_Next-y_position': 0.9995676798664869,\n",
       " '4_Next-y_velocity': 0.9384398893951575}"
      ]
     },
     "execution_count": 19,
     "metadata": {},
     "output_type": "execute_result"
    }
   ],
   "source": [
    "eval_scores"
   ]
  },
  {
   "cell_type": "code",
   "execution_count": 23,
   "metadata": {},
   "outputs": [
    {
     "data": {
      "text/plain": [
       "[0.9787583304396257]"
      ]
     },
     "execution_count": 23,
     "metadata": {},
     "output_type": "execute_result"
    }
   ],
   "source": [
    "parse_mapping_eval_scores(eval_scores)"
   ]
  },
  {
   "cell_type": "code",
   "execution_count": 5,
   "metadata": {},
   "outputs": [
    {
     "name": "stdout",
     "output_type": "stream",
     "text": [
      "a0--sNext-x_position.pickle\n",
      "a0--sNext-x_velocity.pickle\n",
      "a0--sNext-y_position.pickle\n",
      "a0--sNext-y_velocity.pickle\n",
      "a1--sNext-x_position.pickle\n",
      "a1--sNext-x_velocity.pickle\n",
      "a1--sNext-y_position.pickle\n",
      "a1--sNext-y_velocity.pickle\n",
      "a2--sNext-x_position.pickle\n",
      "a2--sNext-x_velocity.pickle\n",
      "a2--sNext-y_position.pickle\n",
      "a2--sNext-y_velocity.pickle\n",
      "a3--sNext-x_position.pickle\n",
      "a3--sNext-x_velocity.pickle\n",
      "a3--sNext-y_position.pickle\n",
      "a3--sNext-y_velocity.pickle\n",
      "a4--sNext-x_position.pickle\n",
      "a4--sNext-x_velocity.pickle\n",
      "a4--sNext-y_position.pickle\n",
      "a4--sNext-y_velocity.pickle\n"
     ]
    }
   ],
   "source": [
    "import os\n",
    "\n",
    "path = \"C:\\\\Users\\\\minhh\\\\Documents\\\\JHU\\\\Fall 2022\\\\Evolutionary and Swarm Intelligence\\\\src\\\\GAME\\\\pickle\\\\11012022 3DMC Neural Nets\\\\\"\n",
    "for file in os.listdir(path):\n",
    "    if file.endswith('.txt'):\n",
    "        split_filename = file.split('_')\n",
    "        new_filename = split_filename[0] + '--' + split_filename[1].split('_')[0] + '-' + split_filename[1].split('_')[1] + '_' + split_filename[1].split('_')[2]\n",
    "        # os.rename(os.path.join(path, file), os.path.join(path, new_filename))\n",
    "        print(new_filename)"
   ]
  },
  {
   "cell_type": "markdown",
   "metadata": {},
   "source": [
    "#### Evaluating 4v3 mappings"
   ]
  },
  {
   "cell_type": "code",
   "execution_count": 1,
   "metadata": {},
   "outputs": [],
   "source": [
    "from GAME.bin.intertask_mappings import *\n",
    "from GAME.utils.config import config\n",
    "from itertools import product\n",
    "from sklearn.preprocessing import MinMaxScaler"
   ]
  },
  {
   "cell_type": "code",
   "execution_count": 2,
   "metadata": {},
   "outputs": [],
   "source": [
    "def agg_res(eval_results:dict, state:str=None, action:int=None, strategy:str='average') -> dict:\n",
    "    agg_results = {}\n",
    "    state_agg = []\n",
    "    action_agg = []\n",
    "    for k, v in eval_results.items():\n",
    "        key_split = k.split('--')\n",
    "        key_state = key_split[1].split('-')[1]\n",
    "        key_action = key_split[0]\n",
    "        if state and state == key_state:\n",
    "            state_agg.append(v)\n",
    "        if action and str(action) == key_action:\n",
    "            action_agg.append(v)\n",
    "    if strategy == 'average':\n",
    "        if state:\n",
    "            agg_results[state] = np.mean(state_agg)\n",
    "        if action:\n",
    "            agg_results[action] = np.mean(action_agg)\n",
    "    if strategy == 'best':\n",
    "        if state:\n",
    "            agg_results[state] = np.max(state_agg)\n",
    "        if action:\n",
    "            agg_results[action] = np.max(action_agg)\n",
    "\n",
    "    return agg_results"
   ]
  },
  {
   "cell_type": "code",
   "execution_count": 21,
   "metadata": {},
   "outputs": [],
   "source": [
    "# load config data\n",
    "config_data = config()\n",
    "\n",
    "src_state_var_names = config_data['3v2_state_names']\n",
    "src_action_names = config_data['3v2_action_names']\n",
    "src_action_values = config_data['3v2_action_values']\n",
    "target_state_var_names = config_data['4v3_state_names']\n",
    "target_action_names = config_data['4v3_action_names']\n",
    "target_action_values = config_data['4v3_action_values']\n",
    "\n",
    "# mapping = IntertaskMapping([0 for _ in range(19)], [0, 1, 2, 2], src_state_var_names, src_action_names, target_state_var_names, target_action_names)\n",
    "# mapping = IntertaskMapping([11, 1, 2, 2, 3, 4, 4, 5, 6, 6, 7, 8, 8, 9, 10, 10, 11, 12, 12], [0, 1, 2, 2], src_state_var_names, src_action_names, target_state_var_names, target_action_names)\n",
    "\n",
    "src_data_path = os.path.join(config_data['data_path'], 'keepaway', \"keepaway_3v2_transitions.csv\")\n",
    "src_data_df = pd.read_csv(src_data_path, index_col = False)\n",
    "transformed_df_col_names = config_data['4v3_full_transition_df_col_names']\n",
    "\n",
    "feature_scaler = MinMaxScaler()\n",
    "feature_names = ['Current-{}'.format(feature) for feature in src_state_var_names]\n",
    "feature_scaler.fit(src_data_df[feature_names])\n",
    "src_data_df[feature_names] = feature_scaler.transform(src_data_df[feature_names])\n",
    "\n",
    "target_scaler = MinMaxScaler()\n",
    "target_names = ['Next-{}'.format(feature) for feature in src_state_var_names]\n",
    "target_scaler.fit(src_data_df[target_names])\n",
    "src_data_df[target_names] = target_scaler.transform(src_data_df[target_names])\n",
    "\n",
    "# transformed_df = transform_source_dataset(src_data_df, mapping, transformed_df_col_names, target_action_values)\n",
    "# transformed_df_out_path = \"C:\\\\Users\\\\minhh\\\\Documents\\\\JHU\\\\Fall 2022\\\\Evolutionary and Swarm Intelligence\\\\src\\\\GAME\\\\output\\\\11022022 Transformed Source Data 3DMC\\\\transformed_df.csv\"\n",
    "# transformed_df.to_csv(transformed_df_out_path, index = False)\n",
    "\n",
    "network_folder_path = os.path.join(config_data['pickle_path'], 'neural_nets', \"keepaway\")\n",
    "eval_networks = EvaluationNetworks(network_folder_path)\n",
    "# test_mlp = eval_networks.get_network(0, 'Next_x_position')\n",
    "\n",
    "transformed_df_current_state_cols = config_data['4v3_current_state_transition_df_col_names']\n",
    "transformed_df_next_state_cols = config_data['4v3_next_state_transition_df_col_names']\n",
    "\n",
    "# eval_results = evaluate_mapping(mapping, transformed_df, eval_networks, transformed_df_current_state_cols, transformed_df_next_state_cols, target_action_values)"
   ]
  },
  {
   "cell_type": "code",
   "execution_count": null,
   "metadata": {},
   "outputs": [],
   "source": [
    "state_mapping = [0, 1, 2, 2, 3, 4, 4, 5, 6, 6, 7, 8, 8, 9, 10, 10, 11, 12, 12]\n",
    "state_mapping = np.random.choice(13, size = 19)\n",
    "\n",
    "for action_mapping in product(src_action_values, repeat = len(target_action_values)):\n",
    "    mapping = IntertaskMapping(state_mapping, action_mapping, src_state_var_names, src_action_names, target_state_var_names, target_action_names)\n",
    "\n",
    "    transformed_df = transform_source_dataset(src_data_df, mapping, transformed_df_col_names, target_action_values)\n",
    "\n",
    "    eval_results = evaluate_mapping(mapping, transformed_df, eval_networks, transformed_df_current_state_cols, transformed_df_next_state_cols, target_action_values)\n",
    "\n",
    "    print(\"Action mapping: {}, Results: {}\".format(action_mapping, parse_mapping_eval_scores(eval_results)))"
   ]
  },
  {
   "cell_type": "code",
   "execution_count": 24,
   "metadata": {},
   "outputs": [],
   "source": [
    "state_mapping = [0, 1, 2, 2, 3, 4, 4, 5, 6, 6, 7, 8, 8, 9, 10, 10, 11, 12, 12]\n",
    "# state_mapping = [0 for _ in range(19)]\n",
    "action_mapping = [0, 1, 2, 2]\n",
    "mapping = IntertaskMapping(state_mapping, action_mapping, src_state_var_names, src_action_names, target_state_var_names, target_action_names)\n",
    "\n",
    "transformed_df = transform_source_dataset(src_data_df, mapping, transformed_df_col_names, target_action_values)\n",
    "\n",
    "eval_results = evaluate_mapping(mapping, transformed_df, eval_networks, transformed_df_current_state_cols, transformed_df_next_state_cols, target_action_values)"
   ]
  },
  {
   "cell_type": "code",
   "execution_count": 25,
   "metadata": {},
   "outputs": [
    {
     "name": "stdout",
     "output_type": "stream",
     "text": [
      "[0.7288566720658226]\n"
     ]
    }
   ],
   "source": [
    "print(parse_mapping_eval_scores(eval_results))"
   ]
  },
  {
   "cell_type": "code",
   "execution_count": 26,
   "metadata": {},
   "outputs": [
    {
     "name": "stdout",
     "output_type": "stream",
     "text": [
      "{'dist(K1,C)': 0.8722644839350171}\n",
      "{'dist(K1,K2)': -0.22939281778175027}\n",
      "{'dist(K1,K3)': 0.8424341522855624}\n",
      "{'dist(K1,K4)': 0.9286357208327285}\n",
      "{'dist(K1,T1)': 0.825480264121766}\n",
      "{'dist(K1,T2)': 0.8231096644799776}\n",
      "{'dist(K1,T3)': 0.8276272203865441}\n",
      "{'dist(K2,C)': 0.6698307880330103}\n",
      "{'dist(K3,C)': 0.7540449851072928}\n",
      "{'dist(K4,C)': 0.8598177118728227}\n",
      "{'dist(T1,C)': 0.922598368239199}\n",
      "{'dist(T2,C)': 0.9282651407342403}\n",
      "{'dist(T3,C)': 0.9304682075749454}\n",
      "{'Min(dist(K2,T1),dist(K2,T2),dist(K2,T3))': 0.7970593744195932}\n",
      "{'Min(dist(K3,T1),dist(K3,T2),dist(K3,T3))': 0.6786768532653569}\n",
      "{'Min(dist(K4,T1),dist(K4,T2),dist(K4,T3))': -0.17427110914843588}\n",
      "{'Min(ang(K2,K1,T1),ang(K2,K1,T2),ang(K2,K1,T3))': 0.9465057040889643}\n",
      "{'Min(ang(K3,K1,T1),ang(K3,K1,T2),ang(K3,K1,T3))': 0.7738532579239163}\n",
      "{'Min(ang(K4,K1,T1),ang(K4,K1,T2),ang(K4,K1,T3))': 0.8712687988798752}\n"
     ]
    }
   ],
   "source": [
    "for state in target_state_var_names:\n",
    "    print(agg_res(eval_results, state, None, 'average'))"
   ]
  },
  {
   "cell_type": "code",
   "execution_count": 28,
   "metadata": {},
   "outputs": [],
   "source": [
    "# GAME\n",
    "state_mapping = [0, 11, 5, 0, 4, 3, 4, 9, 6, 6, 7, 9, 9, 8, 2, 4, 11, 10, 9]\n",
    "# state_mapping = [0 for _ in range(19)]\n",
    "action_mapping = [0, 0, 0, 0]\n",
    "mapping = IntertaskMapping(state_mapping, action_mapping, src_state_var_names, src_action_names, target_state_var_names, target_action_names)\n",
    "\n",
    "transformed_df = transform_source_dataset(src_data_df, mapping, transformed_df_col_names, target_action_values)\n",
    "\n",
    "eval_results = evaluate_mapping(mapping, transformed_df, eval_networks, transformed_df_current_state_cols, transformed_df_next_state_cols, target_action_values)"
   ]
  },
  {
   "cell_type": "code",
   "execution_count": 29,
   "metadata": {},
   "outputs": [
    {
     "name": "stdout",
     "output_type": "stream",
     "text": [
      "[0.9094175953584726]\n"
     ]
    }
   ],
   "source": [
    "print(parse_mapping_eval_scores(eval_results))"
   ]
  },
  {
   "cell_type": "code",
   "execution_count": 30,
   "metadata": {},
   "outputs": [
    {
     "name": "stdout",
     "output_type": "stream",
     "text": [
      "{'dist(K1,C)': 0.8984891033086441}\n",
      "{'dist(K1,K2)': 0.9832637591162632}\n",
      "{'dist(K1,K3)': 0.7849590820300703}\n",
      "{'dist(K1,K4)': 0.954064586502867}\n",
      "{'dist(K1,T1)': 0.8867525246875843}\n",
      "{'dist(K1,T2)': 0.9106655510397274}\n",
      "{'dist(K1,T3)': 0.9243453270534202}\n",
      "{'dist(K2,C)': 0.8889423560018718}\n",
      "{'dist(K3,C)': 0.9271890722436928}\n",
      "{'dist(K4,C)': 0.9442787800076675}\n",
      "{'dist(T1,C)': 0.8949127149320598}\n",
      "{'dist(T2,C)': 0.9360098592514783}\n",
      "{'dist(T3,C)': 0.9502627358934586}\n",
      "{'Min(dist(K2,T1),dist(K2,T2),dist(K2,T3))': 0.739350172055359}\n",
      "{'Min(dist(K3,T1),dist(K3,T2),dist(K3,T3))': 0.8737771738760037}\n",
      "{'Min(dist(K4,T1),dist(K4,T2),dist(K4,T3))': 0.9439320299226585}\n",
      "{'Min(ang(K2,K1,T1),ang(K2,K1,T2),ang(K2,K1,T3))': 0.9525089079653637}\n",
      "{'Min(ang(K3,K1,T1),ang(K3,K1,T2),ang(K3,K1,T3))': 0.9239104302786245}\n",
      "{'Min(ang(K4,K1,T1),ang(K4,K1,T2),ang(K4,K1,T3))': 0.9613201456441616}\n"
     ]
    }
   ],
   "source": [
    "for state in target_state_var_names:\n",
    "    print(agg_res(eval_results, state, None, 'average'))"
   ]
  },
  {
   "cell_type": "code",
   "execution_count": null,
   "metadata": {},
   "outputs": [],
   "source": []
  },
  {
   "cell_type": "code",
   "execution_count": 13,
   "metadata": {},
   "outputs": [
    {
     "name": "stdout",
     "output_type": "stream",
     "text": [
      "{'dist(K1,C)': 0.49881693885453054}\n",
      "{'dist(K1,K2)': -0.3500011293129991}\n",
      "{'dist(K1,K3)': 0.4865951172581645}\n",
      "{'dist(K1,K4)': 0.5711864998094486}\n",
      "{'dist(K1,T1)': 0.412767853771606}\n",
      "{'dist(K1,T2)': 0.4277775505462874}\n",
      "{'dist(K1,T3)': 0.3925239806523952}\n",
      "{'dist(K2,C)': 0.6575082449014189}\n",
      "{'dist(K3,C)': 0.488432748544326}\n",
      "{'dist(K4,C)': 0.6371720118516084}\n",
      "{'dist(T1,C)': 0.4963605488009031}\n",
      "{'dist(T2,C)': 0.49763661988783015}\n",
      "{'dist(T3,C)': 0.48662396797778407}\n",
      "{'Min(dist(K2,T1),dist(K2,T2),dist(K2,T3))': 0.5987640349561779}\n",
      "{'Min(dist(K3,T1),dist(K3,T2),dist(K3,T3))': 0.6503778129774447}\n",
      "{'Min(dist(K4,T1),dist(K4,T2),dist(K4,T3))': 0.2190113116089851}\n",
      "{'Min(ang(K2,K1,T1),ang(K2,K1,T2),ang(K2,K1,T3))': 0.8303647337685836}\n",
      "{'Min(ang(K3,K1,T1),ang(K3,K1,T2),ang(K3,K1,T3))': 0.536035884773041}\n",
      "{'Min(ang(K4,K1,T1),ang(K4,K1,T2),ang(K4,K1,T3))': 0.7295451004304401}\n"
     ]
    }
   ],
   "source": [
    "for state in target_state_var_names:\n",
    "    print(agg_res(eval_results, state, None, 'average'))"
   ]
  },
  {
   "cell_type": "code",
   "execution_count": 14,
   "metadata": {},
   "outputs": [
    {
     "name": "stdout",
     "output_type": "stream",
     "text": [
      "{'0': 0.5970050794532115}\n",
      "{'1': 0.46486781561206886}\n",
      "{'2': 0.4557285154566266}\n",
      "{'3': 0.4334511857008248}\n"
     ]
    }
   ],
   "source": [
    "for action in target_action_values:\n",
    "    print(agg_res(eval_results, None, str(action), 'average'))"
   ]
  },
  {
   "cell_type": "code",
   "execution_count": 16,
   "metadata": {},
   "outputs": [
    {
     "name": "stdout",
     "output_type": "stream",
     "text": [
      "{'0': 0.5970050794532115}\n",
      "{'1': 0.6328943303695123}\n",
      "{'2': 0.6278508153150593}\n",
      "{'3': 0.5919189748063395}\n"
     ]
    }
   ],
   "source": [
    "for action in target_action_values:\n",
    "    print(agg_res(eval_results, None, str(action), 'average'))"
   ]
  },
  {
   "cell_type": "code",
   "execution_count": null,
   "metadata": {},
   "outputs": [],
   "source": [
    "state = 'dist(K1,C)'\n",
    "action = '0'"
   ]
  },
  {
   "cell_type": "code",
   "execution_count": 7,
   "metadata": {},
   "outputs": [
    {
     "name": "stdout",
     "output_type": "stream",
     "text": [
      "0--Next-dist(K1,C) 0.5565052148801035\n",
      "0--Next-dist(K1,K2) 0.9233535665106078\n",
      "0--Next-dist(K1,K3) 0.9649852551019529\n",
      "0--Next-dist(K1,K4) 0.853310103439609\n",
      "0--Next-dist(K1,T1) 0.6395998534270293\n",
      "0--Next-dist(K1,T2) 0.8772711177089803\n",
      "0--Next-dist(K1,T3) 0.8463707785670385\n",
      "0--Next-dist(K2,C) 0.9146010356947873\n",
      "0--Next-dist(K3,C) 0.8934455980799146\n",
      "0--Next-dist(K4,C) -9.121264605889044\n",
      "0--Next-dist(T1,C) 0.19186391483142595\n",
      "0--Next-dist(T2,C) 0.8462037608124144\n",
      "0--Next-dist(T3,C) 0.7670662733368777\n",
      "0--Next-Min(dist(K2,T1),dist(K2,T2),dist(K2,T3)) 0.8671977978044136\n",
      "0--Next-Min(dist(K3,T1),dist(K3,T2),dist(K3,T3)) 0.7494318067170905\n",
      "0--Next-Min(dist(K4,T1),dist(K4,T2),dist(K4,T3)) 0.7978817797390454\n",
      "0--Next-Min(ang(K2,K1,T1),ang(K2,K1,T2),ang(K2,K1,T3)) 0.2854170578096962\n",
      "0--Next-Min(ang(K3,K1,T1),ang(K3,K1,T2),ang(K3,K1,T3)) 0.15549082839276507\n",
      "0--Next-Min(ang(K4,K1,T1),ang(K4,K1,T2),ang(K4,K1,T3)) 0.6990632346124325\n",
      "1--Next-dist(K1,C) 0.9387862035367304\n",
      "1--Next-dist(K1,K2) -7.412251696456286\n",
      "1--Next-dist(K1,K3) 0.9504825142882413\n",
      "1--Next-dist(K1,K4) 0.9502515744532509\n",
      "1--Next-dist(K1,T1) 0.9436344222698605\n",
      "1--Next-dist(K1,T2) 0.9445318763204438\n",
      "1--Next-dist(K1,T3) 0.9094119857973659\n",
      "1--Next-dist(K2,C) 0.8820743105783951\n",
      "1--Next-dist(K3,C) 0.9197701974448943\n",
      "1--Next-dist(K4,C) 0.9274316412765594\n",
      "1--Next-dist(T1,C) 0.7957622976328892\n",
      "1--Next-dist(T2,C) 0.8072010196401849\n",
      "1--Next-dist(T3,C) 0.9340912758043382\n",
      "1--Next-Min(dist(K2,T1),dist(K2,T2),dist(K2,T3)) 0.9367829292483867\n",
      "1--Next-Min(dist(K3,T1),dist(K3,T2),dist(K3,T3)) 0.8586455837506577\n",
      "1--Next-Min(dist(K4,T1),dist(K4,T2),dist(K4,T3)) 0.9491498692805644\n",
      "1--Next-Min(ang(K2,K1,T1),ang(K2,K1,T2),ang(K2,K1,T3)) 0.8461417096074775\n",
      "1--Next-Min(ang(K3,K1,T1),ang(K3,K1,T2),ang(K3,K1,T3)) 0.7887157211770004\n",
      "1--Next-Min(ang(K4,K1,T1),ang(K4,K1,T2),ang(K4,K1,T3)) 0.8827149451707164\n",
      "2--Next-dist(K1,C) 0.8103155690489694\n",
      "2--Next-dist(K1,K2) 0.8932610104058285\n",
      "2--Next-dist(K1,K3) 0.9097502349558048\n",
      "2--Next-dist(K1,K4) 0.862263063725195\n",
      "2--Next-dist(K1,T1) 0.8049060847344338\n",
      "2--Next-dist(K1,T2) 0.824871287566878\n",
      "2--Next-dist(K1,T3) 0.8198225143425374\n",
      "2--Next-dist(K2,C) 0.9447656136201122\n",
      "2--Next-dist(K3,C) 0.850767918009355\n",
      "2--Next-dist(K4,C) 0.9016721033839588\n",
      "2--Next-dist(T1,C) 0.9000463403603816\n",
      "2--Next-dist(T2,C) 0.9146914463159594\n",
      "2--Next-dist(T3,C) 0.8833530220803401\n",
      "2--Next-Min(dist(K2,T1),dist(K2,T2),dist(K2,T3)) 0.9504820651773498\n",
      "2--Next-Min(dist(K3,T1),dist(K3,T2),dist(K3,T3)) 0.8463737045852245\n",
      "2--Next-Min(dist(K4,T1),dist(K4,T2),dist(K4,T3)) 0.9643530610388268\n",
      "2--Next-Min(ang(K2,K1,T1),ang(K2,K1,T2),ang(K2,K1,T3)) 0.9656267307799763\n",
      "2--Next-Min(ang(K3,K1,T1),ang(K3,K1,T2),ang(K3,K1,T3)) 0.7560733647649078\n",
      "2--Next-Min(ang(K4,K1,T1),ang(K4,K1,T2),ang(K4,K1,T3)) 0.9314275964169537\n",
      "3--Next-dist(K1,C) 0.6521696877118329\n",
      "3--Next-dist(K1,K2) 0.8996220801222129\n",
      "3--Next-dist(K1,K3) 0.9264348510270038\n",
      "3--Next-dist(K1,K4) 0.9216850680154924\n",
      "3--Next-dist(K1,T1) 0.4037635386286471\n",
      "3--Next-dist(K1,T2) 0.8356543745963435\n",
      "3--Next-dist(K1,T3) 0.8180285995149901\n",
      "3--Next-dist(K2,C) 0.9003403079439694\n",
      "3--Next-dist(K3,C) 0.9118410029084807\n",
      "3--Next-dist(K4,C) -0.017647124400515413\n",
      "3--Next-dist(T1,C) 0.7782667051321219\n",
      "3--Next-dist(T2,C) 0.9174791865353353\n",
      "3--Next-dist(T3,C) 0.9231649018064928\n",
      "3--Next-Min(dist(K2,T1),dist(K2,T2),dist(K2,T3)) 0.8742234209482604\n",
      "3--Next-Min(dist(K3,T1),dist(K3,T2),dist(K3,T3)) 0.918473833057887\n",
      "3--Next-Min(dist(K4,T1),dist(K4,T2),dist(K4,T3)) 0.9610405294640725\n",
      "3--Next-Min(ang(K2,K1,T1),ang(K2,K1,T2),ang(K2,K1,T3)) 0.8239489117917259\n",
      "3--Next-Min(ang(K3,K1,T1),ang(K3,K1,T2),ang(K3,K1,T3)) -0.8067271962492275\n",
      "3--Next-Min(ang(K4,K1,T1),ang(K4,K1,T2),ang(K4,K1,T3)) 0.6510466710213456\n"
     ]
    }
   ],
   "source": [
    "for k, v in eval_results.items():\n",
    "    print(k, v)"
   ]
  }
 ],
 "metadata": {
  "kernelspec": {
   "display_name": "Python 3.7.3 ('venv': venv)",
   "language": "python",
   "name": "python3"
  },
  "language_info": {
   "codemirror_mode": {
    "name": "ipython",
    "version": 3
   },
   "file_extension": ".py",
   "mimetype": "text/x-python",
   "name": "python",
   "nbconvert_exporter": "python",
   "pygments_lexer": "ipython3",
   "version": "3.7.3"
  },
  "orig_nbformat": 4,
  "vscode": {
   "interpreter": {
    "hash": "66eb0ff22152a42a55105d2627a5529bd8ce21fe81b81dbad1c4e8c0b6b69aac"
   }
  }
 },
 "nbformat": 4,
 "nbformat_minor": 2
}
