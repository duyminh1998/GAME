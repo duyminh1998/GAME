{
 "cells": [
  {
   "cell_type": "markdown",
   "metadata": {},
   "source": [
    "#### Evaluating 3DMC"
   ]
  },
  {
   "cell_type": "code",
   "execution_count": 1,
   "metadata": {},
   "outputs": [],
   "source": [
    "from GAME.bin.intertask_mappings import *\n",
    "from GAME.utils.config import config\n",
    "import os\n",
    "import numpy as np"
   ]
  },
  {
   "cell_type": "code",
   "execution_count": 2,
   "metadata": {},
   "outputs": [],
   "source": [
    "config_data = config()\n",
    "\n",
    "MC2D_states = ['x_position', 'x_velocity']\n",
    "MC3D_states = ['x_position', 'x_velocity', 'y_position', 'y_velocity']\n",
    "MC2D_actions = ['Left', 'Neutral', 'Right']\n",
    "MC3D_actions = [0, 1, 2, 3, 4]\n",
    "\n",
    "# evolution parameters\n",
    "src_state_var = MC2D_states\n",
    "src_actions = MC2D_actions\n",
    "target_state_var = MC3D_states\n",
    "target_action_values = MC3D_actions\n",
    "\n",
    "src_data_path = os.path.join(config_data['data_path'], 'mountain_car', \"MC2D_transitions.csv\")\n",
    "src_data_path = os.path.join(config_data['output_path'], '12142022 2DMC Sample Collection 200 Episodes with Training', '2DMC_100_episodes_sample_data_small.csv')\n",
    "src_data_df = pd.read_csv(src_data_path, index_col = False)\n",
    "transformed_df_current_state_cols = config_data['3DMC_current_state_transition_df_col_names']\n",
    "transformed_df_next_state_cols = config_data['3DMC_next_state_transition_df_col_names']\n",
    "transformed_df_col_names = config_data['3DMC_full_transition_df_col_names']\n",
    "\n",
    "# network_folder_path = os.path.join(config_data['pickle_path'], 'neural_nets', \"mountain_car\")\n",
    "network_folder_path = os.path.join(config_data['pickle_path'], \"12142022 MC3D Neural Nets\")\n",
    "network_folder_path = os.path.join(config_data['pickle_path'], \"01072023 3DMC Transition Approx MSE\")\n",
    "eval_networks = EvaluationNetworks(network_folder_path)"
   ]
  },
  {
   "cell_type": "code",
   "execution_count": 3,
   "metadata": {},
   "outputs": [
    {
     "data": {
      "text/plain": [
       "60000"
      ]
     },
     "execution_count": 3,
     "metadata": {},
     "output_type": "execute_result"
    }
   ],
   "source": [
    "len(src_data_df)"
   ]
  },
  {
   "cell_type": "code",
   "execution_count": 97,
   "metadata": {},
   "outputs": [],
   "source": [
    "num_min_samples = src_data_df[src_data_df[\"Current-action\"] == 1].count()[0]\n",
    "num_min_samples = 20000\n",
    "\n",
    "src_df_left = src_data_df[src_data_df[\"Current-action\"] == 0]\n",
    "remove_n = src_df_left.count()[0] - num_min_samples\n",
    "drop_indices_left = np.random.choice(src_df_left.index, remove_n, replace=False)\n",
    "src_df_right = src_data_df[src_data_df[\"Current-action\"] == 2]\n",
    "remove_n = src_df_right.count()[0] - num_min_samples\n",
    "drop_indices_right = np.random.choice(src_df_right.index, remove_n, replace=False)\n",
    "src_df_neutral = src_data_df[src_data_df[\"Current-action\"] == 1]\n",
    "remove_n = src_df_neutral.count()[0] - num_min_samples\n",
    "drop_indices_neutral = np.random.choice(src_df_neutral.index, remove_n, replace=False)\n",
    "src_data_df = src_data_df.drop(list(drop_indices_left) + list(drop_indices_right) + list(drop_indices_neutral))\n",
    "src_data_df = src_data_df.reset_index(level = 0)"
   ]
  },
  {
   "cell_type": "code",
   "execution_count": 98,
   "metadata": {},
   "outputs": [
    {
     "data": {
      "text/plain": [
       "60000"
      ]
     },
     "execution_count": 98,
     "metadata": {},
     "output_type": "execute_result"
    }
   ],
   "source": [
    "len(src_data_df)"
   ]
  },
  {
   "cell_type": "code",
   "execution_count": 102,
   "metadata": {},
   "outputs": [],
   "source": [
    "src_data_df.to_csv(os.path.join(config_data['output_path'], '12142022 2DMC Sample Collection 200 Episodes with Training', '2DMC_100_episodes_sample_data_small.csv'), index=False)"
   ]
  },
  {
   "cell_type": "code",
   "execution_count": 4,
   "metadata": {},
   "outputs": [],
   "source": [
    "mapping = IntertaskMapping([0, 1, 0, 1], [1, 0, 2, 0, 2], src_state_var, src_actions, target_state_var, target_action_values)\n",
    "\n",
    "transformed_df = transform_source_dataset(src_data_df, mapping, transformed_df_col_names, target_action_values)\n",
    "\n",
    "eval_results = evaluate_mapping(mapping, transformed_df, eval_networks, transformed_df_current_state_cols, transformed_df_next_state_cols, target_action_values)"
   ]
  },
  {
   "cell_type": "code",
   "execution_count": 84,
   "metadata": {},
   "outputs": [
    {
     "data": {
      "text/html": [
       "<div>\n",
       "<style scoped>\n",
       "    .dataframe tbody tr th:only-of-type {\n",
       "        vertical-align: middle;\n",
       "    }\n",
       "\n",
       "    .dataframe tbody tr th {\n",
       "        vertical-align: top;\n",
       "    }\n",
       "\n",
       "    .dataframe thead th {\n",
       "        text-align: right;\n",
       "    }\n",
       "</style>\n",
       "<table border=\"1\" class=\"dataframe\">\n",
       "  <thead>\n",
       "    <tr style=\"text-align: right;\">\n",
       "      <th></th>\n",
       "      <th>Current-x_position</th>\n",
       "      <th>Current-x_velocity</th>\n",
       "      <th>Current-y_position</th>\n",
       "      <th>Current-y_velocity</th>\n",
       "      <th>Next-x_position</th>\n",
       "      <th>Next-x_velocity</th>\n",
       "      <th>Next-y_position</th>\n",
       "      <th>Next-y_velocity</th>\n",
       "      <th>Current-action-0</th>\n",
       "      <th>Current-action-1</th>\n",
       "      <th>Current-action-2</th>\n",
       "      <th>Current-action-3</th>\n",
       "      <th>Current-action-4</th>\n",
       "    </tr>\n",
       "  </thead>\n",
       "  <tbody>\n",
       "    <tr>\n",
       "      <th>0</th>\n",
       "      <td>-0.445959</td>\n",
       "      <td>-0.001168</td>\n",
       "      <td>-0.445959</td>\n",
       "      <td>-0.001168</td>\n",
       "      <td>-0.447705</td>\n",
       "      <td>-0.001745</td>\n",
       "      <td>-0.447705</td>\n",
       "      <td>-0.001745</td>\n",
       "      <td>1.0</td>\n",
       "      <td>0.0</td>\n",
       "      <td>0.0</td>\n",
       "      <td>0.0</td>\n",
       "      <td>0.0</td>\n",
       "    </tr>\n",
       "    <tr>\n",
       "      <th>1</th>\n",
       "      <td>-0.447705</td>\n",
       "      <td>-0.001745</td>\n",
       "      <td>-0.447705</td>\n",
       "      <td>-0.001745</td>\n",
       "      <td>-0.450014</td>\n",
       "      <td>-0.002309</td>\n",
       "      <td>-0.450014</td>\n",
       "      <td>-0.002309</td>\n",
       "      <td>1.0</td>\n",
       "      <td>0.0</td>\n",
       "      <td>0.0</td>\n",
       "      <td>0.0</td>\n",
       "      <td>0.0</td>\n",
       "    </tr>\n",
       "    <tr>\n",
       "      <th>2</th>\n",
       "      <td>-0.450014</td>\n",
       "      <td>-0.002309</td>\n",
       "      <td>-0.450014</td>\n",
       "      <td>-0.002309</td>\n",
       "      <td>-0.452871</td>\n",
       "      <td>-0.002857</td>\n",
       "      <td>-0.452871</td>\n",
       "      <td>-0.002857</td>\n",
       "      <td>1.0</td>\n",
       "      <td>0.0</td>\n",
       "      <td>0.0</td>\n",
       "      <td>0.0</td>\n",
       "      <td>0.0</td>\n",
       "    </tr>\n",
       "    <tr>\n",
       "      <th>3</th>\n",
       "      <td>-0.452871</td>\n",
       "      <td>-0.002857</td>\n",
       "      <td>-0.452871</td>\n",
       "      <td>-0.002857</td>\n",
       "      <td>-0.456254</td>\n",
       "      <td>-0.003383</td>\n",
       "      <td>-0.456254</td>\n",
       "      <td>-0.003383</td>\n",
       "      <td>1.0</td>\n",
       "      <td>0.0</td>\n",
       "      <td>0.0</td>\n",
       "      <td>0.0</td>\n",
       "      <td>0.0</td>\n",
       "    </tr>\n",
       "    <tr>\n",
       "      <th>4</th>\n",
       "      <td>-0.456254</td>\n",
       "      <td>-0.003383</td>\n",
       "      <td>-0.456254</td>\n",
       "      <td>-0.003383</td>\n",
       "      <td>-0.461139</td>\n",
       "      <td>-0.004885</td>\n",
       "      <td>-0.461139</td>\n",
       "      <td>-0.004885</td>\n",
       "      <td>0.0</td>\n",
       "      <td>1.0</td>\n",
       "      <td>0.0</td>\n",
       "      <td>1.0</td>\n",
       "      <td>0.0</td>\n",
       "    </tr>\n",
       "    <tr>\n",
       "      <th>...</th>\n",
       "      <td>...</td>\n",
       "      <td>...</td>\n",
       "      <td>...</td>\n",
       "      <td>...</td>\n",
       "      <td>...</td>\n",
       "      <td>...</td>\n",
       "      <td>...</td>\n",
       "      <td>...</td>\n",
       "      <td>...</td>\n",
       "      <td>...</td>\n",
       "      <td>...</td>\n",
       "      <td>...</td>\n",
       "      <td>...</td>\n",
       "    </tr>\n",
       "    <tr>\n",
       "      <th>14821</th>\n",
       "      <td>0.399294</td>\n",
       "      <td>0.018069</td>\n",
       "      <td>0.399294</td>\n",
       "      <td>0.018069</td>\n",
       "      <td>0.417452</td>\n",
       "      <td>0.018159</td>\n",
       "      <td>0.417452</td>\n",
       "      <td>0.018159</td>\n",
       "      <td>0.0</td>\n",
       "      <td>0.0</td>\n",
       "      <td>1.0</td>\n",
       "      <td>0.0</td>\n",
       "      <td>1.0</td>\n",
       "    </tr>\n",
       "    <tr>\n",
       "      <th>14822</th>\n",
       "      <td>0.417452</td>\n",
       "      <td>0.018159</td>\n",
       "      <td>0.417452</td>\n",
       "      <td>0.018159</td>\n",
       "      <td>0.435828</td>\n",
       "      <td>0.018376</td>\n",
       "      <td>0.435828</td>\n",
       "      <td>0.018376</td>\n",
       "      <td>0.0</td>\n",
       "      <td>0.0</td>\n",
       "      <td>1.0</td>\n",
       "      <td>0.0</td>\n",
       "      <td>1.0</td>\n",
       "    </tr>\n",
       "    <tr>\n",
       "      <th>14823</th>\n",
       "      <td>0.435828</td>\n",
       "      <td>0.018376</td>\n",
       "      <td>0.435828</td>\n",
       "      <td>0.018376</td>\n",
       "      <td>0.454553</td>\n",
       "      <td>0.018725</td>\n",
       "      <td>0.454553</td>\n",
       "      <td>0.018725</td>\n",
       "      <td>0.0</td>\n",
       "      <td>0.0</td>\n",
       "      <td>1.0</td>\n",
       "      <td>0.0</td>\n",
       "      <td>1.0</td>\n",
       "    </tr>\n",
       "    <tr>\n",
       "      <th>14824</th>\n",
       "      <td>0.473764</td>\n",
       "      <td>0.019211</td>\n",
       "      <td>0.473764</td>\n",
       "      <td>0.019211</td>\n",
       "      <td>0.493603</td>\n",
       "      <td>0.019839</td>\n",
       "      <td>0.493603</td>\n",
       "      <td>0.019839</td>\n",
       "      <td>0.0</td>\n",
       "      <td>0.0</td>\n",
       "      <td>1.0</td>\n",
       "      <td>0.0</td>\n",
       "      <td>1.0</td>\n",
       "    </tr>\n",
       "    <tr>\n",
       "      <th>14825</th>\n",
       "      <td>0.493603</td>\n",
       "      <td>0.019839</td>\n",
       "      <td>0.493603</td>\n",
       "      <td>0.019839</td>\n",
       "      <td>0.514217</td>\n",
       "      <td>0.000000</td>\n",
       "      <td>0.514217</td>\n",
       "      <td>0.000000</td>\n",
       "      <td>0.0</td>\n",
       "      <td>0.0</td>\n",
       "      <td>1.0</td>\n",
       "      <td>0.0</td>\n",
       "      <td>1.0</td>\n",
       "    </tr>\n",
       "  </tbody>\n",
       "</table>\n",
       "<p>14826 rows × 13 columns</p>\n",
       "</div>"
      ],
      "text/plain": [
       "       Current-x_position  Current-x_velocity  Current-y_position  \\\n",
       "0               -0.445959           -0.001168           -0.445959   \n",
       "1               -0.447705           -0.001745           -0.447705   \n",
       "2               -0.450014           -0.002309           -0.450014   \n",
       "3               -0.452871           -0.002857           -0.452871   \n",
       "4               -0.456254           -0.003383           -0.456254   \n",
       "...                   ...                 ...                 ...   \n",
       "14821            0.399294            0.018069            0.399294   \n",
       "14822            0.417452            0.018159            0.417452   \n",
       "14823            0.435828            0.018376            0.435828   \n",
       "14824            0.473764            0.019211            0.473764   \n",
       "14825            0.493603            0.019839            0.493603   \n",
       "\n",
       "       Current-y_velocity  Next-x_position  Next-x_velocity  Next-y_position  \\\n",
       "0               -0.001168        -0.447705        -0.001745        -0.447705   \n",
       "1               -0.001745        -0.450014        -0.002309        -0.450014   \n",
       "2               -0.002309        -0.452871        -0.002857        -0.452871   \n",
       "3               -0.002857        -0.456254        -0.003383        -0.456254   \n",
       "4               -0.003383        -0.461139        -0.004885        -0.461139   \n",
       "...                   ...              ...              ...              ...   \n",
       "14821            0.018069         0.417452         0.018159         0.417452   \n",
       "14822            0.018159         0.435828         0.018376         0.435828   \n",
       "14823            0.018376         0.454553         0.018725         0.454553   \n",
       "14824            0.019211         0.493603         0.019839         0.493603   \n",
       "14825            0.019839         0.514217         0.000000         0.514217   \n",
       "\n",
       "       Next-y_velocity  Current-action-0  Current-action-1  Current-action-2  \\\n",
       "0            -0.001745               1.0               0.0               0.0   \n",
       "1            -0.002309               1.0               0.0               0.0   \n",
       "2            -0.002857               1.0               0.0               0.0   \n",
       "3            -0.003383               1.0               0.0               0.0   \n",
       "4            -0.004885               0.0               1.0               0.0   \n",
       "...                ...               ...               ...               ...   \n",
       "14821         0.018159               0.0               0.0               1.0   \n",
       "14822         0.018376               0.0               0.0               1.0   \n",
       "14823         0.018725               0.0               0.0               1.0   \n",
       "14824         0.019839               0.0               0.0               1.0   \n",
       "14825         0.000000               0.0               0.0               1.0   \n",
       "\n",
       "       Current-action-3  Current-action-4  \n",
       "0                   0.0               0.0  \n",
       "1                   0.0               0.0  \n",
       "2                   0.0               0.0  \n",
       "3                   0.0               0.0  \n",
       "4                   1.0               0.0  \n",
       "...                 ...               ...  \n",
       "14821               0.0               1.0  \n",
       "14822               0.0               1.0  \n",
       "14823               0.0               1.0  \n",
       "14824               0.0               1.0  \n",
       "14825               0.0               1.0  \n",
       "\n",
       "[14826 rows x 13 columns]"
      ]
     },
     "execution_count": 84,
     "metadata": {},
     "output_type": "execute_result"
    }
   ],
   "source": [
    "transformed_df"
   ]
  },
  {
   "cell_type": "code",
   "execution_count": 5,
   "metadata": {},
   "outputs": [
    {
     "name": "stdout",
     "output_type": "stream",
     "text": [
      "[0.9999445868986845]\n"
     ]
    }
   ],
   "source": [
    "mapping = IntertaskMapping([0, 1, 0, 1], [1, 0, 2, 0, 2], src_state_var, src_actions, target_state_var, target_action_values)\n",
    "\n",
    "transformed_df = transform_source_dataset(src_data_df, mapping, transformed_df_col_names, target_action_values)\n",
    "\n",
    "eval_results = evaluate_mapping(mapping, transformed_df, eval_networks, transformed_df_current_state_cols, transformed_df_next_state_cols, target_action_values)\n",
    "\n",
    "print(parse_mapping_eval_scores(eval_results))"
   ]
  },
  {
   "cell_type": "code",
   "execution_count": 100,
   "metadata": {},
   "outputs": [
    {
     "name": "stdout",
     "output_type": "stream",
     "text": [
      "[0.9999445868986617]\n"
     ]
    }
   ],
   "source": [
    "mapping = IntertaskMapping([0, 1, 0, 1], [1, 0, 2, 0, 2], src_state_var, src_actions, target_state_var, target_action_values)\n",
    "\n",
    "transformed_df = transform_source_dataset(src_data_df, mapping, transformed_df_col_names, target_action_values)\n",
    "\n",
    "eval_results = evaluate_mapping(mapping, transformed_df, eval_networks, transformed_df_current_state_cols, transformed_df_next_state_cols, target_action_values)\n",
    "\n",
    "print(parse_mapping_eval_scores(eval_results))"
   ]
  },
  {
   "cell_type": "code",
   "execution_count": 101,
   "metadata": {},
   "outputs": [
    {
     "name": "stdout",
     "output_type": "stream",
     "text": [
      "[0.999943681963089]\n"
     ]
    }
   ],
   "source": [
    "mapping = IntertaskMapping([0, 1, 0, 1], [0, 0, 0, 0, 0], src_state_var, src_actions, target_state_var, target_action_values)\n",
    "\n",
    "transformed_df = transform_source_dataset(src_data_df, mapping, transformed_df_col_names, target_action_values)\n",
    "\n",
    "eval_results = evaluate_mapping(mapping, transformed_df, eval_networks, transformed_df_current_state_cols, transformed_df_next_state_cols, target_action_values)\n",
    "\n",
    "print(parse_mapping_eval_scores(eval_results))"
   ]
  },
  {
   "cell_type": "code",
   "execution_count": 81,
   "metadata": {},
   "outputs": [
    {
     "data": {
      "text/html": [
       "<div>\n",
       "<style scoped>\n",
       "    .dataframe tbody tr th:only-of-type {\n",
       "        vertical-align: middle;\n",
       "    }\n",
       "\n",
       "    .dataframe tbody tr th {\n",
       "        vertical-align: top;\n",
       "    }\n",
       "\n",
       "    .dataframe thead th {\n",
       "        text-align: right;\n",
       "    }\n",
       "</style>\n",
       "<table border=\"1\" class=\"dataframe\">\n",
       "  <thead>\n",
       "    <tr style=\"text-align: right;\">\n",
       "      <th></th>\n",
       "      <th>Current-x_position</th>\n",
       "      <th>Current-x_velocity</th>\n",
       "      <th>Current-y_position</th>\n",
       "      <th>Current-y_velocity</th>\n",
       "      <th>Next-x_position</th>\n",
       "      <th>Next-x_velocity</th>\n",
       "      <th>Next-y_position</th>\n",
       "      <th>Next-y_velocity</th>\n",
       "      <th>Current-action-0</th>\n",
       "      <th>Current-action-1</th>\n",
       "      <th>Current-action-2</th>\n",
       "      <th>Current-action-3</th>\n",
       "      <th>Current-action-4</th>\n",
       "    </tr>\n",
       "  </thead>\n",
       "  <tbody>\n",
       "    <tr>\n",
       "      <th>0</th>\n",
       "      <td>-0.445959</td>\n",
       "      <td>-0.001168</td>\n",
       "      <td>-0.445959</td>\n",
       "      <td>-0.001168</td>\n",
       "      <td>-0.447705</td>\n",
       "      <td>-0.001745</td>\n",
       "      <td>-0.447705</td>\n",
       "      <td>-0.001745</td>\n",
       "      <td>0.0</td>\n",
       "      <td>0.0</td>\n",
       "      <td>0.0</td>\n",
       "      <td>0.0</td>\n",
       "      <td>0.0</td>\n",
       "    </tr>\n",
       "    <tr>\n",
       "      <th>1</th>\n",
       "      <td>-0.447705</td>\n",
       "      <td>-0.001745</td>\n",
       "      <td>-0.447705</td>\n",
       "      <td>-0.001745</td>\n",
       "      <td>-0.450014</td>\n",
       "      <td>-0.002309</td>\n",
       "      <td>-0.450014</td>\n",
       "      <td>-0.002309</td>\n",
       "      <td>0.0</td>\n",
       "      <td>0.0</td>\n",
       "      <td>0.0</td>\n",
       "      <td>0.0</td>\n",
       "      <td>0.0</td>\n",
       "    </tr>\n",
       "    <tr>\n",
       "      <th>2</th>\n",
       "      <td>-0.450014</td>\n",
       "      <td>-0.002309</td>\n",
       "      <td>-0.450014</td>\n",
       "      <td>-0.002309</td>\n",
       "      <td>-0.452871</td>\n",
       "      <td>-0.002857</td>\n",
       "      <td>-0.452871</td>\n",
       "      <td>-0.002857</td>\n",
       "      <td>0.0</td>\n",
       "      <td>0.0</td>\n",
       "      <td>0.0</td>\n",
       "      <td>0.0</td>\n",
       "      <td>0.0</td>\n",
       "    </tr>\n",
       "    <tr>\n",
       "      <th>3</th>\n",
       "      <td>-0.452871</td>\n",
       "      <td>-0.002857</td>\n",
       "      <td>-0.452871</td>\n",
       "      <td>-0.002857</td>\n",
       "      <td>-0.456254</td>\n",
       "      <td>-0.003383</td>\n",
       "      <td>-0.456254</td>\n",
       "      <td>-0.003383</td>\n",
       "      <td>0.0</td>\n",
       "      <td>0.0</td>\n",
       "      <td>0.0</td>\n",
       "      <td>0.0</td>\n",
       "      <td>0.0</td>\n",
       "    </tr>\n",
       "    <tr>\n",
       "      <th>4</th>\n",
       "      <td>-0.456254</td>\n",
       "      <td>-0.003383</td>\n",
       "      <td>-0.456254</td>\n",
       "      <td>-0.003383</td>\n",
       "      <td>-0.461139</td>\n",
       "      <td>-0.004885</td>\n",
       "      <td>-0.461139</td>\n",
       "      <td>-0.004885</td>\n",
       "      <td>1.0</td>\n",
       "      <td>1.0</td>\n",
       "      <td>1.0</td>\n",
       "      <td>1.0</td>\n",
       "      <td>1.0</td>\n",
       "    </tr>\n",
       "  </tbody>\n",
       "</table>\n",
       "</div>"
      ],
      "text/plain": [
       "   Current-x_position  Current-x_velocity  Current-y_position  \\\n",
       "0           -0.445959           -0.001168           -0.445959   \n",
       "1           -0.447705           -0.001745           -0.447705   \n",
       "2           -0.450014           -0.002309           -0.450014   \n",
       "3           -0.452871           -0.002857           -0.452871   \n",
       "4           -0.456254           -0.003383           -0.456254   \n",
       "\n",
       "   Current-y_velocity  Next-x_position  Next-x_velocity  Next-y_position  \\\n",
       "0           -0.001168        -0.447705        -0.001745        -0.447705   \n",
       "1           -0.001745        -0.450014        -0.002309        -0.450014   \n",
       "2           -0.002309        -0.452871        -0.002857        -0.452871   \n",
       "3           -0.002857        -0.456254        -0.003383        -0.456254   \n",
       "4           -0.003383        -0.461139        -0.004885        -0.461139   \n",
       "\n",
       "   Next-y_velocity  Current-action-0  Current-action-1  Current-action-2  \\\n",
       "0        -0.001745               0.0               0.0               0.0   \n",
       "1        -0.002309               0.0               0.0               0.0   \n",
       "2        -0.002857               0.0               0.0               0.0   \n",
       "3        -0.003383               0.0               0.0               0.0   \n",
       "4        -0.004885               1.0               1.0               1.0   \n",
       "\n",
       "   Current-action-3  Current-action-4  \n",
       "0               0.0               0.0  \n",
       "1               0.0               0.0  \n",
       "2               0.0               0.0  \n",
       "3               0.0               0.0  \n",
       "4               1.0               1.0  "
      ]
     },
     "execution_count": 81,
     "metadata": {},
     "output_type": "execute_result"
    }
   ],
   "source": [
    "transformed_df.head()"
   ]
  },
  {
   "cell_type": "code",
   "execution_count": 22,
   "metadata": {},
   "outputs": [
    {
     "name": "stdout",
     "output_type": "stream",
     "text": [
      "[0.999632018778979]\n"
     ]
    }
   ],
   "source": [
    "print(parse_mapping_eval_scores(eval_results))"
   ]
  },
  {
   "cell_type": "code",
   "execution_count": 99,
   "metadata": {},
   "outputs": [
    {
     "name": "stdout",
     "output_type": "stream",
     "text": [
      "[0.8208388944232995]\n"
     ]
    }
   ],
   "source": [
    "print(parse_mapping_eval_scores(eval_results))"
   ]
  },
  {
   "cell_type": "code",
   "execution_count": 64,
   "metadata": {},
   "outputs": [
    {
     "data": {
      "text/plain": [
       "{'0--Next-x_position': 0.9996365345062659,\n",
       " '0--Next-x_velocity': 0.9999147884052522,\n",
       " '0--Next-y_position': 0.9999579586607795,\n",
       " '0--Next-y_velocity': 0.9999958375860888,\n",
       " '1--Next-x_position': 0.9993169961671527,\n",
       " '1--Next-x_velocity': 0.9997771319867677,\n",
       " '1--Next-y_position': 0.9989816803527768,\n",
       " '1--Next-y_velocity': 0.9999913428013781,\n",
       " '2--Next-x_position': 0.9996182054775111,\n",
       " '2--Next-x_velocity': 0.9999281911459168,\n",
       " '2--Next-y_position': 0.999968632559012,\n",
       " '2--Next-y_velocity': 0.9998100674685203,\n",
       " '3--Next-x_position': 0.9989166044709156,\n",
       " '3--Next-x_velocity': 0.9999885145091619,\n",
       " '3--Next-y_position': 0.9989099008996224,\n",
       " '3--Next-y_velocity': 0.9999908372720023,\n",
       " '4--Next-x_position': 0.998926018113497,\n",
       " '4--Next-x_velocity': 0.9999916533530876,\n",
       " '4--Next-y_position': 0.9999278873332571,\n",
       " '4--Next-y_velocity': 0.9999893851788749}"
      ]
     },
     "execution_count": 64,
     "metadata": {},
     "output_type": "execute_result"
    }
   ],
   "source": [
    "eval_results"
   ]
  },
  {
   "cell_type": "markdown",
   "metadata": {},
   "source": [
    "#### Evaluating 4v3 mappings"
   ]
  },
  {
   "cell_type": "code",
   "execution_count": 1,
   "metadata": {},
   "outputs": [],
   "source": [
    "from GAME.bin.intertask_mappings import *\n",
    "from GAME.utils.config import config\n",
    "from itertools import product\n",
    "from sklearn.preprocessing import MinMaxScaler"
   ]
  },
  {
   "cell_type": "code",
   "execution_count": 2,
   "metadata": {},
   "outputs": [],
   "source": [
    "def agg_res(eval_results:dict, state:str=None, action:int=None, strategy:str='average') -> dict:\n",
    "    agg_results = {}\n",
    "    state_agg = []\n",
    "    action_agg = []\n",
    "    for k, v in eval_results.items():\n",
    "        key_split = k.split('--')\n",
    "        key_state = key_split[1].split('-')[1]\n",
    "        key_action = key_split[0]\n",
    "        if state and state == key_state:\n",
    "            state_agg.append(v)\n",
    "        if action and str(action) == key_action:\n",
    "            action_agg.append(v)\n",
    "    if strategy == 'average':\n",
    "        if state:\n",
    "            agg_results[state] = np.mean(state_agg)\n",
    "        if action:\n",
    "            agg_results[action] = np.mean(action_agg)\n",
    "    if strategy == 'best':\n",
    "        if state:\n",
    "            agg_results[state] = np.max(state_agg)\n",
    "        if action:\n",
    "            agg_results[action] = np.max(action_agg)\n",
    "\n",
    "    return agg_results"
   ]
  },
  {
   "cell_type": "code",
   "execution_count": 21,
   "metadata": {},
   "outputs": [],
   "source": [
    "# load config data\n",
    "config_data = config()\n",
    "\n",
    "src_state_var_names = config_data['3v2_state_names']\n",
    "src_action_names = config_data['3v2_action_names']\n",
    "src_action_values = config_data['3v2_action_values']\n",
    "target_state_var_names = config_data['4v3_state_names']\n",
    "target_action_names = config_data['4v3_action_names']\n",
    "target_action_values = config_data['4v3_action_values']\n",
    "\n",
    "# mapping = IntertaskMapping([0 for _ in range(19)], [0, 1, 2, 2], src_state_var_names, src_action_names, target_state_var_names, target_action_names)\n",
    "# mapping = IntertaskMapping([11, 1, 2, 2, 3, 4, 4, 5, 6, 6, 7, 8, 8, 9, 10, 10, 11, 12, 12], [0, 1, 2, 2], src_state_var_names, src_action_names, target_state_var_names, target_action_names)\n",
    "\n",
    "src_data_path = os.path.join(config_data['data_path'], 'keepaway', \"keepaway_3v2_transitions.csv\")\n",
    "src_data_df = pd.read_csv(src_data_path, index_col = False)\n",
    "transformed_df_col_names = config_data['4v3_full_transition_df_col_names']\n",
    "\n",
    "feature_scaler = MinMaxScaler()\n",
    "feature_names = ['Current-{}'.format(feature) for feature in src_state_var_names]\n",
    "feature_scaler.fit(src_data_df[feature_names])\n",
    "src_data_df[feature_names] = feature_scaler.transform(src_data_df[feature_names])\n",
    "\n",
    "target_scaler = MinMaxScaler()\n",
    "target_names = ['Next-{}'.format(feature) for feature in src_state_var_names]\n",
    "target_scaler.fit(src_data_df[target_names])\n",
    "src_data_df[target_names] = target_scaler.transform(src_data_df[target_names])\n",
    "\n",
    "# transformed_df = transform_source_dataset(src_data_df, mapping, transformed_df_col_names, target_action_values)\n",
    "# transformed_df_out_path = \"C:\\\\Users\\\\minhh\\\\Documents\\\\JHU\\\\Fall 2022\\\\Evolutionary and Swarm Intelligence\\\\src\\\\GAME\\\\output\\\\11022022 Transformed Source Data 3DMC\\\\transformed_df.csv\"\n",
    "# transformed_df.to_csv(transformed_df_out_path, index = False)\n",
    "\n",
    "network_folder_path = os.path.join(config_data['pickle_path'], 'neural_nets', \"keepaway\")\n",
    "eval_networks = EvaluationNetworks(network_folder_path)\n",
    "# test_mlp = eval_networks.get_network(0, 'Next_x_position')\n",
    "\n",
    "transformed_df_current_state_cols = config_data['4v3_current_state_transition_df_col_names']\n",
    "transformed_df_next_state_cols = config_data['4v3_next_state_transition_df_col_names']\n",
    "\n",
    "# eval_results = evaluate_mapping(mapping, transformed_df, eval_networks, transformed_df_current_state_cols, transformed_df_next_state_cols, target_action_values)"
   ]
  },
  {
   "cell_type": "code",
   "execution_count": null,
   "metadata": {},
   "outputs": [],
   "source": [
    "state_mapping = [0, 1, 2, 2, 3, 4, 4, 5, 6, 6, 7, 8, 8, 9, 10, 10, 11, 12, 12]\n",
    "state_mapping = np.random.choice(13, size = 19)\n",
    "\n",
    "for action_mapping in product(src_action_values, repeat = len(target_action_values)):\n",
    "    mapping = IntertaskMapping(state_mapping, action_mapping, src_state_var_names, src_action_names, target_state_var_names, target_action_names)\n",
    "\n",
    "    transformed_df = transform_source_dataset(src_data_df, mapping, transformed_df_col_names, target_action_values)\n",
    "\n",
    "    eval_results = evaluate_mapping(mapping, transformed_df, eval_networks, transformed_df_current_state_cols, transformed_df_next_state_cols, target_action_values)\n",
    "\n",
    "    print(\"Action mapping: {}, Results: {}\".format(action_mapping, parse_mapping_eval_scores(eval_results)))"
   ]
  },
  {
   "cell_type": "code",
   "execution_count": 24,
   "metadata": {},
   "outputs": [],
   "source": [
    "state_mapping = [0, 1, 2, 2, 3, 4, 4, 5, 6, 6, 7, 8, 8, 9, 10, 10, 11, 12, 12]\n",
    "# state_mapping = [0 for _ in range(19)]\n",
    "action_mapping = [0, 1, 2, 2]\n",
    "mapping = IntertaskMapping(state_mapping, action_mapping, src_state_var_names, src_action_names, target_state_var_names, target_action_names)\n",
    "\n",
    "transformed_df = transform_source_dataset(src_data_df, mapping, transformed_df_col_names, target_action_values)\n",
    "\n",
    "eval_results = evaluate_mapping(mapping, transformed_df, eval_networks, transformed_df_current_state_cols, transformed_df_next_state_cols, target_action_values)"
   ]
  },
  {
   "cell_type": "code",
   "execution_count": 25,
   "metadata": {},
   "outputs": [
    {
     "name": "stdout",
     "output_type": "stream",
     "text": [
      "[0.7288566720658226]\n"
     ]
    }
   ],
   "source": [
    "print(parse_mapping_eval_scores(eval_results))"
   ]
  },
  {
   "cell_type": "code",
   "execution_count": 26,
   "metadata": {},
   "outputs": [
    {
     "name": "stdout",
     "output_type": "stream",
     "text": [
      "{'dist(K1,C)': 0.8722644839350171}\n",
      "{'dist(K1,K2)': -0.22939281778175027}\n",
      "{'dist(K1,K3)': 0.8424341522855624}\n",
      "{'dist(K1,K4)': 0.9286357208327285}\n",
      "{'dist(K1,T1)': 0.825480264121766}\n",
      "{'dist(K1,T2)': 0.8231096644799776}\n",
      "{'dist(K1,T3)': 0.8276272203865441}\n",
      "{'dist(K2,C)': 0.6698307880330103}\n",
      "{'dist(K3,C)': 0.7540449851072928}\n",
      "{'dist(K4,C)': 0.8598177118728227}\n",
      "{'dist(T1,C)': 0.922598368239199}\n",
      "{'dist(T2,C)': 0.9282651407342403}\n",
      "{'dist(T3,C)': 0.9304682075749454}\n",
      "{'Min(dist(K2,T1),dist(K2,T2),dist(K2,T3))': 0.7970593744195932}\n",
      "{'Min(dist(K3,T1),dist(K3,T2),dist(K3,T3))': 0.6786768532653569}\n",
      "{'Min(dist(K4,T1),dist(K4,T2),dist(K4,T3))': -0.17427110914843588}\n",
      "{'Min(ang(K2,K1,T1),ang(K2,K1,T2),ang(K2,K1,T3))': 0.9465057040889643}\n",
      "{'Min(ang(K3,K1,T1),ang(K3,K1,T2),ang(K3,K1,T3))': 0.7738532579239163}\n",
      "{'Min(ang(K4,K1,T1),ang(K4,K1,T2),ang(K4,K1,T3))': 0.8712687988798752}\n"
     ]
    }
   ],
   "source": [
    "for state in target_state_var_names:\n",
    "    print(agg_res(eval_results, state, None, 'average'))"
   ]
  },
  {
   "cell_type": "code",
   "execution_count": 28,
   "metadata": {},
   "outputs": [],
   "source": [
    "# GAME\n",
    "state_mapping = [0, 11, 5, 0, 4, 3, 4, 9, 6, 6, 7, 9, 9, 8, 2, 4, 11, 10, 9]\n",
    "# state_mapping = [0 for _ in range(19)]\n",
    "action_mapping = [0, 0, 0, 0]\n",
    "mapping = IntertaskMapping(state_mapping, action_mapping, src_state_var_names, src_action_names, target_state_var_names, target_action_names)\n",
    "\n",
    "transformed_df = transform_source_dataset(src_data_df, mapping, transformed_df_col_names, target_action_values)\n",
    "\n",
    "eval_results = evaluate_mapping(mapping, transformed_df, eval_networks, transformed_df_current_state_cols, transformed_df_next_state_cols, target_action_values)"
   ]
  },
  {
   "cell_type": "code",
   "execution_count": 29,
   "metadata": {},
   "outputs": [
    {
     "name": "stdout",
     "output_type": "stream",
     "text": [
      "[0.9094175953584726]\n"
     ]
    }
   ],
   "source": [
    "print(parse_mapping_eval_scores(eval_results))"
   ]
  },
  {
   "cell_type": "code",
   "execution_count": 30,
   "metadata": {},
   "outputs": [
    {
     "name": "stdout",
     "output_type": "stream",
     "text": [
      "{'dist(K1,C)': 0.8984891033086441}\n",
      "{'dist(K1,K2)': 0.9832637591162632}\n",
      "{'dist(K1,K3)': 0.7849590820300703}\n",
      "{'dist(K1,K4)': 0.954064586502867}\n",
      "{'dist(K1,T1)': 0.8867525246875843}\n",
      "{'dist(K1,T2)': 0.9106655510397274}\n",
      "{'dist(K1,T3)': 0.9243453270534202}\n",
      "{'dist(K2,C)': 0.8889423560018718}\n",
      "{'dist(K3,C)': 0.9271890722436928}\n",
      "{'dist(K4,C)': 0.9442787800076675}\n",
      "{'dist(T1,C)': 0.8949127149320598}\n",
      "{'dist(T2,C)': 0.9360098592514783}\n",
      "{'dist(T3,C)': 0.9502627358934586}\n",
      "{'Min(dist(K2,T1),dist(K2,T2),dist(K2,T3))': 0.739350172055359}\n",
      "{'Min(dist(K3,T1),dist(K3,T2),dist(K3,T3))': 0.8737771738760037}\n",
      "{'Min(dist(K4,T1),dist(K4,T2),dist(K4,T3))': 0.9439320299226585}\n",
      "{'Min(ang(K2,K1,T1),ang(K2,K1,T2),ang(K2,K1,T3))': 0.9525089079653637}\n",
      "{'Min(ang(K3,K1,T1),ang(K3,K1,T2),ang(K3,K1,T3))': 0.9239104302786245}\n",
      "{'Min(ang(K4,K1,T1),ang(K4,K1,T2),ang(K4,K1,T3))': 0.9613201456441616}\n"
     ]
    }
   ],
   "source": [
    "for state in target_state_var_names:\n",
    "    print(agg_res(eval_results, state, None, 'average'))"
   ]
  },
  {
   "cell_type": "code",
   "execution_count": null,
   "metadata": {},
   "outputs": [],
   "source": []
  },
  {
   "cell_type": "code",
   "execution_count": 13,
   "metadata": {},
   "outputs": [
    {
     "name": "stdout",
     "output_type": "stream",
     "text": [
      "{'dist(K1,C)': 0.49881693885453054}\n",
      "{'dist(K1,K2)': -0.3500011293129991}\n",
      "{'dist(K1,K3)': 0.4865951172581645}\n",
      "{'dist(K1,K4)': 0.5711864998094486}\n",
      "{'dist(K1,T1)': 0.412767853771606}\n",
      "{'dist(K1,T2)': 0.4277775505462874}\n",
      "{'dist(K1,T3)': 0.3925239806523952}\n",
      "{'dist(K2,C)': 0.6575082449014189}\n",
      "{'dist(K3,C)': 0.488432748544326}\n",
      "{'dist(K4,C)': 0.6371720118516084}\n",
      "{'dist(T1,C)': 0.4963605488009031}\n",
      "{'dist(T2,C)': 0.49763661988783015}\n",
      "{'dist(T3,C)': 0.48662396797778407}\n",
      "{'Min(dist(K2,T1),dist(K2,T2),dist(K2,T3))': 0.5987640349561779}\n",
      "{'Min(dist(K3,T1),dist(K3,T2),dist(K3,T3))': 0.6503778129774447}\n",
      "{'Min(dist(K4,T1),dist(K4,T2),dist(K4,T3))': 0.2190113116089851}\n",
      "{'Min(ang(K2,K1,T1),ang(K2,K1,T2),ang(K2,K1,T3))': 0.8303647337685836}\n",
      "{'Min(ang(K3,K1,T1),ang(K3,K1,T2),ang(K3,K1,T3))': 0.536035884773041}\n",
      "{'Min(ang(K4,K1,T1),ang(K4,K1,T2),ang(K4,K1,T3))': 0.7295451004304401}\n"
     ]
    }
   ],
   "source": [
    "for state in target_state_var_names:\n",
    "    print(agg_res(eval_results, state, None, 'average'))"
   ]
  },
  {
   "cell_type": "code",
   "execution_count": 14,
   "metadata": {},
   "outputs": [
    {
     "name": "stdout",
     "output_type": "stream",
     "text": [
      "{'0': 0.5970050794532115}\n",
      "{'1': 0.46486781561206886}\n",
      "{'2': 0.4557285154566266}\n",
      "{'3': 0.4334511857008248}\n"
     ]
    }
   ],
   "source": [
    "for action in target_action_values:\n",
    "    print(agg_res(eval_results, None, str(action), 'average'))"
   ]
  },
  {
   "cell_type": "code",
   "execution_count": 16,
   "metadata": {},
   "outputs": [
    {
     "name": "stdout",
     "output_type": "stream",
     "text": [
      "{'0': 0.5970050794532115}\n",
      "{'1': 0.6328943303695123}\n",
      "{'2': 0.6278508153150593}\n",
      "{'3': 0.5919189748063395}\n"
     ]
    }
   ],
   "source": [
    "for action in target_action_values:\n",
    "    print(agg_res(eval_results, None, str(action), 'average'))"
   ]
  },
  {
   "cell_type": "code",
   "execution_count": null,
   "metadata": {},
   "outputs": [],
   "source": [
    "state = 'dist(K1,C)'\n",
    "action = '0'"
   ]
  },
  {
   "cell_type": "code",
   "execution_count": 7,
   "metadata": {},
   "outputs": [
    {
     "name": "stdout",
     "output_type": "stream",
     "text": [
      "0--Next-dist(K1,C) 0.5565052148801035\n",
      "0--Next-dist(K1,K2) 0.9233535665106078\n",
      "0--Next-dist(K1,K3) 0.9649852551019529\n",
      "0--Next-dist(K1,K4) 0.853310103439609\n",
      "0--Next-dist(K1,T1) 0.6395998534270293\n",
      "0--Next-dist(K1,T2) 0.8772711177089803\n",
      "0--Next-dist(K1,T3) 0.8463707785670385\n",
      "0--Next-dist(K2,C) 0.9146010356947873\n",
      "0--Next-dist(K3,C) 0.8934455980799146\n",
      "0--Next-dist(K4,C) -9.121264605889044\n",
      "0--Next-dist(T1,C) 0.19186391483142595\n",
      "0--Next-dist(T2,C) 0.8462037608124144\n",
      "0--Next-dist(T3,C) 0.7670662733368777\n",
      "0--Next-Min(dist(K2,T1),dist(K2,T2),dist(K2,T3)) 0.8671977978044136\n",
      "0--Next-Min(dist(K3,T1),dist(K3,T2),dist(K3,T3)) 0.7494318067170905\n",
      "0--Next-Min(dist(K4,T1),dist(K4,T2),dist(K4,T3)) 0.7978817797390454\n",
      "0--Next-Min(ang(K2,K1,T1),ang(K2,K1,T2),ang(K2,K1,T3)) 0.2854170578096962\n",
      "0--Next-Min(ang(K3,K1,T1),ang(K3,K1,T2),ang(K3,K1,T3)) 0.15549082839276507\n",
      "0--Next-Min(ang(K4,K1,T1),ang(K4,K1,T2),ang(K4,K1,T3)) 0.6990632346124325\n",
      "1--Next-dist(K1,C) 0.9387862035367304\n",
      "1--Next-dist(K1,K2) -7.412251696456286\n",
      "1--Next-dist(K1,K3) 0.9504825142882413\n",
      "1--Next-dist(K1,K4) 0.9502515744532509\n",
      "1--Next-dist(K1,T1) 0.9436344222698605\n",
      "1--Next-dist(K1,T2) 0.9445318763204438\n",
      "1--Next-dist(K1,T3) 0.9094119857973659\n",
      "1--Next-dist(K2,C) 0.8820743105783951\n",
      "1--Next-dist(K3,C) 0.9197701974448943\n",
      "1--Next-dist(K4,C) 0.9274316412765594\n",
      "1--Next-dist(T1,C) 0.7957622976328892\n",
      "1--Next-dist(T2,C) 0.8072010196401849\n",
      "1--Next-dist(T3,C) 0.9340912758043382\n",
      "1--Next-Min(dist(K2,T1),dist(K2,T2),dist(K2,T3)) 0.9367829292483867\n",
      "1--Next-Min(dist(K3,T1),dist(K3,T2),dist(K3,T3)) 0.8586455837506577\n",
      "1--Next-Min(dist(K4,T1),dist(K4,T2),dist(K4,T3)) 0.9491498692805644\n",
      "1--Next-Min(ang(K2,K1,T1),ang(K2,K1,T2),ang(K2,K1,T3)) 0.8461417096074775\n",
      "1--Next-Min(ang(K3,K1,T1),ang(K3,K1,T2),ang(K3,K1,T3)) 0.7887157211770004\n",
      "1--Next-Min(ang(K4,K1,T1),ang(K4,K1,T2),ang(K4,K1,T3)) 0.8827149451707164\n",
      "2--Next-dist(K1,C) 0.8103155690489694\n",
      "2--Next-dist(K1,K2) 0.8932610104058285\n",
      "2--Next-dist(K1,K3) 0.9097502349558048\n",
      "2--Next-dist(K1,K4) 0.862263063725195\n",
      "2--Next-dist(K1,T1) 0.8049060847344338\n",
      "2--Next-dist(K1,T2) 0.824871287566878\n",
      "2--Next-dist(K1,T3) 0.8198225143425374\n",
      "2--Next-dist(K2,C) 0.9447656136201122\n",
      "2--Next-dist(K3,C) 0.850767918009355\n",
      "2--Next-dist(K4,C) 0.9016721033839588\n",
      "2--Next-dist(T1,C) 0.9000463403603816\n",
      "2--Next-dist(T2,C) 0.9146914463159594\n",
      "2--Next-dist(T3,C) 0.8833530220803401\n",
      "2--Next-Min(dist(K2,T1),dist(K2,T2),dist(K2,T3)) 0.9504820651773498\n",
      "2--Next-Min(dist(K3,T1),dist(K3,T2),dist(K3,T3)) 0.8463737045852245\n",
      "2--Next-Min(dist(K4,T1),dist(K4,T2),dist(K4,T3)) 0.9643530610388268\n",
      "2--Next-Min(ang(K2,K1,T1),ang(K2,K1,T2),ang(K2,K1,T3)) 0.9656267307799763\n",
      "2--Next-Min(ang(K3,K1,T1),ang(K3,K1,T2),ang(K3,K1,T3)) 0.7560733647649078\n",
      "2--Next-Min(ang(K4,K1,T1),ang(K4,K1,T2),ang(K4,K1,T3)) 0.9314275964169537\n",
      "3--Next-dist(K1,C) 0.6521696877118329\n",
      "3--Next-dist(K1,K2) 0.8996220801222129\n",
      "3--Next-dist(K1,K3) 0.9264348510270038\n",
      "3--Next-dist(K1,K4) 0.9216850680154924\n",
      "3--Next-dist(K1,T1) 0.4037635386286471\n",
      "3--Next-dist(K1,T2) 0.8356543745963435\n",
      "3--Next-dist(K1,T3) 0.8180285995149901\n",
      "3--Next-dist(K2,C) 0.9003403079439694\n",
      "3--Next-dist(K3,C) 0.9118410029084807\n",
      "3--Next-dist(K4,C) -0.017647124400515413\n",
      "3--Next-dist(T1,C) 0.7782667051321219\n",
      "3--Next-dist(T2,C) 0.9174791865353353\n",
      "3--Next-dist(T3,C) 0.9231649018064928\n",
      "3--Next-Min(dist(K2,T1),dist(K2,T2),dist(K2,T3)) 0.8742234209482604\n",
      "3--Next-Min(dist(K3,T1),dist(K3,T2),dist(K3,T3)) 0.918473833057887\n",
      "3--Next-Min(dist(K4,T1),dist(K4,T2),dist(K4,T3)) 0.9610405294640725\n",
      "3--Next-Min(ang(K2,K1,T1),ang(K2,K1,T2),ang(K2,K1,T3)) 0.8239489117917259\n",
      "3--Next-Min(ang(K3,K1,T1),ang(K3,K1,T2),ang(K3,K1,T3)) -0.8067271962492275\n",
      "3--Next-Min(ang(K4,K1,T1),ang(K4,K1,T2),ang(K4,K1,T3)) 0.6510466710213456\n"
     ]
    }
   ],
   "source": [
    "for k, v in eval_results.items():\n",
    "    print(k, v)"
   ]
  }
 ],
 "metadata": {
  "kernelspec": {
   "display_name": "venv",
   "language": "python",
   "name": "python3"
  },
  "language_info": {
   "codemirror_mode": {
    "name": "ipython",
    "version": 3
   },
   "file_extension": ".py",
   "mimetype": "text/x-python",
   "name": "python",
   "nbconvert_exporter": "python",
   "pygments_lexer": "ipython3",
   "version": "3.10.4"
  },
  "orig_nbformat": 4,
  "vscode": {
   "interpreter": {
    "hash": "3adb5649c2b955a8db409cf19868a5b0daee8b87bc5439f8460a79164555925c"
   }
  }
 },
 "nbformat": 4,
 "nbformat_minor": 2
}
