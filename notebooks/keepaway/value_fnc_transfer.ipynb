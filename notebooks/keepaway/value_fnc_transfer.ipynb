{
 "cells": [
  {
   "cell_type": "markdown",
   "metadata": {},
   "source": [
    "#### Parsing Keepaway weights files"
   ]
  },
  {
   "cell_type": "code",
   "execution_count": 1,
   "metadata": {},
   "outputs": [],
   "source": [
    "from GAME.utils.config import config\n",
    "import numpy as np\n",
    "import sys\n",
    "import os\n",
    "import math\n",
    "import pandas as pd\n",
    "import random\n",
    "import copy"
   ]
  },
  {
   "cell_type": "code",
   "execution_count": 2,
   "metadata": {},
   "outputs": [],
   "source": [
    "def parse_weights(weights_file):\n",
    "    with open(weights_file, 'rb') as f:\n",
    "        rl_mem_size = 1048576\n",
    "        weights = np.fromfile(f, dtype=np.double, count=rl_mem_size)\n",
    "        \n",
    "        offset = rl_mem_size * 8\n",
    "        f.seek(offset, os.SEEK_SET)\n",
    "        m = np.fromfile(f, dtype=np.int_, count=1)\n",
    "\n",
    "        offset += 4\n",
    "        f.seek(offset, os.SEEK_SET)\n",
    "        safe = np.fromfile(f, dtype=np.intc, count=1)\n",
    "\n",
    "        offset += 4\n",
    "        f.seek(offset, os.SEEK_SET)\n",
    "        calls = np.fromfile(f, dtype=np.int_, count=1)\n",
    "\n",
    "        offset += 4\n",
    "        f.seek(offset, os.SEEK_SET)\n",
    "        clearhits = np.fromfile(f, dtype=np.int_, count=1)\n",
    "\n",
    "        offset += 4\n",
    "        f.seek(offset, os.SEEK_SET)\n",
    "        collisions = np.fromfile(f, dtype=np.int_, count=1)\n",
    "\n",
    "        offset += 4\n",
    "        f.seek(offset, os.SEEK_SET)\n",
    "        data = np.fromfile(f, dtype=np.int_, count=m[0])\n",
    "\n",
    "    return weights, m, safe, calls, clearhits, collisions, data\n",
    "\n",
    "class collision_table:\n",
    "    def __init__(self, m, safe, calls, clearhits, collisions, data):\n",
    "        self.m = m\n",
    "        self.safe = safe\n",
    "        self.calls = calls\n",
    "        self.clearhits = clearhits\n",
    "        self.collisions = collisions\n",
    "        self.data = data\n",
    "\n",
    "def hash_UNH(ints:list, num_ints:int, m:int, increment:int, rndseq:list):\n",
    "    i = 0\n",
    "    index = 0\n",
    "    sum = 0\n",
    "\n",
    "    for i in range(num_ints):\n",
    "        index = ints[i]\n",
    "        index = index + (increment * i)\n",
    "        index = index % 2048\n",
    "        while index < 0:\n",
    "            index = index + 2048\n",
    "        sum = sum + int(rndseq[int(index)])\n",
    "    \n",
    "    index = int(sum % m)\n",
    "    while index < 0:\n",
    "        index = index + m\n",
    "    \n",
    "    return int(index)\n",
    "    \n",
    "def hash(ints:list, num_ints:list, ct:collision_table, rndseq:list):\n",
    "    j = 0\n",
    "    ccheck = 0\n",
    "\n",
    "    ct.calls = ct.calls + 1\n",
    "    j = hash_UNH(ints, num_ints, ct.m, 449, rndseq)\n",
    "    ccheck = hash_UNH(ints, num_ints, sys.maxsize, 457, rndseq)\n",
    "    if ccheck == ct.data[j]:\n",
    "        ct.clearhits = ct.clearhits + 1\n",
    "    elif ct.data[j] == -1:\n",
    "        ct.clearhits = ct.clearhits + 1\n",
    "        ct.data[j] = ccheck\n",
    "    elif ct.safe == 0:\n",
    "        ct.collisions = ct.collisions + 1\n",
    "    else:\n",
    "        h2 = 1 + 2 * hash_UNH(ints, num_ints, int(sys.maxsize / 4), 449, rndseq)\n",
    "        i = 0\n",
    "        i += 1\n",
    "        while i:\n",
    "            ct.collisions = ct.collisions + 1\n",
    "            j = int((j + h2) % (ct.m))\n",
    "            if i > ct.m:\n",
    "                raise ValueError(\"Out of memory\")\n",
    "            if ccheck == ct.data[j]:\n",
    "                break\n",
    "            if ct.data[j] == -1:\n",
    "                ct.data[j] = ccheck\n",
    "                break\n",
    "            i += 1\n",
    "    return int(j)\n",
    "\n",
    "def GetTiles(num_tilings:int, ctable:collision_table, floats:list, num_floats:int, ints:list, num_ints:int, rndseq:list):\n",
    "    tiles = np.zeros(shape = (1, num_tilings), dtype = int)[0]\n",
    "    i = 0\n",
    "    j = 0\n",
    "    qstate = np.zeros(shape = (1, 20))[0]\n",
    "    base = np.zeros(shape = (1, 20))[0]\n",
    "    coordinates = np.zeros(shape = (1, 20 * 2 + 1))[0]\n",
    "    num_coordinates = num_floats + num_ints + 1\n",
    "\n",
    "    for i in range(num_ints):\n",
    "        coordinates[num_floats + 1 + i] = ints[i]\n",
    "\n",
    "    for i in range(num_floats):\n",
    "        qstate[i] = int(math.floor(floats[i] * num_tilings))\n",
    "        base[i] = 0\n",
    "\n",
    "    for j in range(num_tilings):\n",
    "        for i in range(num_floats):\n",
    "            coordinates[i] = qstate[i] - ((qstate[i] - base[i]) % num_tilings)\n",
    "            base[i] = base[i] + 1 + (2*i)\n",
    "        \n",
    "        coordinates[num_floats] = j\n",
    "        coordinates = coordinates[:4]\n",
    "        # print(coordinates)\n",
    "        tiles[j] = hash(coordinates, num_coordinates, ctable, rndseq)\n",
    "\n",
    "    return tiles\n",
    "\n",
    "def GetTiles1(nt:int, ct:collision_table, f1:float, h1:int, h2:int, rndseq:list):\n",
    "    f_tmp_arr = [f1]\n",
    "    i_tmp_arr = [h1, h2]\n",
    "    return GetTiles(nt, ct, f_tmp_arr, 1, i_tmp_arr, 2, rndseq)"
   ]
  },
  {
   "cell_type": "code",
   "execution_count": 3,
   "metadata": {},
   "outputs": [],
   "source": [
    "config_data = config()\n",
    "# variables to identify the task\n",
    "target_task_name = '4v3'\n",
    "src_state_var_names = config_data['3v2_state_names']\n",
    "src_action_names = config_data['3v2_action_names']\n",
    "src_action_values = config_data['3v2_action_values']\n",
    "target_state_var_names = config_data['4v3_state_names']\n",
    "target_action_names = config_data['4v3_action_names']\n",
    "target_action_values = config_data['4v3_action_values']\n",
    "current_state_3v2_col_names = config_data['3v2_current_state_transition_df_col_names'.format(target_task_name)]\n",
    "current_state_4v3_col_names = config_data['{}_current_state_transition_df_col_names'.format(target_task_name)]"
   ]
  },
  {
   "cell_type": "code",
   "execution_count": 4,
   "metadata": {},
   "outputs": [],
   "source": [
    "src_task_data_folder_and_filename = os.path.join(config_data['data_path'], 'keepaway', \"keepaway_3v2_transitions.csv\")\n",
    "trans_3v2_df = pd.read_csv(src_task_data_folder_and_filename, index_col = False)"
   ]
  },
  {
   "cell_type": "code",
   "execution_count": 4,
   "metadata": {},
   "outputs": [],
   "source": [
    "k3v2_weights_folder = os.path.join(config_data['logs_path'], '202211031646-UbuntuXenial-3v2-weights')\n",
    "k3v2_weights_file = os.path.join(k3v2_weights_folder, 'k1-weights.dat')\n",
    "\n",
    "k4v3_weights_folder = os.path.join(config_data['logs_path'], '202211031855-UbuntuXenial-4v3-weights')\n",
    "k4v3_weights_file = os.path.join(k4v3_weights_folder, 'k1-weights.dat')"
   ]
  },
  {
   "cell_type": "code",
   "execution_count": 26,
   "metadata": {},
   "outputs": [],
   "source": [
    "# rndseq = np.zeros((1, 2048), dtype=int)[0]\n",
    "# for k in range(len(rndseq)):\n",
    "#     for i in range(4):\n",
    "#         rndseq[k] = (rndseq[k] << 8) | (int(random.random() * 1000) & 0xff)"
   ]
  },
  {
   "cell_type": "code",
   "execution_count": 5,
   "metadata": {},
   "outputs": [],
   "source": [
    "weights3v2, m3v2, safe3v2, calls3v2, clearhits3v2, collisions3v2, data3v2 = parse_weights(k3v2_weights_file)"
   ]
  },
  {
   "cell_type": "code",
   "execution_count": 6,
   "metadata": {},
   "outputs": [
    {
     "data": {
      "text/plain": [
       "array([-730175833,          0,   15611312, ...,         -1,         -1,\n",
       "               -1])"
      ]
     },
     "execution_count": 6,
     "metadata": {},
     "output_type": "execute_result"
    }
   ],
   "source": [
    "data3v2"
   ]
  },
  {
   "cell_type": "code",
   "execution_count": 14,
   "metadata": {},
   "outputs": [],
   "source": [
    "# 3v2\n",
    "weights3v2, m3v2, safe3v2, calls3v2, clearhits3v2, collisions3v2, data3v2 = parse_weights(k3v2_weights_file)\n",
    "ct3v2 = collision_table(m3v2, safe3v2, calls3v2, clearhits3v2, collisions3v2, data3v2)\n",
    "\n",
    "# 4v3\n",
    "weights4v3, m4v3, safe4v3, calls4v3, clearhits4v3, collisions4v3, data4v3 = parse_weights(k4v3_weights_file)\n",
    "for weight_idx in range(len(weights4v3)):\n",
    "    weights4v3[weight_idx] = 0\n",
    "ct4v3 = collision_table(m4v3, safe4v3, calls4v3, clearhits4v3, collisions4v3, data4v3)\n",
    "\n",
    "rndseq = np.random.rand(2048) * m3v2\n",
    "\n",
    "state_mapping = [0, 12, 9, 1, 4, 4, 4, 1, 11, 9, 9, 9, 9, 4, 9, 9, 9, 11, 9]\n",
    "action_mapping = [0, 0, 0, 0]\n",
    "\n",
    "for _, row in trans_3v2_df.iterrows():\n",
    "    for col_idx, col in enumerate(src_state_var_names):\n",
    "        current_feature_val = float(row['Current-{}'.format(col)])\n",
    "        current_action = int(row['Current-action'])\n",
    "        tiles = GetTiles1(32, ct3v2, current_feature_val, current_action, col_idx, rndseq)\n",
    "        activated_weights = weights3v2[tiles]\n",
    "\n",
    "        # transfer\n",
    "        target_state_idx = state_mapping[col_idx]\n",
    "        target_state_val = current_feature_val\n",
    "        target_action = action_mapping[current_action]\n",
    "        tiles = GetTiles1(32, ct4v3, target_state_val, target_action, target_state_idx, rndseq)\n",
    "        weights4v3[tiles] = copy.deepcopy(activated_weights)\n",
    "\n",
    "avg_weights = np.mean([w for w in weights3v2 if w != 0])\n",
    "for w_idx in range(len(weights4v3)):\n",
    "    if weights4v3[w_idx] == 0.0:\n",
    "        # print(weights4v3[w_idx])\n",
    "        weights4v3[w_idx] = avg_weights\n",
    "\n",
    "with open('k1-weights.dat', 'wb') as f:\n",
    "    for weight in weights4v3:\n",
    "        f.write(weight)\n",
    "    for item in m4v3:\n",
    "        f.write(item)\n",
    "    for item in safe4v3:\n",
    "        f.write(item)\n",
    "    for item in calls4v3:\n",
    "        f.write(item)\n",
    "    for item in clearhits4v3:\n",
    "        f.write(item)\n",
    "    for item in collisions4v3:\n",
    "        f.write(item)\n",
    "    for item in data4v3:\n",
    "        f.write(item)"
   ]
  },
  {
   "cell_type": "code",
   "execution_count": 58,
   "metadata": {},
   "outputs": [],
   "source": [
    "avg_weights = np.mean([w for w in weights3v2 if w != 0])"
   ]
  },
  {
   "cell_type": "code",
   "execution_count": 59,
   "metadata": {},
   "outputs": [
    {
     "data": {
      "text/plain": [
       "0.14120184468217797"
      ]
     },
     "execution_count": 59,
     "metadata": {},
     "output_type": "execute_result"
    }
   ],
   "source": [
    "avg_weights"
   ]
  },
  {
   "cell_type": "code",
   "execution_count": 62,
   "metadata": {},
   "outputs": [],
   "source": [
    "for w_idx in range(len(weights4v3)):\n",
    "    if weights4v3[w_idx] == 0.0:\n",
    "        # print(weights4v3[w_idx])\n",
    "        weights4v3[w_idx] = avg_weights"
   ]
  },
  {
   "cell_type": "code",
   "execution_count": null,
   "metadata": {},
   "outputs": [],
   "source": [
    "for w_idx in range(len(weights4v3)):\n",
    "    if weights4v3[w_idx] != avg_weights:\n",
    "        print(weights4v3[w_idx])"
   ]
  },
  {
   "cell_type": "code",
   "execution_count": 17,
   "metadata": {},
   "outputs": [],
   "source": [
    "with open('k4-weights.dat', 'wb') as f:\n",
    "    for weight in weights4v3:\n",
    "        f.write(weight)\n",
    "    for item in m4v3:\n",
    "        f.write(item)\n",
    "    for item in safe4v3:\n",
    "        f.write(item)\n",
    "    for item in calls4v3:\n",
    "        f.write(item)\n",
    "    for item in clearhits4v3:\n",
    "        f.write(item)\n",
    "    for item in collisions4v3:\n",
    "        f.write(item)\n",
    "    for item in data4v3:\n",
    "        f.write(item)"
   ]
  },
  {
   "cell_type": "code",
   "execution_count": null,
   "metadata": {},
   "outputs": [],
   "source": [
    "weights, m, safe, calls, clearhits, collisions, data = parse_weights('k2-weights.dat')"
   ]
  }
 ],
 "metadata": {
  "kernelspec": {
   "display_name": "venv",
   "language": "python",
   "name": "python3"
  },
  "language_info": {
   "codemirror_mode": {
    "name": "ipython",
    "version": 3
   },
   "file_extension": ".py",
   "mimetype": "text/x-python",
   "name": "python",
   "nbconvert_exporter": "python",
   "pygments_lexer": "ipython3",
   "version": "3.10.4 (tags/v3.10.4:9d38120, Mar 23 2022, 23:13:41) [MSC v.1929 64 bit (AMD64)]"
  },
  "orig_nbformat": 4,
  "vscode": {
   "interpreter": {
    "hash": "3adb5649c2b955a8db409cf19868a5b0daee8b87bc5439f8460a79164555925c"
   }
  }
 },
 "nbformat": 4,
 "nbformat_minor": 2
}
