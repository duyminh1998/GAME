{
 "cells": [
  {
   "cell_type": "code",
   "execution_count": 1,
   "metadata": {},
   "outputs": [],
   "source": [
    "from GAME.bin.intertask_mappings import *\n",
    "from GAME.utils.config import config\n",
    "from itertools import product\n",
    "from sklearn.preprocessing import MinMaxScaler"
   ]
  },
  {
   "cell_type": "code",
   "execution_count": 2,
   "metadata": {},
   "outputs": [],
   "source": [
    "def agg_res(eval_results:dict, state:str=None, action:int=None, strategy:str='average') -> dict:\n",
    "    agg_results = {}\n",
    "    state_agg = []\n",
    "    action_agg = []\n",
    "    for k, v in eval_results.items():\n",
    "        key_split = k.split('--')\n",
    "        key_state = key_split[1].split('-')[1]\n",
    "        key_action = key_split[0]\n",
    "        if state and state == key_state:\n",
    "            state_agg.append(v)\n",
    "        if action and str(action) == key_action:\n",
    "            action_agg.append(v)\n",
    "    if strategy == 'average':\n",
    "        if state:\n",
    "            agg_results[state] = np.mean(state_agg)\n",
    "        if action:\n",
    "            agg_results[action] = np.mean(action_agg)\n",
    "    if strategy == 'best':\n",
    "        if state:\n",
    "            agg_results[state] = np.max(state_agg)\n",
    "        if action:\n",
    "            agg_results[action] = np.max(action_agg)\n",
    "\n",
    "    return agg_results"
   ]
  },
  {
   "cell_type": "code",
   "execution_count": 19,
   "metadata": {},
   "outputs": [],
   "source": [
    "# load config data\n",
    "config_data = config()\n",
    "\n",
    "src_state_var_names = config_data['3v2_state_names']\n",
    "src_action_names = config_data['3v2_action_names']\n",
    "src_action_values = config_data['3v2_action_values']\n",
    "target_state_var_names = config_data['4v3_state_names']\n",
    "target_action_names = config_data['4v3_action_names']\n",
    "target_action_values = config_data['4v3_action_values']\n",
    "\n",
    "# mapping = IntertaskMapping([0 for _ in range(19)], [0, 1, 2, 2], src_state_var_names, src_action_names, target_state_var_names, target_action_names)\n",
    "# mapping = IntertaskMapping([11, 1, 2, 2, 3, 4, 4, 5, 6, 6, 7, 8, 8, 9, 10, 10, 11, 12, 12], [0, 1, 2, 2], src_state_var_names, src_action_names, target_state_var_names, target_action_names)\n",
    "\n",
    "src_data_path = os.path.join(config_data['data_path'], 'keepaway', \"keepaway_3v2_transitions.csv\")\n",
    "src_data_df = pd.read_csv(src_data_path, index_col = False)\n",
    "transformed_df_col_names = config_data['4v3_full_transition_df_col_names']\n",
    "\n",
    "feature_scaler = MinMaxScaler()\n",
    "feature_names = ['Current-{}'.format(feature) for feature in src_state_var_names]\n",
    "feature_scaler.fit(src_data_df[feature_names])\n",
    "src_data_df[feature_names] = feature_scaler.transform(src_data_df[feature_names])\n",
    "\n",
    "target_scaler = MinMaxScaler()\n",
    "target_names = ['Next-{}'.format(feature) for feature in src_state_var_names]\n",
    "target_scaler.fit(src_data_df[target_names])\n",
    "src_data_df[target_names] = target_scaler.transform(src_data_df[target_names])\n",
    "\n",
    "src_data_df['Current-action'] = src_data_df['Current-action'].replace(0, 4)\n",
    "src_data_df['Current-action'] = src_data_df['Current-action'].replace(1, 0)\n",
    "src_data_df['Current-action'] = src_data_df['Current-action'].replace(4, 1)\n",
    "\n",
    "# transformed_df = transform_source_dataset(src_data_df, mapping, transformed_df_col_names, target_action_values)\n",
    "# transformed_df_out_path = \"C:\\\\Users\\\\minhh\\\\Documents\\\\JHU\\\\Fall 2022\\\\Evolutionary and Swarm Intelligence\\\\src\\\\GAME\\\\output\\\\11022022 Transformed Source Data 3DMC\\\\transformed_df.csv\"\n",
    "# transformed_df.to_csv(transformed_df_out_path, index = False)\n",
    "\n",
    "network_folder_path = os.path.join(config_data['pickle_path'], 'neural_nets', \"keepaway\")\n",
    "eval_networks = EvaluationNetworks(network_folder_path)\n",
    "# test_mlp = eval_networks.get_network(0, 'Next_x_position')\n",
    "\n",
    "transformed_df_current_state_cols = config_data['4v3_current_state_transition_df_col_names']\n",
    "transformed_df_next_state_cols = config_data['4v3_next_state_transition_df_col_names']\n",
    "\n",
    "# eval_results = evaluate_mapping(mapping, transformed_df, eval_networks, transformed_df_current_state_cols, transformed_df_next_state_cols, target_action_values)"
   ]
  },
  {
   "cell_type": "code",
   "execution_count": 16,
   "metadata": {},
   "outputs": [],
   "source": [
    "state_mapping = [0, 1, 2, 2, 3, 4, 4, 5, 6, 6, 7, 8, 8, 9, 10, 10, 11, 12, 12]\n",
    "# state_mapping = [0 for _ in range(19)]\n",
    "action_mapping = [0, 1, 2, 2]\n",
    "mapping = IntertaskMapping(state_mapping, action_mapping, src_state_var_names, src_action_names, target_state_var_names, target_action_names)\n",
    "\n",
    "transformed_df = transform_source_dataset(src_data_df, mapping, transformed_df_col_names, target_action_values)\n",
    "\n",
    "eval_results = evaluate_mapping(mapping, transformed_df, eval_networks, transformed_df_current_state_cols, transformed_df_next_state_cols, target_action_values)"
   ]
  },
  {
   "cell_type": "code",
   "execution_count": 17,
   "metadata": {},
   "outputs": [
    {
     "name": "stdout",
     "output_type": "stream",
     "text": [
      "[0.7288566720658226]\n"
     ]
    }
   ],
   "source": [
    "print(parse_mapping_eval_scores(eval_results))"
   ]
  },
  {
   "cell_type": "code",
   "execution_count": 18,
   "metadata": {},
   "outputs": [
    {
     "name": "stdout",
     "output_type": "stream",
     "text": [
      "{'dist(K1,C)': 0.8722644839350171}\n",
      "{'dist(K1,K2)': -0.22939281778175027}\n",
      "{'dist(K1,K3)': 0.8424341522855624}\n",
      "{'dist(K1,K4)': 0.9286357208327285}\n",
      "{'dist(K1,T1)': 0.825480264121766}\n",
      "{'dist(K1,T2)': 0.8231096644799776}\n",
      "{'dist(K1,T3)': 0.8276272203865441}\n",
      "{'dist(K2,C)': 0.6698307880330103}\n",
      "{'dist(K3,C)': 0.7540449851072928}\n",
      "{'dist(K4,C)': 0.8598177118728227}\n",
      "{'dist(T1,C)': 0.922598368239199}\n",
      "{'dist(T2,C)': 0.9282651407342403}\n",
      "{'dist(T3,C)': 0.9304682075749454}\n",
      "{'Min(dist(K2,T1),dist(K2,T2),dist(K2,T3))': 0.7970593744195932}\n",
      "{'Min(dist(K3,T1),dist(K3,T2),dist(K3,T3))': 0.6786768532653569}\n",
      "{'Min(dist(K4,T1),dist(K4,T2),dist(K4,T3))': -0.17427110914843588}\n",
      "{'Min(ang(K2,K1,T1),ang(K2,K1,T2),ang(K2,K1,T3))': 0.9465057040889643}\n",
      "{'Min(ang(K3,K1,T1),ang(K3,K1,T2),ang(K3,K1,T3))': 0.7738532579239163}\n",
      "{'Min(ang(K4,K1,T1),ang(K4,K1,T2),ang(K4,K1,T3))': 0.8712687988798752}\n"
     ]
    }
   ],
   "source": [
    "for state in target_state_var_names:\n",
    "    print(agg_res(eval_results, state, None, 'average'))"
   ]
  },
  {
   "cell_type": "code",
   "execution_count": 23,
   "metadata": {},
   "outputs": [],
   "source": [
    "# GAME\n",
    "state_mapping = [0, 11, 5, 0, 4, 3, 4, 9, 6, 6, 7, 9, 9, 8, 2, 4, 11, 10, 9]\n",
    "# state_mapping = [0 for _ in range(19)]\n",
    "action_mapping = [1, 1, 1, 1]\n",
    "mapping = IntertaskMapping(state_mapping, action_mapping, src_state_var_names, src_action_names, target_state_var_names, target_action_names)\n",
    "\n",
    "transformed_df = transform_source_dataset(src_data_df, mapping, transformed_df_col_names, target_action_values)\n",
    "\n",
    "eval_results = evaluate_mapping(mapping, transformed_df, eval_networks, transformed_df_current_state_cols, transformed_df_next_state_cols, target_action_values)"
   ]
  },
  {
   "cell_type": "code",
   "execution_count": 24,
   "metadata": {},
   "outputs": [
    {
     "name": "stdout",
     "output_type": "stream",
     "text": [
      "[0.9094175953584726]\n"
     ]
    }
   ],
   "source": [
    "print(parse_mapping_eval_scores(eval_results))"
   ]
  },
  {
   "cell_type": "code",
   "execution_count": 9,
   "metadata": {},
   "outputs": [
    {
     "name": "stdout",
     "output_type": "stream",
     "text": [
      "{'dist(K1,C)': 0.8984891033086441}\n",
      "{'dist(K1,K2)': 0.9832637591162632}\n",
      "{'dist(K1,K3)': 0.7849590820300703}\n",
      "{'dist(K1,K4)': 0.954064586502867}\n",
      "{'dist(K1,T1)': 0.8867525246875843}\n",
      "{'dist(K1,T2)': 0.9106655510397274}\n",
      "{'dist(K1,T3)': 0.9243453270534202}\n",
      "{'dist(K2,C)': 0.8889423560018718}\n",
      "{'dist(K3,C)': 0.9271890722436928}\n",
      "{'dist(K4,C)': 0.9442787800076675}\n",
      "{'dist(T1,C)': 0.8949127149320598}\n",
      "{'dist(T2,C)': 0.9360098592514783}\n",
      "{'dist(T3,C)': 0.9502627358934586}\n",
      "{'Min(dist(K2,T1),dist(K2,T2),dist(K2,T3))': 0.739350172055359}\n",
      "{'Min(dist(K3,T1),dist(K3,T2),dist(K3,T3))': 0.8737771738760037}\n",
      "{'Min(dist(K4,T1),dist(K4,T2),dist(K4,T3))': 0.9439320299226585}\n",
      "{'Min(ang(K2,K1,T1),ang(K2,K1,T2),ang(K2,K1,T3))': 0.9525089079653637}\n",
      "{'Min(ang(K3,K1,T1),ang(K3,K1,T2),ang(K3,K1,T3))': 0.9239104302786245}\n",
      "{'Min(ang(K4,K1,T1),ang(K4,K1,T2),ang(K4,K1,T3))': 0.9613201456441616}\n"
     ]
    }
   ],
   "source": [
    "for state in target_state_var_names:\n",
    "    print(agg_res(eval_results, state, None, 'average'))"
   ]
  },
  {
   "cell_type": "code",
   "execution_count": 10,
   "metadata": {},
   "outputs": [],
   "source": [
    "# GAME\n",
    "state_mapping = [0, 12, 9, 1, 4, 4, 4, 1, 11, 9, 9, 9, 9, 4, 9, 9, 9, 11, 9]\n",
    "# state_mapping = [0 for _ in range(19)]\n",
    "action_mapping = [0, 0, 0, 0]\n",
    "mapping = IntertaskMapping(state_mapping, action_mapping, src_state_var_names, src_action_names, target_state_var_names, target_action_names)\n",
    "\n",
    "transformed_df = transform_source_dataset(src_data_df, mapping, transformed_df_col_names, target_action_values)\n",
    "\n",
    "eval_results = evaluate_mapping(mapping, transformed_df, eval_networks, transformed_df_current_state_cols, transformed_df_next_state_cols, target_action_values)"
   ]
  },
  {
   "cell_type": "code",
   "execution_count": 11,
   "metadata": {},
   "outputs": [
    {
     "name": "stdout",
     "output_type": "stream",
     "text": [
      "[0.9310901661448567]\n"
     ]
    }
   ],
   "source": [
    "print(parse_mapping_eval_scores(eval_results))"
   ]
  },
  {
   "cell_type": "code",
   "execution_count": 12,
   "metadata": {},
   "outputs": [
    {
     "name": "stdout",
     "output_type": "stream",
     "text": [
      "{'dist(K1,C)': 0.9008379489607738}\n",
      "{'dist(K1,K2)': 0.9561334397595876}\n",
      "{'dist(K1,K3)': 0.9435489892493593}\n",
      "{'dist(K1,K4)': 0.9648254132358924}\n",
      "{'dist(K1,T1)': 0.9429154002937308}\n",
      "{'dist(K1,T2)': 0.9465724754300435}\n",
      "{'dist(K1,T3)': 0.9394943913535898}\n",
      "{'dist(K2,C)': 0.9109813599892254}\n",
      "{'dist(K3,C)': 0.8942009543309912}\n",
      "{'dist(K4,C)': 0.9630878849788214}\n",
      "{'dist(T1,C)': 0.9453022638364438}\n",
      "{'dist(T2,C)': 0.9392673273512193}\n",
      "{'dist(T3,C)': 0.9550970606480202}\n",
      "{'Min(dist(K2,T1),dist(K2,T2),dist(K2,T3))': 0.888458770619969}\n",
      "{'Min(dist(K3,T1),dist(K3,T2),dist(K3,T3))': 0.9444237029212095}\n",
      "{'Min(dist(K4,T1),dist(K4,T2),dist(K4,T3))': 0.7335602698333762}\n",
      "{'Min(ang(K2,K1,T1),ang(K2,K1,T2),ang(K2,K1,T3))': 0.9561325364019457}\n",
      "{'Min(ang(K3,K1,T1),ang(K3,K1,T2),ang(K3,K1,T3))': 0.9825440605193293}\n",
      "{'Min(ang(K4,K1,T1),ang(K4,K1,T2),ang(K4,K1,T3))': 0.9833289070387519}\n"
     ]
    }
   ],
   "source": [
    "for state in target_state_var_names:\n",
    "    print(agg_res(eval_results, state, None, 'average'))"
   ]
  },
  {
   "cell_type": "code",
   "execution_count": null,
   "metadata": {},
   "outputs": [],
   "source": []
  }
 ],
 "metadata": {
  "kernelspec": {
   "display_name": "Python 3.7.3 ('venv': venv)",
   "language": "python",
   "name": "python3"
  },
  "language_info": {
   "codemirror_mode": {
    "name": "ipython",
    "version": 3
   },
   "file_extension": ".py",
   "mimetype": "text/x-python",
   "name": "python",
   "nbconvert_exporter": "python",
   "pygments_lexer": "ipython3",
   "version": "3.7.3"
  },
  "orig_nbformat": 4,
  "vscode": {
   "interpreter": {
    "hash": "66eb0ff22152a42a55105d2627a5529bd8ce21fe81b81dbad1c4e8c0b6b69aac"
   }
  }
 },
 "nbformat": 4,
 "nbformat_minor": 2
}
