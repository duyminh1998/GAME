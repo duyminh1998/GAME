{
 "cells": [
  {
   "cell_type": "code",
   "execution_count": 1,
   "metadata": {},
   "outputs": [],
   "source": [
    "from GAME.bin.intertask_mappings import *\n",
    "from GAME.utils.config import config\n",
    "from itertools import product\n",
    "from sklearn.preprocessing import MinMaxScaler"
   ]
  },
  {
   "cell_type": "code",
   "execution_count": 6,
   "metadata": {},
   "outputs": [],
   "source": [
    "def agg_res(eval_results:dict, state:str=None, action:int=None, strategy:str='average') -> dict:\n",
    "    agg_results = {}\n",
    "    state_agg = []\n",
    "    action_agg = []\n",
    "    for k, v in eval_results.items():\n",
    "        key_split = k.split('--')\n",
    "        key_state = key_split[1].split('-')[1]\n",
    "        key_action = key_split[0]\n",
    "        if state and state == key_state:\n",
    "            state_agg.append(v)\n",
    "        if action and str(action) == key_action:\n",
    "            action_agg.append(v)\n",
    "    if strategy == 'average':\n",
    "        if state:\n",
    "            agg_results[state] = np.mean(state_agg)\n",
    "        if action:\n",
    "            agg_results[action] = np.mean(action_agg)\n",
    "    if strategy == 'best':\n",
    "        if state:\n",
    "            agg_results[state] = np.max(state_agg)\n",
    "        if action:\n",
    "            agg_results[action] = np.max(action_agg)\n",
    "\n",
    "    return agg_results"
   ]
  },
  {
   "cell_type": "code",
   "execution_count": 2,
   "metadata": {},
   "outputs": [],
   "source": [
    "# load config data\n",
    "config_data = config()\n",
    "\n",
    "src_state_var_names = config_data['3v2_state_names']\n",
    "src_action_names = config_data['3v2_action_names']\n",
    "src_action_values = config_data['3v2_action_values']\n",
    "target_state_var_names = config_data['4v3_state_names']\n",
    "target_action_names = config_data['4v3_action_names']\n",
    "target_action_values = config_data['4v3_action_values']\n",
    "\n",
    "# mapping = IntertaskMapping([0 for _ in range(19)], [0, 1, 2, 2], src_state_var_names, src_action_names, target_state_var_names, target_action_names)\n",
    "# mapping = IntertaskMapping([11, 1, 2, 2, 3, 4, 4, 5, 6, 6, 7, 8, 8, 9, 10, 10, 11, 12, 12], [0, 1, 2, 2], src_state_var_names, src_action_names, target_state_var_names, target_action_names)\n",
    "\n",
    "# src_data_path = os.path.join(config_data['data_path'], 'keepaway', \"keepaway_3v2_transitions.csv\")\n",
    "src_data_path = os.path.join(config_data['logs_path'], '12142022_3v2_logs_random_explore', \"keepaway_3v2_transitions.csv\")\n",
    "src_data_df = pd.read_csv(src_data_path, index_col = False)\n",
    "transformed_df_col_names = config_data['4v3_full_transition_df_col_names']\n",
    "\n",
    "feature_scaler = MinMaxScaler()\n",
    "feature_names = ['Current-{}'.format(feature) for feature in src_state_var_names]\n",
    "feature_scaler.fit(src_data_df[feature_names])\n",
    "src_data_df[feature_names] = feature_scaler.transform(src_data_df[feature_names])\n",
    "\n",
    "target_scaler = MinMaxScaler()\n",
    "target_names = ['Next-{}'.format(feature) for feature in src_state_var_names]\n",
    "target_scaler.fit(src_data_df[target_names])\n",
    "src_data_df[target_names] = target_scaler.transform(src_data_df[target_names])\n",
    "\n",
    "# src_data_df['Current-action'] = src_data_df['Current-action'].replace(0, 4)\n",
    "# src_data_df['Current-action'] = src_data_df['Current-action'].replace(1, 0)\n",
    "# src_data_df['Current-action'] = src_data_df['Current-action'].replace(4, 1)\n",
    "\n",
    "# transformed_df = transform_source_dataset(src_data_df, mapping, transformed_df_col_names, target_action_values)\n",
    "# transformed_df_out_path = \"C:\\\\Users\\\\minhh\\\\Documents\\\\JHU\\\\Fall 2022\\\\Evolutionary and Swarm Intelligence\\\\src\\\\GAME\\\\output\\\\11022022 Transformed Source Data 3DMC\\\\transformed_df.csv\"\n",
    "# transformed_df.to_csv(transformed_df_out_path, index = False)\n",
    "\n",
    "network_folder_path = os.path.join(config_data['pickle_path'], 'neural_nets', \"keepaway\")\n",
    "eval_networks = EvaluationNetworks(network_folder_path)\n",
    "# test_mlp = eval_networks.get_network(0, 'Next_x_position')\n",
    "\n",
    "transformed_df_current_state_cols = config_data['4v3_current_state_transition_df_col_names']\n",
    "transformed_df_next_state_cols = config_data['4v3_next_state_transition_df_col_names']\n",
    "\n",
    "# eval_results = evaluate_mapping(mapping, transformed_df, eval_networks, transformed_df_current_state_cols, transformed_df_next_state_cols, target_action_values)"
   ]
  },
  {
   "cell_type": "code",
   "execution_count": 19,
   "metadata": {},
   "outputs": [
    {
     "data": {
      "text/html": [
       "<div>\n",
       "<style scoped>\n",
       "    .dataframe tbody tr th:only-of-type {\n",
       "        vertical-align: middle;\n",
       "    }\n",
       "\n",
       "    .dataframe tbody tr th {\n",
       "        vertical-align: top;\n",
       "    }\n",
       "\n",
       "    .dataframe thead th {\n",
       "        text-align: right;\n",
       "    }\n",
       "</style>\n",
       "<table border=\"1\" class=\"dataframe\">\n",
       "  <thead>\n",
       "    <tr style=\"text-align: right;\">\n",
       "      <th></th>\n",
       "      <th>Cycle</th>\n",
       "      <th>ID_kp_w_ball</th>\n",
       "      <th>Current-dist(K1,C)</th>\n",
       "      <th>Current-dist(K1,K2)</th>\n",
       "      <th>Current-dist(K1,K3)</th>\n",
       "      <th>Current-dist(K1,T1)</th>\n",
       "      <th>Current-dist(K1,T2)</th>\n",
       "      <th>Current-dist(K2,C)</th>\n",
       "      <th>Current-dist(K3,C)</th>\n",
       "      <th>Current-dist(T1,C)</th>\n",
       "      <th>...</th>\n",
       "      <th>Next-dist(K1,T1)</th>\n",
       "      <th>Next-dist(K1,T2)</th>\n",
       "      <th>Next-dist(K2,C)</th>\n",
       "      <th>Next-dist(K3,C)</th>\n",
       "      <th>Next-dist(T1,C)</th>\n",
       "      <th>Next-dist(T2,C)</th>\n",
       "      <th>Next-Min(dist(K2,T1),dist(K2,T2))</th>\n",
       "      <th>Next-Min(dist(K3,T1),dist(K3,T2))</th>\n",
       "      <th>Next-Min(ang(K2,K1,T1),ang(K2,K1,T2))</th>\n",
       "      <th>Next-Min(ang(K3,K1,T1),ang(K3,K1,T2))</th>\n",
       "    </tr>\n",
       "  </thead>\n",
       "  <tbody>\n",
       "    <tr>\n",
       "      <th>0</th>\n",
       "      <td>12</td>\n",
       "      <td>1</td>\n",
       "      <td>0.432758</td>\n",
       "      <td>0.409361</td>\n",
       "      <td>0.430245</td>\n",
       "      <td>0.613692</td>\n",
       "      <td>0.670916</td>\n",
       "      <td>0.540005</td>\n",
       "      <td>0.704486</td>\n",
       "      <td>0.221195</td>\n",
       "      <td>...</td>\n",
       "      <td>0.278456</td>\n",
       "      <td>0.297748</td>\n",
       "      <td>0.457939</td>\n",
       "      <td>0.557291</td>\n",
       "      <td>0.180614</td>\n",
       "      <td>0.239681</td>\n",
       "      <td>0.151050</td>\n",
       "      <td>0.394805</td>\n",
       "      <td>0.277039</td>\n",
       "      <td>0.281338</td>\n",
       "    </tr>\n",
       "    <tr>\n",
       "      <th>1</th>\n",
       "      <td>13</td>\n",
       "      <td>1</td>\n",
       "      <td>0.429493</td>\n",
       "      <td>0.405694</td>\n",
       "      <td>0.430267</td>\n",
       "      <td>0.588360</td>\n",
       "      <td>0.642853</td>\n",
       "      <td>0.539967</td>\n",
       "      <td>0.704424</td>\n",
       "      <td>0.200811</td>\n",
       "      <td>...</td>\n",
       "      <td>0.255767</td>\n",
       "      <td>0.292698</td>\n",
       "      <td>0.457917</td>\n",
       "      <td>0.557272</td>\n",
       "      <td>0.146741</td>\n",
       "      <td>0.231204</td>\n",
       "      <td>0.143505</td>\n",
       "      <td>0.376677</td>\n",
       "      <td>0.280274</td>\n",
       "      <td>0.280290</td>\n",
       "    </tr>\n",
       "    <tr>\n",
       "      <th>2</th>\n",
       "      <td>14</td>\n",
       "      <td>1</td>\n",
       "      <td>0.428332</td>\n",
       "      <td>0.404261</td>\n",
       "      <td>0.430354</td>\n",
       "      <td>0.540418</td>\n",
       "      <td>0.631950</td>\n",
       "      <td>0.539941</td>\n",
       "      <td>0.704400</td>\n",
       "      <td>0.163150</td>\n",
       "      <td>...</td>\n",
       "      <td>0.229050</td>\n",
       "      <td>0.272146</td>\n",
       "      <td>0.457912</td>\n",
       "      <td>0.557260</td>\n",
       "      <td>0.110444</td>\n",
       "      <td>0.196403</td>\n",
       "      <td>0.133067</td>\n",
       "      <td>0.362074</td>\n",
       "      <td>0.281800</td>\n",
       "      <td>0.279236</td>\n",
       "    </tr>\n",
       "    <tr>\n",
       "      <th>3</th>\n",
       "      <td>15</td>\n",
       "      <td>1</td>\n",
       "      <td>0.427831</td>\n",
       "      <td>0.403706</td>\n",
       "      <td>0.430350</td>\n",
       "      <td>0.483968</td>\n",
       "      <td>0.587578</td>\n",
       "      <td>0.539935</td>\n",
       "      <td>0.704384</td>\n",
       "      <td>0.122794</td>\n",
       "      <td>...</td>\n",
       "      <td>0.218573</td>\n",
       "      <td>0.264344</td>\n",
       "      <td>0.427517</td>\n",
       "      <td>0.557260</td>\n",
       "      <td>0.097137</td>\n",
       "      <td>0.183449</td>\n",
       "      <td>0.125786</td>\n",
       "      <td>0.356749</td>\n",
       "      <td>0.282109</td>\n",
       "      <td>0.278485</td>\n",
       "    </tr>\n",
       "    <tr>\n",
       "      <th>4</th>\n",
       "      <td>16</td>\n",
       "      <td>1</td>\n",
       "      <td>0.427652</td>\n",
       "      <td>0.368297</td>\n",
       "      <td>0.430368</td>\n",
       "      <td>0.461831</td>\n",
       "      <td>0.570732</td>\n",
       "      <td>0.504096</td>\n",
       "      <td>0.704384</td>\n",
       "      <td>0.107999</td>\n",
       "      <td>...</td>\n",
       "      <td>0.223423</td>\n",
       "      <td>0.270514</td>\n",
       "      <td>0.390320</td>\n",
       "      <td>0.557260</td>\n",
       "      <td>0.092043</td>\n",
       "      <td>0.178427</td>\n",
       "      <td>0.120667</td>\n",
       "      <td>0.354342</td>\n",
       "      <td>0.274175</td>\n",
       "      <td>0.277545</td>\n",
       "    </tr>\n",
       "  </tbody>\n",
       "</table>\n",
       "<p>5 rows × 29 columns</p>\n",
       "</div>"
      ],
      "text/plain": [
       "   Cycle  ID_kp_w_ball  Current-dist(K1,C)  Current-dist(K1,K2)  \\\n",
       "0     12             1            0.432758             0.409361   \n",
       "1     13             1            0.429493             0.405694   \n",
       "2     14             1            0.428332             0.404261   \n",
       "3     15             1            0.427831             0.403706   \n",
       "4     16             1            0.427652             0.368297   \n",
       "\n",
       "   Current-dist(K1,K3)  Current-dist(K1,T1)  Current-dist(K1,T2)  \\\n",
       "0             0.430245             0.613692             0.670916   \n",
       "1             0.430267             0.588360             0.642853   \n",
       "2             0.430354             0.540418             0.631950   \n",
       "3             0.430350             0.483968             0.587578   \n",
       "4             0.430368             0.461831             0.570732   \n",
       "\n",
       "   Current-dist(K2,C)  Current-dist(K3,C)  Current-dist(T1,C)  ...  \\\n",
       "0            0.540005            0.704486            0.221195  ...   \n",
       "1            0.539967            0.704424            0.200811  ...   \n",
       "2            0.539941            0.704400            0.163150  ...   \n",
       "3            0.539935            0.704384            0.122794  ...   \n",
       "4            0.504096            0.704384            0.107999  ...   \n",
       "\n",
       "   Next-dist(K1,T1)  Next-dist(K1,T2)  Next-dist(K2,C)  Next-dist(K3,C)  \\\n",
       "0          0.278456          0.297748         0.457939         0.557291   \n",
       "1          0.255767          0.292698         0.457917         0.557272   \n",
       "2          0.229050          0.272146         0.457912         0.557260   \n",
       "3          0.218573          0.264344         0.427517         0.557260   \n",
       "4          0.223423          0.270514         0.390320         0.557260   \n",
       "\n",
       "   Next-dist(T1,C)  Next-dist(T2,C)  Next-Min(dist(K2,T1),dist(K2,T2))  \\\n",
       "0         0.180614         0.239681                           0.151050   \n",
       "1         0.146741         0.231204                           0.143505   \n",
       "2         0.110444         0.196403                           0.133067   \n",
       "3         0.097137         0.183449                           0.125786   \n",
       "4         0.092043         0.178427                           0.120667   \n",
       "\n",
       "   Next-Min(dist(K3,T1),dist(K3,T2))  Next-Min(ang(K2,K1,T1),ang(K2,K1,T2))  \\\n",
       "0                           0.394805                               0.277039   \n",
       "1                           0.376677                               0.280274   \n",
       "2                           0.362074                               0.281800   \n",
       "3                           0.356749                               0.282109   \n",
       "4                           0.354342                               0.274175   \n",
       "\n",
       "   Next-Min(ang(K3,K1,T1),ang(K3,K1,T2))  \n",
       "0                               0.281338  \n",
       "1                               0.280290  \n",
       "2                               0.279236  \n",
       "3                               0.278485  \n",
       "4                               0.277545  \n",
       "\n",
       "[5 rows x 29 columns]"
      ]
     },
     "execution_count": 19,
     "metadata": {},
     "output_type": "execute_result"
    }
   ],
   "source": [
    "src_data_df.head()"
   ]
  },
  {
   "cell_type": "code",
   "execution_count": 3,
   "metadata": {},
   "outputs": [],
   "source": [
    "state_mapping = [0, 1, 2, 2, 3, 4, 4, 5, 6, 6, 7, 8, 8, 9, 10, 10, 11, 12, 12]\n",
    "# state_mapping = [0 for _ in range(19)]\n",
    "action_mapping = [0, 1, 2, 2]\n",
    "mapping = IntertaskMapping(state_mapping, action_mapping, src_state_var_names, src_action_names, target_state_var_names, target_action_names)\n",
    "\n",
    "transformed_df = transform_source_dataset(src_data_df, mapping, transformed_df_col_names, target_action_values)\n",
    "\n",
    "eval_results = evaluate_mapping(mapping, transformed_df, eval_networks, transformed_df_current_state_cols, transformed_df_next_state_cols, target_action_values)"
   ]
  },
  {
   "cell_type": "code",
   "execution_count": 4,
   "metadata": {},
   "outputs": [
    {
     "name": "stdout",
     "output_type": "stream",
     "text": [
      "[0.9924721830482245]\n"
     ]
    }
   ],
   "source": [
    "print(parse_mapping_eval_scores(eval_results))"
   ]
  },
  {
   "cell_type": "code",
   "execution_count": 7,
   "metadata": {},
   "outputs": [
    {
     "name": "stdout",
     "output_type": "stream",
     "text": [
      "{'dist(K1,C)': 0.9947346068995139}\n",
      "{'dist(K1,K2)': 0.9827432426498146}\n",
      "{'dist(K1,K3)': 0.9917120682636412}\n",
      "{'dist(K1,K4)': 0.9946253868274331}\n",
      "{'dist(K1,T1)': 0.9962248021479843}\n",
      "{'dist(K1,T2)': 0.9960782172222765}\n",
      "{'dist(K1,T3)': 0.9958264574897349}\n",
      "{'dist(K2,C)': 0.9931551139784565}\n",
      "{'dist(K3,C)': 0.9951611823472221}\n",
      "{'dist(K4,C)': 0.9904547988404464}\n",
      "{'dist(T1,C)': 0.9943492608399588}\n",
      "{'dist(T2,C)': 0.9932303961455623}\n",
      "{'dist(T3,C)': 0.9931134019966208}\n",
      "{'Min(dist(K2,T1),dist(K2,T2),dist(K2,T3))': 0.9921385788532131}\n",
      "{'Min(dist(K3,T1),dist(K3,T2),dist(K3,T3))': 0.9899792175293123}\n",
      "{'Min(dist(K4,T1),dist(K4,T2),dist(K4,T3))': 0.9751072004194791}\n",
      "{'Min(ang(K2,K1,T1),ang(K2,K1,T2),ang(K2,K1,T3))': 0.995566121806506}\n",
      "{'Min(ang(K3,K1,T1),ang(K3,K1,T2),ang(K3,K1,T3))': 0.9958710404924019}\n",
      "{'Min(ang(K4,K1,T1),ang(K4,K1,T2),ang(K4,K1,T3))': 0.996900383166696}\n"
     ]
    }
   ],
   "source": [
    "for state in target_state_var_names:\n",
    "    print(agg_res(eval_results, state, None, 'average'))"
   ]
  },
  {
   "cell_type": "code",
   "execution_count": 16,
   "metadata": {},
   "outputs": [],
   "source": [
    "# GAME\n",
    "state_mapping = [0, 11, 5, 0, 4, 3, 4, 9, 6, 6, 7, 9, 9, 8, 2, 4, 11, 10, 9]\n",
    "# state_mapping = [0 for _ in range(19)]\n",
    "action_mapping = [0, 0, 0, 2]\n",
    "mapping = IntertaskMapping(state_mapping, action_mapping, src_state_var_names, src_action_names, target_state_var_names, target_action_names)\n",
    "\n",
    "transformed_df = transform_source_dataset(src_data_df, mapping, transformed_df_col_names, target_action_values)\n",
    "\n",
    "eval_results = evaluate_mapping(mapping, transformed_df, eval_networks, transformed_df_current_state_cols, transformed_df_next_state_cols, target_action_values)"
   ]
  },
  {
   "cell_type": "code",
   "execution_count": 17,
   "metadata": {},
   "outputs": [
    {
     "name": "stdout",
     "output_type": "stream",
     "text": [
      "[0.9956558299018758]\n"
     ]
    }
   ],
   "source": [
    "print(parse_mapping_eval_scores(eval_results))"
   ]
  },
  {
   "cell_type": "code",
   "execution_count": 10,
   "metadata": {},
   "outputs": [
    {
     "name": "stdout",
     "output_type": "stream",
     "text": [
      "{'dist(K1,C)': 0.9971359718007959}\n",
      "{'dist(K1,K2)': 0.9974760746694861}\n",
      "{'dist(K1,K3)': 0.9964188333028199}\n",
      "{'dist(K1,K4)': 0.9976108898780987}\n",
      "{'dist(K1,T1)': 0.9981445915858206}\n",
      "{'dist(K1,T2)': 0.9978469746729501}\n",
      "{'dist(K1,T3)': 0.9975934438060942}\n",
      "{'dist(K2,C)': 0.9976508462699196}\n",
      "{'dist(K3,C)': 0.9963842288912367}\n",
      "{'dist(K4,C)': 0.9930856446026871}\n",
      "{'dist(T1,C)': 0.9980757516808986}\n",
      "{'dist(T2,C)': 0.9980616695365634}\n",
      "{'dist(T3,C)': 0.998275185798032}\n",
      "{'Min(dist(K2,T1),dist(K2,T2),dist(K2,T3))': 0.9962481236731847}\n",
      "{'Min(dist(K3,T1),dist(K3,T2),dist(K3,T3))': 0.9949288670516651}\n",
      "{'Min(dist(K4,T1),dist(K4,T2),dist(K4,T3))': 0.9969513634504943}\n",
      "{'Min(ang(K2,K1,T1),ang(K2,K1,T2),ang(K2,K1,T3))': 0.9961090211517939}\n",
      "{'Min(ang(K3,K1,T1),ang(K3,K1,T2),ang(K3,K1,T3))': 0.9978656546564274}\n",
      "{'Min(ang(K4,K1,T1),ang(K4,K1,T2),ang(K4,K1,T3))': 0.998204062891829}\n"
     ]
    }
   ],
   "source": [
    "for state in target_state_var_names:\n",
    "    print(agg_res(eval_results, state, None, 'average'))"
   ]
  },
  {
   "cell_type": "code",
   "execution_count": 11,
   "metadata": {},
   "outputs": [],
   "source": [
    "# GAME\n",
    "state_mapping = [0, 12, 9, 1, 4, 4, 4, 1, 11, 9, 9, 9, 9, 4, 9, 9, 9, 11, 9]\n",
    "# state_mapping = [0 for _ in range(19)]\n",
    "action_mapping = [0, 0, 0, 0]\n",
    "mapping = IntertaskMapping(state_mapping, action_mapping, src_state_var_names, src_action_names, target_state_var_names, target_action_names)\n",
    "\n",
    "transformed_df = transform_source_dataset(src_data_df, mapping, transformed_df_col_names, target_action_values)\n",
    "\n",
    "eval_results = evaluate_mapping(mapping, transformed_df, eval_networks, transformed_df_current_state_cols, transformed_df_next_state_cols, target_action_values)"
   ]
  },
  {
   "cell_type": "code",
   "execution_count": 12,
   "metadata": {},
   "outputs": [
    {
     "name": "stdout",
     "output_type": "stream",
     "text": [
      "[0.9971511200395693]\n"
     ]
    }
   ],
   "source": [
    "print(parse_mapping_eval_scores(eval_results))"
   ]
  },
  {
   "cell_type": "code",
   "execution_count": 13,
   "metadata": {},
   "outputs": [
    {
     "name": "stdout",
     "output_type": "stream",
     "text": [
      "{'dist(K1,C)': 0.9971826045145181}\n",
      "{'dist(K1,K2)': 0.9974442869777455}\n",
      "{'dist(K1,K3)': 0.9977925177529048}\n",
      "{'dist(K1,K4)': 0.9983232479220194}\n",
      "{'dist(K1,T1)': 0.9975912307068051}\n",
      "{'dist(K1,T2)': 0.9976583205774555}\n",
      "{'dist(K1,T3)': 0.9967093667067376}\n",
      "{'dist(K2,C)': 0.9980169062794082}\n",
      "{'dist(K3,C)': 0.9927059271383515}\n",
      "{'dist(K4,C)': 0.9981392265560491}\n",
      "{'dist(T1,C)': 0.9982688300186352}\n",
      "{'dist(T2,C)': 0.9979816438780178}\n",
      "{'dist(T3,C)': 0.9983983932965935}\n",
      "{'Min(dist(K2,T1),dist(K2,T2),dist(K2,T3))': 0.994562353847447}\n",
      "{'Min(dist(K3,T1),dist(K3,T2),dist(K3,T3))': 0.997890110514019}\n",
      "{'Min(dist(K4,T1),dist(K4,T2),dist(K4,T3))': 0.993753667582993}\n",
      "{'Min(ang(K2,K1,T1),ang(K2,K1,T2),ang(K2,K1,T3))': 0.9978967682220206}\n",
      "{'Min(ang(K3,K1,T1),ang(K3,K1,T2),ang(K3,K1,T3))': 0.9970785583052031}\n",
      "{'Min(ang(K4,K1,T1),ang(K4,K1,T2),ang(K4,K1,T3))': 0.9984773199549046}\n"
     ]
    }
   ],
   "source": [
    "for state in target_state_var_names:\n",
    "    print(agg_res(eval_results, state, None, 'average'))"
   ]
  }
 ],
 "metadata": {
  "kernelspec": {
   "display_name": "venv",
   "language": "python",
   "name": "python3"
  },
  "language_info": {
   "codemirror_mode": {
    "name": "ipython",
    "version": 3
   },
   "file_extension": ".py",
   "mimetype": "text/x-python",
   "name": "python",
   "nbconvert_exporter": "python",
   "pygments_lexer": "ipython3",
   "version": "3.10.4 (tags/v3.10.4:9d38120, Mar 23 2022, 23:13:41) [MSC v.1929 64 bit (AMD64)]"
  },
  "orig_nbformat": 4,
  "vscode": {
   "interpreter": {
    "hash": "3adb5649c2b955a8db409cf19868a5b0daee8b87bc5439f8460a79164555925c"
   }
  }
 },
 "nbformat": 4,
 "nbformat_minor": 2
}
