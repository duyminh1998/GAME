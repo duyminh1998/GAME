{
 "cells": [
  {
   "cell_type": "markdown",
   "metadata": {},
   "source": [
    "#### Keepaway"
   ]
  },
  {
   "cell_type": "code",
   "execution_count": 1,
   "metadata": {},
   "outputs": [],
   "source": [
    "from GAME.utils.config import config\n",
    "import pandas as pd\n",
    "import matplotlib.pyplot as plt\n",
    "import numpy as np\n",
    "import os\n",
    "import json\n",
    "\n",
    "config_data = config()"
   ]
  },
  {
   "cell_type": "markdown",
   "metadata": {},
   "source": [
    "#### Comparisons, FE, and Stopping Generation"
   ]
  },
  {
   "cell_type": "markdown",
   "metadata": {},
   "source": [
    "#### GAME"
   ]
  },
  {
   "cell_type": "code",
   "execution_count": 2,
   "metadata": {},
   "outputs": [],
   "source": [
    "MC3D_GAME_evol_folder_path = os.path.join(config_data['output_path'], '01072023 Evolve MC Maps with GAME 240 FE')\n",
    "trials = 10"
   ]
  },
  {
   "cell_type": "code",
   "execution_count": 3,
   "metadata": {},
   "outputs": [],
   "source": [
    "comparisons = []\n",
    "fitness_evaluations = []\n",
    "stopping_generation = []\n",
    "for trial in range(trials):\n",
    "    trial_stats = os.path.join(MC3D_GAME_evol_folder_path, 'MC_trial{}_stats.txt'.format(trial))\n",
    "    trial_df = pd.read_csv(trial_stats, index_col=False, header=0)    \n",
    "    fitness_evaluations.append(trial_df['fitness_evaluations'].max())\n",
    "    comparisons.append(trial_df['comparisons'].sum())\n",
    "    stopping_generation.append(trial_df['generation'].max())"
   ]
  },
  {
   "cell_type": "code",
   "execution_count": 4,
   "metadata": {},
   "outputs": [
    {
     "name": "stdout",
     "output_type": "stream",
     "text": [
      "Average comparisons: 21072.3, Average FE: 244.1, Average stopping generation: 22.0\n"
     ]
    }
   ],
   "source": [
    "print('Average comparisons: {}, Average FE: {}, Average stopping generation: {}'.format(np.mean(comparisons), np.mean(fitness_evaluations), np.mean(stopping_generation)))"
   ]
  },
  {
   "cell_type": "code",
   "execution_count": 6,
   "metadata": {},
   "outputs": [
    {
     "name": "stdout",
     "output_type": "stream",
     "text": [
      "0.9999495761835664\n",
      "0.9999491435839408\n",
      "0.9999495761835664\n",
      "0.9999495761835664\n",
      "0.9999495761835664\n",
      "0.9999495761835664\n",
      "0.9999495761835664\n",
      "0.9999495761835664\n",
      "0.9999495761835664\n",
      "0.9999495761835664\n"
     ]
    }
   ],
   "source": [
    "comparisons = []\n",
    "fitness_evaluations = []\n",
    "comparisons_avg = []\n",
    "fitness_eval_avg = []\n",
    "for trial in range(trials):\n",
    "    comparisons = []\n",
    "    fitness_evaluations = []\n",
    "    trial_stats = os.path.join(MC3D_GAME_evol_folder_path, 'MC_trial{}_stats.txt'.format(trial))\n",
    "    trial_df = pd.read_csv(trial_stats, index_col=False, header=0)\n",
    "    best_fitness = max(trial_df['best_fitness'])\n",
    "    print(best_fitness)\n",
    "    for _, row in trial_df.iterrows():\n",
    "        if row['best_fitness'] < best_fitness:\n",
    "            fitness_evaluations.append(row['fitness_evaluations'])\n",
    "            comparisons.append(row['comparisons'])\n",
    "        else:\n",
    "            break\n",
    "    comparisons_avg.append(sum(comparisons))\n",
    "    fitness_eval_avg.append(fitness_evaluations[-1])"
   ]
  },
  {
   "cell_type": "code",
   "execution_count": 20,
   "metadata": {},
   "outputs": [
    {
     "data": {
      "text/plain": [
       "1459.0"
      ]
     },
     "execution_count": 20,
     "metadata": {},
     "output_type": "execute_result"
    }
   ],
   "source": [
    "np.mean(fitness_eval_avg)"
   ]
  },
  {
   "cell_type": "markdown",
   "metadata": {},
   "source": [
    "#### GAME-RMHC"
   ]
  },
  {
   "cell_type": "code",
   "execution_count": 7,
   "metadata": {},
   "outputs": [],
   "source": [
    "MC3D_GAMERHMC_evol_folder_path = os.path.join(config_data['output_path'], '01072023 Evolve MC Maps with GAME-RMHC 240 FE')\n",
    "trials = 10"
   ]
  },
  {
   "cell_type": "code",
   "execution_count": 8,
   "metadata": {},
   "outputs": [],
   "source": [
    "comparisons = []\n",
    "fitness_evaluations = []\n",
    "stopping_generation = []\n",
    "for trial in range(trials):\n",
    "    trial_stats = os.path.join(MC3D_GAMERHMC_evol_folder_path, 'trial{}_stats.csv'.format(trial))\n",
    "    trial_df = pd.read_csv(trial_stats, index_col=False, header=0)    \n",
    "    fitness_evaluations.append(trial_df['fitness_evaluations'].max())\n",
    "    comparisons.append(trial_df['comparisons'].sum())\n",
    "    stopping_generation.append(trial_df['generation'].max())"
   ]
  },
  {
   "cell_type": "code",
   "execution_count": 9,
   "metadata": {},
   "outputs": [
    {
     "name": "stdout",
     "output_type": "stream",
     "text": [
      "Average comparisons: 480.0, Average FE: 240.0, Average stopping generation: 238.0\n"
     ]
    }
   ],
   "source": [
    "print('Average comparisons: {}, Average FE: {}, Average stopping generation: {}'.format(np.mean(comparisons), np.mean(fitness_evaluations), np.mean(stopping_generation)))"
   ]
  },
  {
   "cell_type": "code",
   "execution_count": 10,
   "metadata": {},
   "outputs": [
    {
     "name": "stdout",
     "output_type": "stream",
     "text": [
      "0.9999495761835664\n",
      "0.9999495761835664\n",
      "0.9999495761835664\n",
      "0.9999495761835664\n",
      "0.9999495761835664\n",
      "0.9999495761835664\n",
      "0.9999495761835664\n",
      "0.9999495761835664\n",
      "0.9999495761835664\n",
      "0.9999495761835664\n"
     ]
    }
   ],
   "source": [
    "comparisons = []\n",
    "fitness_evaluations = []\n",
    "comparisons_avg = []\n",
    "fitness_eval_avg = []\n",
    "for trial in range(trials):\n",
    "    comparisons = []\n",
    "    fitness_evaluations = []\n",
    "    trial_stats = os.path.join(MC3D_GAMERHMC_evol_folder_path, 'trial{}_stats.csv'.format(trial))\n",
    "    trial_df = pd.read_csv(trial_stats, index_col=False, header=0)\n",
    "    best_fitness = max(trial_df['best_fitness'])\n",
    "    print(best_fitness)\n",
    "    for _, row in trial_df.iterrows():\n",
    "        if row['best_fitness'] < best_fitness:\n",
    "            fitness_evaluations.append(row['fitness_evaluations'])\n",
    "            comparisons.append(row['comparisons'])\n",
    "        else:\n",
    "            break\n",
    "    comparisons_avg.append(sum(comparisons))\n",
    "    fitness_eval_avg.append(fitness_evaluations[-1])"
   ]
  },
  {
   "cell_type": "code",
   "execution_count": 11,
   "metadata": {},
   "outputs": [
    {
     "data": {
      "text/plain": [
       "3355.0"
      ]
     },
     "execution_count": 11,
     "metadata": {},
     "output_type": "execute_result"
    }
   ],
   "source": [
    "np.mean(comparisons_avg)"
   ]
  },
  {
   "cell_type": "code",
   "execution_count": 12,
   "metadata": {},
   "outputs": [
    {
     "data": {
      "text/plain": [
       "[1841, 1786, 1960, 1609, 1983, 1843, 1741, 1168, 1634, 1210]"
      ]
     },
     "execution_count": 12,
     "metadata": {},
     "output_type": "execute_result"
    }
   ],
   "source": [
    "fitness_eval_avg"
   ]
  },
  {
   "cell_type": "markdown",
   "metadata": {},
   "source": [
    "#### Best mapping and fitness"
   ]
  },
  {
   "cell_type": "markdown",
   "metadata": {},
   "source": [
    "#### GAME"
   ]
  },
  {
   "cell_type": "code",
   "execution_count": 33,
   "metadata": {},
   "outputs": [],
   "source": [
    "MC3D_GAME_evol_folder_path = os.path.join(config_data['output_path'], '11142022 Evolve MC Maps with GAME Best Early Stop')\n",
    "trials = 10"
   ]
  },
  {
   "cell_type": "code",
   "execution_count": 34,
   "metadata": {},
   "outputs": [],
   "source": [
    "final_mappings_fitness = {}\n",
    "final_mappings_count = {}\n",
    "for trial in range(trials):\n",
    "    pop_stats = os.path.join(MC3D_GAME_evol_folder_path, 'trial{}_population_results.txt'.format(trial))\n",
    "    with open(pop_stats, 'r') as f:\n",
    "        lines = f.readlines()\n",
    "        found = False\n",
    "        for line in lines:\n",
    "            if found:\n",
    "                split_line = line.split()\n",
    "                mapping_ID = split_line[2][:-1]\n",
    "                mapping_fitness = float(split_line[-1])\n",
    "                if mapping_ID not in final_mappings_count.keys():\n",
    "                    final_mappings_count[mapping_ID] = 1\n",
    "                else:\n",
    "                    final_mappings_count[mapping_ID] = final_mappings_count[mapping_ID] + 1\n",
    "                final_mappings_fitness[mapping_ID] = mapping_fitness\n",
    "            if line.split()[0] == \"Final\":\n",
    "                found = True"
   ]
  },
  {
   "cell_type": "code",
   "execution_count": 35,
   "metadata": {},
   "outputs": [
    {
     "name": "stdout",
     "output_type": "stream",
     "text": [
      "010100000 0.9901637016516528\n"
     ]
    }
   ],
   "source": [
    "# best mapping and fitness\n",
    "for k, v in final_mappings_fitness.items():\n",
    "    if v == max(final_mappings_fitness.values()):\n",
    "        print(k, v)"
   ]
  },
  {
   "cell_type": "code",
   "execution_count": 36,
   "metadata": {},
   "outputs": [
    {
     "name": "stdout",
     "output_type": "stream",
     "text": [
      "010110000 14 0.9888458215199126\n"
     ]
    }
   ],
   "source": [
    "# most frequent mapping and fitness\n",
    "for k, v in final_mappings_count.items():\n",
    "    if v == max(final_mappings_count.values()):\n",
    "        print(k, v, final_mappings_fitness[k])"
   ]
  },
  {
   "cell_type": "markdown",
   "metadata": {},
   "source": [
    "#### GAME-RMHC"
   ]
  },
  {
   "cell_type": "code",
   "execution_count": 10,
   "metadata": {},
   "outputs": [],
   "source": [
    "MC3D_GAMERHMC_evol_folder_path = os.path.join(config_data['output_path'], '11142022 Evolve keepaway Maps with GAME_RMHC Early Stopping')\n",
    "trials = 10"
   ]
  },
  {
   "cell_type": "code",
   "execution_count": 11,
   "metadata": {},
   "outputs": [],
   "source": [
    "final_mappings_fitness = {}\n",
    "final_mappings_count = {}\n",
    "for trial in range(trials):\n",
    "    pop_stats = os.path.join(MC3D_GAMERHMC_evol_folder_path, 'trial{}_population_results.txt'.format(trial))\n",
    "    with open(pop_stats, 'r') as f:\n",
    "        lines = f.readlines()\n",
    "        found = False\n",
    "        for line in lines:\n",
    "            if found:\n",
    "                split_line = line.split()\n",
    "                mapping_ID = split_line[2][:-1]\n",
    "                mapping_fitness = float(split_line[-1])\n",
    "                if mapping_ID not in final_mappings_count.keys():\n",
    "                    final_mappings_count[mapping_ID] = 1\n",
    "                else:\n",
    "                    final_mappings_count[mapping_ID] = final_mappings_count[mapping_ID] + 1\n",
    "                final_mappings_fitness[mapping_ID] = mapping_fitness\n",
    "            if line.split()[0] == \"Final\":\n",
    "                found = True"
   ]
  },
  {
   "cell_type": "code",
   "execution_count": 12,
   "metadata": {},
   "outputs": [
    {
     "name": "stdout",
     "output_type": "stream",
     "text": [
      "790133321165119497611120000 0.8915264283156006\n"
     ]
    }
   ],
   "source": [
    "# best mapping and fitness\n",
    "for k, v in final_mappings_fitness.items():\n",
    "    if v == max(final_mappings_fitness.values()):\n",
    "        print(k, v)"
   ]
  },
  {
   "cell_type": "code",
   "execution_count": 13,
   "metadata": {},
   "outputs": [
    {
     "name": "stdout",
     "output_type": "stream",
     "text": [
      "980144089119700887992222 1 0.8460189537578732\n",
      "98911410311810121201991112000 1 0.700745073520267\n",
      "6912182015105890987572000 1 0.7694594878462281\n",
      "129903341111598898010680020 1 0.8643530550698673\n",
      "61112009912101091011694121200000 1 0.7418696313479595\n",
      "11100121228115611113718050000 1 0.7321609423045272\n",
      "790133321165119497611120000 1 0.8915264283156006\n",
      "9109889296511912969911110002 1 0.8150823206806526\n",
      "65611783961111710810912990000 1 0.784734591687421\n",
      "061104722006881041011072002 1 0.651280511617496\n"
     ]
    }
   ],
   "source": [
    "# most frequent mapping and fitness\n",
    "for k, v in final_mappings_count.items():\n",
    "    if v == max(final_mappings_count.values()):\n",
    "        print(k, v, final_mappings_fitness[k])"
   ]
  },
  {
   "cell_type": "code",
   "execution_count": 41,
   "metadata": {},
   "outputs": [
    {
     "data": {
      "text/plain": [
       "0.981226820719746"
      ]
     },
     "execution_count": 41,
     "metadata": {},
     "output_type": "execute_result"
    }
   ],
   "source": [
    "np.mean([0.9929816541449503, 0.9863922534862493, 0.9827540818142966, 0.9898554363903732, 0.9807461375299111, 0.9727148311728532, 0.992743856876952, 0.9865786993775076, 0.9873256083696892, \n",
    "0.9938926191874691, 0.9863977078527576, 0.9832993967828477, 0.9813449416585194, 0.9650493513874667, 0.9363257347643477])"
   ]
  },
  {
   "cell_type": "markdown",
   "metadata": {},
   "source": [
    "#### GAME tuning"
   ]
  },
  {
   "cell_type": "code",
   "execution_count": 3,
   "metadata": {},
   "outputs": [],
   "source": [
    "MC3D_tuning_folder_path = os.path.join(config_data['output_path'], '111622022 Tune keepaway Maps with GAME')"
   ]
  },
  {
   "cell_type": "code",
   "execution_count": 8,
   "metadata": {},
   "outputs": [
    {
     "name": "stdout",
     "output_type": "stream",
     "text": [
      "['10', '0.6', '10', 'fusion', '10']\n",
      "0.794172345477568\n",
      "['10', '0.6', '10', 'fusion', '1']\n",
      "0.806871361242591\n",
      "['10', '0.6', '10', 'fusion', '5']\n",
      "0.7994730425055433\n",
      "['10', '0.6', '10', 'one-pt', '10']\n",
      "0.7428741585862848\n",
      "['10', '0.6', '10', 'one-pt', '1']\n",
      "0.7650884967956124\n",
      "['10', '0.6', '10', 'one-pt', '5']\n",
      "0.8131041469622897\n",
      "['10', '0.6', '2', 'fusion', '10']\n",
      "0.7591533786461487\n",
      "['10', '0.6', '2', 'fusion', '1']\n",
      "0.803694461652806\n",
      "['10', '0.6', '2', 'fusion', '5']\n",
      "0.7350791647820335\n",
      "['10', '0.6', '2', 'one-pt', '10']\n",
      "0.7882691263240825\n",
      "['10', '0.6', '2', 'one-pt', '1']\n",
      "0.7364589871454831\n",
      "['10', '0.6', '2', 'one-pt', '5']\n",
      "0.7563046909242938\n",
      "['10', '0.6', '5', 'fusion', '10']\n",
      "0.7610986763045154\n",
      "['10', '0.6', '5', 'fusion', '1']\n",
      "0.7525123449463935\n",
      "['10', '0.6', '5', 'fusion', '5']\n",
      "0.8399455136019688\n",
      "['10', '0.6', '5', 'one-pt', '10']\n",
      "0.7506491574254314\n",
      "['10', '0.6', '5', 'one-pt', '1']\n",
      "0.8075928257291045\n",
      "['10', '0.6', '5', 'one-pt', '5']\n",
      "0.7695694136525569\n",
      "['10', '0.75', '10', 'fusion', '10']\n",
      "0.8288473722291536\n",
      "['10', '0.75', '10', 'fusion', '1']\n",
      "0.8078993587870988\n",
      "['10', '0.75', '10', 'fusion', '5']\n",
      "0.8020582322857145\n",
      "['10', '0.75', '10', 'one-pt', '10']\n",
      "0.8340208956816472\n",
      "['10', '0.75', '10', 'one-pt', '1']\n",
      "0.7879477063745512\n",
      "['10', '0.75', '10', 'one-pt', '5']\n",
      "0.8197909853022706\n",
      "['10', '0.75', '2', 'fusion', '10']\n",
      "0.8325559612629544\n",
      "['10', '0.75', '2', 'fusion', '1']\n",
      "0.7619753968401987\n",
      "['10', '0.75', '2', 'fusion', '5']\n",
      "0.7791105147872603\n",
      "['10', '0.75', '2', 'one-pt', '10']\n",
      "0.804130129449349\n",
      "['10', '0.75', '2', 'one-pt', '1']\n",
      "0.737760903056335\n",
      "['10', '0.75', '2', 'one-pt', '5']\n",
      "0.7996328360946352\n",
      "['10', '0.75', '5', 'fusion', '10']\n",
      "0.8367561029678916\n",
      "['10', '0.75', '5', 'fusion', '1']\n",
      "0.8044643239082301\n",
      "['10', '0.75', '5', 'fusion', '5']\n",
      "0.8055772523802339\n",
      "['10', '0.75', '5', 'one-pt', '10']\n",
      "0.8161597992157257\n",
      "['10', '0.75', '5', 'one-pt', '1']\n",
      "0.7925755465896414\n",
      "['10', '0.75', '5', 'one-pt', '5']\n",
      "0.7946158454719834\n",
      "['10', '0.8', '10', 'fusion', '10']\n",
      "0.8158441455540849\n",
      "['10', '0.8', '10', 'fusion', '1']\n",
      "0.8471806047532454\n",
      "['10', '0.8', '10', 'fusion', '5']\n",
      "0.8907118747171621\n",
      "['10', '0.8', '10', 'one-pt', '10']\n",
      "0.8207324085840633\n",
      "['10', '0.8', '10', 'one-pt', '1']\n",
      "0.8561668486486114\n",
      "['10', '0.8', '10', 'one-pt', '5']\n",
      "0.8463920868029493\n",
      "['10', '0.8', '2', 'fusion', '10']\n",
      "0.7991096836924907\n",
      "['10', '0.8', '2', 'fusion', '1']\n",
      "0.7330278454063821\n",
      "['10', '0.8', '2', 'fusion', '5']\n",
      "0.8153062060878313\n",
      "['10', '0.8', '2', 'one-pt', '10']\n",
      "0.8166384536970056\n",
      "['10', '0.8', '2', 'one-pt', '1']\n",
      "0.8062815247059555\n",
      "['10', '0.8', '2', 'one-pt', '5']\n",
      "0.7811561456311732\n",
      "['10', '0.8', '5', 'fusion', '10']\n",
      "0.7967077067895477\n",
      "['10', '0.8', '5', 'fusion', '1']\n",
      "0.8091695992576187\n",
      "['10', '0.8', '5', 'fusion', '5']\n",
      "0.8057823138471817\n",
      "['10', '0.8', '5', 'one-pt', '10']\n",
      "0.7970435164317375\n",
      "['10', '0.8', '5', 'one-pt', '1']\n",
      "0.7868390244921845\n",
      "['10', '0.8', '5', 'one-pt', '5']\n",
      "0.8600393401685512\n",
      "['20', '0.6', '10', 'fusion', '10']\n",
      "0.7918955700069293\n",
      "['20', '0.6', '10', 'fusion', '1']\n",
      "0.7726920056988333\n",
      "['20', '0.6', '10', 'fusion', '5']\n",
      "0.7816402837133621\n",
      "['20', '0.6', '10', 'one-pt', '10']\n",
      "0.7608719129810083\n",
      "['20', '0.6', '10', 'one-pt', '1']\n",
      "0.7209422710545306\n",
      "['20', '0.6', '10', 'one-pt', '5']\n",
      "0.7650571498796589\n",
      "['20', '0.6', '20', 'fusion', '10']\n",
      "0.7997969949890781\n",
      "['20', '0.6', '20', 'fusion', '1']\n",
      "0.7947805640506631\n",
      "['20', '0.6', '20', 'fusion', '5']\n",
      "0.7906642680424958\n",
      "['20', '0.6', '20', 'one-pt', '10']\n",
      "0.7941735345662393\n",
      "['20', '0.6', '20', 'one-pt', '1']\n",
      "0.77688224326467\n",
      "['20', '0.6', '20', 'one-pt', '5']\n",
      "0.7609336049376302\n",
      "['20', '0.6', '5', 'fusion', '10']\n",
      "0.7698037195612675\n",
      "['20', '0.6', '5', 'fusion', '1']\n",
      "0.7927477284244437\n",
      "['20', '0.6', '5', 'fusion', '5']\n",
      "0.7048348338432088\n",
      "['20', '0.6', '5', 'one-pt', '10']\n",
      "0.7795211239925998\n",
      "['20', '0.6', '5', 'one-pt', '1']\n",
      "0.7613660262316687\n",
      "['20', '0.6', '5', 'one-pt', '5']\n",
      "0.7429090085877021\n",
      "['20', '0.75', '10', 'fusion', '10']\n",
      "0.7628002384941693\n",
      "['20', '0.75', '10', 'fusion', '1']\n",
      "0.8106410351723027\n",
      "['20', '0.75', '10', 'fusion', '5']\n",
      "0.810689656790832\n",
      "['20', '0.75', '10', 'one-pt', '10']\n",
      "0.7549755162998965\n",
      "['20', '0.75', '10', 'one-pt', '1']\n",
      "0.7915739035782176\n",
      "['20', '0.75', '10', 'one-pt', '5']\n",
      "0.7651566556871415\n",
      "['20', '0.75', '20', 'fusion', '10']\n",
      "0.8237494886263721\n",
      "['20', '0.75', '20', 'fusion', '1']\n",
      "0.8099861900478967\n",
      "['20', '0.75', '20', 'fusion', '5']\n",
      "0.8196912816573236\n",
      "['20', '0.75', '20', 'one-pt', '10']\n",
      "0.7680748770755477\n",
      "['20', '0.75', '20', 'one-pt', '1']\n",
      "0.8449482028701651\n",
      "['20', '0.75', '20', 'one-pt', '5']\n",
      "0.8009593695357697\n",
      "['20', '0.75', '5', 'fusion', '10']\n",
      "0.8109420630966092\n",
      "['20', '0.75', '5', 'fusion', '1']\n",
      "0.8042880561598139\n",
      "['20', '0.75', '5', 'fusion', '5']\n",
      "0.7699801363969222\n",
      "['20', '0.75', '5', 'one-pt', '10']\n",
      "0.8032289219296448\n",
      "['20', '0.75', '5', 'one-pt', '1']\n",
      "0.7832771259465445\n",
      "['20', '0.75', '5', 'one-pt', '5']\n",
      "0.783812034242378\n",
      "['20', '0.8', '10', 'fusion', '10']\n",
      "0.8072342346175075\n",
      "['20', '0.8', '10', 'fusion', '1']\n",
      "0.8055313768523528\n",
      "['20', '0.8', '10', 'fusion', '5']\n",
      "0.8477816564270896\n",
      "['20', '0.8', '10', 'one-pt', '10']\n",
      "0.8063092616054687\n",
      "['20', '0.8', '10', 'one-pt', '1']\n",
      "0.8237790776528996\n",
      "['20', '0.8', '10', 'one-pt', '5']\n",
      "0.8622937856370709\n",
      "['20', '0.8', '20', 'fusion', '10']\n",
      "0.7995708490978687\n",
      "['20', '0.8', '20', 'fusion', '1']\n",
      "0.8011522350588581\n",
      "['20', '0.8', '20', 'fusion', '5']\n",
      "0.8237203922629299\n",
      "['20', '0.8', '20', 'one-pt', '10']\n",
      "0.807382295443222\n",
      "['20', '0.8', '20', 'one-pt', '1']\n",
      "0.8248007766455892\n",
      "['20', '0.8', '20', 'one-pt', '5']\n",
      "0.8205247269987344\n",
      "['20', '0.8', '5', 'fusion', '10']\n",
      "0.8146404905947474\n",
      "['20', '0.8', '5', 'fusion', '1']\n",
      "0.8415108760538479\n",
      "['20', '0.8', '5', 'fusion', '5']\n",
      "0.8037449547232083\n",
      "['20', '0.8', '5', 'one-pt', '10']\n",
      "0.8051078401640643\n",
      "['20', '0.8', '5', 'one-pt', '1']\n",
      "0.8433672896685515\n",
      "['20', '0.8', '5', 'one-pt', '5']\n",
      "0.7850804275589374\n",
      "['40', '0.6', '10', 'fusion', '10']\n",
      "0.763768085471062\n",
      "['40', '0.6', '10', 'fusion', '1']\n",
      "0.7277992261154133\n",
      "['40', '0.6', '10', 'fusion', '5']\n",
      "0.7710595313210027\n",
      "['40', '0.6', '10', 'one-pt', '10']\n",
      "0.7442085051188029\n",
      "['40', '0.6', '10', 'one-pt', '1']\n",
      "0.8033935083151375\n",
      "['40', '0.6', '10', 'one-pt', '5']\n",
      "0.7573956411714251\n",
      "['40', '0.6', '20', 'fusion', '10']\n",
      "0.7530743249870218\n",
      "['40', '0.6', '20', 'fusion', '1']\n",
      "0.7260988028590715\n",
      "['40', '0.6', '20', 'fusion', '5']\n",
      "0.748285864857612\n",
      "['40', '0.6', '20', 'one-pt', '10']\n",
      "0.7710168955960599\n",
      "['40', '0.6', '20', 'one-pt', '1']\n",
      "0.7679223046227888\n",
      "['40', '0.6', '20', 'one-pt', '5']\n",
      "0.7823054407638909\n",
      "['40', '0.6', '40', 'fusion', '10']\n",
      "0.7676205719787262\n",
      "['40', '0.6', '40', 'fusion', '1']\n",
      "0.7767434122711055\n",
      "['40', '0.6', '40', 'fusion', '5']\n",
      "0.7921914890988475\n",
      "['40', '0.6', '40', 'one-pt', '10']\n",
      "0.782043686369808\n",
      "['40', '0.6', '40', 'one-pt', '1']\n",
      "0.7929743048736895\n",
      "['40', '0.6', '40', 'one-pt', '5']\n",
      "0.7655454115908817\n",
      "['40', '0.75', '10', 'fusion', '10']\n",
      "0.8191996081494047\n",
      "['40', '0.75', '10', 'fusion', '1']\n",
      "0.7917463265764623\n",
      "['40', '0.75', '10', 'fusion', '5']\n",
      "0.7989245767513452\n",
      "['40', '0.75', '10', 'one-pt', '10']\n",
      "0.8067572388719836\n",
      "['40', '0.75', '10', 'one-pt', '1']\n",
      "0.7721039688918637\n",
      "['40', '0.75', '10', 'one-pt', '5']\n",
      "0.8019068237703686\n",
      "['40', '0.75', '20', 'fusion', '10']\n",
      "0.8007434986826802\n",
      "['40', '0.75', '20', 'fusion', '1']\n",
      "0.7830287389845455\n",
      "['40', '0.75', '20', 'fusion', '5']\n",
      "0.8357800928542002\n",
      "['40', '0.75', '20', 'one-pt', '10']\n",
      "0.7944426882035917\n",
      "['40', '0.75', '20', 'one-pt', '1']\n",
      "0.787203700273516\n",
      "['40', '0.75', '20', 'one-pt', '5']\n",
      "0.8296982785086516\n",
      "['40', '0.75', '40', 'fusion', '10']\n",
      "0.809585017314285\n",
      "['40', '0.75', '40', 'fusion', '1']\n",
      "0.7823961128581001\n",
      "['40', '0.75', '40', 'fusion', '5']\n",
      "0.840951458811821\n",
      "['40', '0.75', '40', 'one-pt', '10']\n",
      "0.7594234985237119\n",
      "['40', '0.75', '40', 'one-pt', '1']\n",
      "0.8408190535840634\n",
      "['40', '0.75', '40', 'one-pt', '5']\n",
      "0.8339147222731205\n",
      "['40', '0.8', '10', 'fusion', '10']\n",
      "0.7737834522685166\n",
      "['40', '0.8', '10', 'fusion', '1']\n",
      "0.7615225392738754\n",
      "['40', '0.8', '10', 'fusion', '5']\n",
      "0.7899981511415735\n",
      "['40', '0.8', '10', 'one-pt', '10']\n",
      "0.7824405421908327\n",
      "['40', '0.8', '10', 'one-pt', '1']\n",
      "0.7474867566001642\n",
      "['40', '0.8', '10', 'one-pt', '5']\n",
      "0.7655964741639899\n",
      "['40', '0.8', '20', 'fusion', '10']\n",
      "0.7999145689298243\n",
      "['40', '0.8', '20', 'fusion', '1']\n",
      "0.8074787658421905\n",
      "['40', '0.8', '20', 'fusion', '5']\n",
      "0.792590566173827\n",
      "['40', '0.8', '20', 'one-pt', '10']\n",
      "0.798046846712652\n",
      "['40', '0.8', '20', 'one-pt', '1']\n",
      "0.8247301546030908\n",
      "['40', '0.8', '20', 'one-pt', '5']\n",
      "0.8050904988587105\n",
      "['40', '0.8', '40', 'fusion', '10']\n",
      "0.7920255988272021\n",
      "['40', '0.8', '40', 'fusion', '1']\n",
      "0.8399735172597861\n",
      "['40', '0.8', '40', 'fusion', '5']\n",
      "0.791772358360785\n",
      "['40', '0.8', '40', 'one-pt', '10']\n",
      "0.8124516038218074\n",
      "['40', '0.8', '40', 'one-pt', '1']\n",
      "0.7679165406933862\n",
      "['40', '0.8', '40', 'one-pt', '5']\n",
      "0.7753883166384254\n"
     ]
    }
   ],
   "source": [
    "best = []\n",
    "for exp in os.listdir(MC3D_tuning_folder_path):\n",
    "    if exp.split(\"_\")[-1] == 'stats.txt':\n",
    "        experiment_name = exp.split(\"_\")[:-1]\n",
    "        print(experiment_name)\n",
    "        exp_path = os.path.join(MC3D_tuning_folder_path, exp)\n",
    "        df = pd.read_csv(exp_path, index_col=False, header=0)\n",
    "        best_fitness = max(df['best_fitness'])\n",
    "        print(best_fitness)\n",
    "        best.append(best_fitness)"
   ]
  },
  {
   "cell_type": "code",
   "execution_count": 12,
   "metadata": {},
   "outputs": [
    {
     "data": {
      "text/plain": [
       "0.8907118747171621"
      ]
     },
     "execution_count": 12,
     "metadata": {},
     "output_type": "execute_result"
    }
   ],
   "source": [
    "sorted(best)[-1]"
   ]
  },
  {
   "cell_type": "markdown",
   "metadata": {},
   "source": [
    "#### Keepaway"
   ]
  },
  {
   "cell_type": "code",
   "execution_count": 11,
   "metadata": {},
   "outputs": [],
   "source": [
    "from GAME.utils.config import config\n",
    "import pandas as pd\n",
    "import matplotlib.pyplot as plt\n",
    "import numpy as np\n",
    "import os\n",
    "import json\n",
    "\n",
    "config_data = config()"
   ]
  },
  {
   "cell_type": "markdown",
   "metadata": {},
   "source": [
    "#### Comparisons, FE, and Stopping Generation"
   ]
  },
  {
   "cell_type": "markdown",
   "metadata": {},
   "source": [
    "#### GAME"
   ]
  },
  {
   "cell_type": "code",
   "execution_count": 21,
   "metadata": {},
   "outputs": [],
   "source": [
    "MC3D_GAME_evol_folder_path = os.path.join(config_data['output_path'], '01072023 Evolve keepaway Maps with GAME 2000 FE One-pt CX 0.043 Mutation MSE')\n",
    "trials = 10"
   ]
  },
  {
   "cell_type": "code",
   "execution_count": 22,
   "metadata": {},
   "outputs": [],
   "source": [
    "comparisons = []\n",
    "fitness_evaluations = []\n",
    "stopping_generation = []\n",
    "for trial in range(trials):\n",
    "    trial_stats = os.path.join(MC3D_GAME_evol_folder_path, 'trial{}_stats.txt'.format(trial))\n",
    "    trial_df = pd.read_csv(trial_stats, index_col=False, header=0)    \n",
    "    fitness_evaluations.append(trial_df['fitness_evaluations'].max())\n",
    "    comparisons.append(trial_df['comparisons'].sum())\n",
    "    stopping_generation.append(trial_df['generation'].max())"
   ]
  },
  {
   "cell_type": "code",
   "execution_count": 23,
   "metadata": {},
   "outputs": [
    {
     "name": "stdout",
     "output_type": "stream",
     "text": [
      "Average comparisons: 226135.9, Average FE: 2000.0, Average stopping generation: 18.0\n"
     ]
    }
   ],
   "source": [
    "print('Average comparisons: {}, Average FE: {}, Average stopping generation: {}'.format(np.mean(comparisons), np.mean(fitness_evaluations), np.mean(stopping_generation)))"
   ]
  },
  {
   "cell_type": "code",
   "execution_count": 25,
   "metadata": {},
   "outputs": [
    {
     "name": "stdout",
     "output_type": "stream",
     "text": [
      "0.9987452780124598\n",
      "0.9987504690559096\n",
      "0.9988200668439944\n",
      "0.9988480603999697\n",
      "0.9988622892868468\n",
      "0.9988436153984126\n",
      "0.9987677152267914\n",
      "0.9986646294194363\n",
      "0.9986226709744292\n",
      "0.9986699787057264\n"
     ]
    }
   ],
   "source": [
    "comparisons = []\n",
    "fitness_evaluations = []\n",
    "comparisons_avg = []\n",
    "fitness_eval_avg = []\n",
    "for trial in range(trials):\n",
    "    comparisons = []\n",
    "    fitness_evaluations = []\n",
    "    trial_stats = os.path.join(MC3D_GAME_evol_folder_path, 'trial{}_stats.txt'.format(trial))\n",
    "    trial_df = pd.read_csv(trial_stats, index_col=False, header=0)\n",
    "    best_fitness = max(trial_df['best_fitness'])\n",
    "    print(best_fitness)\n",
    "    for _, row in trial_df.iterrows():\n",
    "        if row['best_fitness'] < best_fitness:\n",
    "            fitness_evaluations.append(row['fitness_evaluations'])\n",
    "            comparisons.append(row['comparisons'])\n",
    "        else:\n",
    "            break\n",
    "    comparisons_avg.append(sum(comparisons))\n",
    "    fitness_eval_avg.append(fitness_evaluations[-1])"
   ]
  },
  {
   "cell_type": "markdown",
   "metadata": {},
   "source": [
    "#### GAME-RMHC"
   ]
  },
  {
   "cell_type": "code",
   "execution_count": 31,
   "metadata": {},
   "outputs": [],
   "source": [
    "MC3D_GAMERHMC_evol_folder_path = os.path.join(config_data['output_path'], '01072023 Evolve keepaway Maps with GAME-RMHC 2000 FE MSE')\n",
    "trials = 10"
   ]
  },
  {
   "cell_type": "code",
   "execution_count": 32,
   "metadata": {},
   "outputs": [],
   "source": [
    "comparisons = []\n",
    "fitness_evaluations = []\n",
    "stopping_generation = []\n",
    "for trial in range(trials):\n",
    "    trial_stats = os.path.join(MC3D_GAMERHMC_evol_folder_path, 'trial{}_stats.txt'.format(trial))\n",
    "    trial_df = pd.read_csv(trial_stats, index_col=False, header=0)    \n",
    "    fitness_evaluations.append(trial_df['fitness_evaluations'].max())\n",
    "    comparisons.append(trial_df['comparisons'].sum())\n",
    "    stopping_generation.append(trial_df['generation'].max())"
   ]
  },
  {
   "cell_type": "code",
   "execution_count": 33,
   "metadata": {},
   "outputs": [
    {
     "name": "stdout",
     "output_type": "stream",
     "text": [
      "Average comparisons: 4000.0, Average FE: 2000.0, Average stopping generation: 1998.0\n"
     ]
    }
   ],
   "source": [
    "print('Average comparisons: {}, Average FE: {}, Average stopping generation: {}'.format(np.mean(comparisons), np.mean(fitness_evaluations), np.mean(stopping_generation)))"
   ]
  },
  {
   "cell_type": "code",
   "execution_count": 34,
   "metadata": {},
   "outputs": [
    {
     "name": "stdout",
     "output_type": "stream",
     "text": [
      "0.9989226894527764\n",
      "0.9989179213021916\n",
      "0.9990878753907178\n",
      "0.998940324852284\n",
      "0.9990393450627442\n",
      "0.999107711067322\n",
      "0.9989716707440875\n",
      "0.998798887599356\n",
      "0.9990263316568658\n",
      "0.9990984588763284\n"
     ]
    }
   ],
   "source": [
    "comparisons = []\n",
    "fitness_evaluations = []\n",
    "comparisons_avg = []\n",
    "fitness_eval_avg = []\n",
    "for trial in range(trials):\n",
    "    comparisons = []\n",
    "    fitness_evaluations = []\n",
    "    trial_stats = os.path.join(MC3D_GAMERHMC_evol_folder_path, 'trial{}_stats.txt'.format(trial))\n",
    "    trial_df = pd.read_csv(trial_stats, index_col=False, header=0)\n",
    "    best_fitness = max(trial_df['best_fitness'])\n",
    "    print(best_fitness)\n",
    "    for _, row in trial_df.iterrows():\n",
    "        if row['best_fitness'] < best_fitness:\n",
    "            fitness_evaluations.append(row['fitness_evaluations'])\n",
    "            comparisons.append(row['comparisons'])\n",
    "        else:\n",
    "            break\n",
    "    comparisons_avg.append(sum(comparisons))\n",
    "    fitness_eval_avg.append(fitness_evaluations[-1])"
   ]
  },
  {
   "cell_type": "code",
   "execution_count": 36,
   "metadata": {},
   "outputs": [
    {
     "data": {
      "text/plain": [
       "[1621, 1671, 1783, 1865, 1769, 1801, 1864, 1642, 1842, 1981]"
      ]
     },
     "execution_count": 36,
     "metadata": {},
     "output_type": "execute_result"
    }
   ],
   "source": [
    "fitness_eval_avg"
   ]
  },
  {
   "cell_type": "markdown",
   "metadata": {},
   "source": [
    "#### Best mapping and fitness"
   ]
  },
  {
   "cell_type": "markdown",
   "metadata": {},
   "source": [
    "#### GAME"
   ]
  },
  {
   "cell_type": "code",
   "execution_count": 15,
   "metadata": {},
   "outputs": [],
   "source": [
    "MC3D_GAME_evol_folder_path = os.path.join(config_data['output_path'], '01072023 Evolve keepaway Maps with GAME 2000 FE One-pt CX 0.043 Mutation MSE')\n",
    "trials = 10"
   ]
  },
  {
   "cell_type": "code",
   "execution_count": 16,
   "metadata": {},
   "outputs": [],
   "source": [
    "final_mappings_fitness = {}\n",
    "final_mappings_count = {}\n",
    "for trial in range(trials):\n",
    "    pop_stats = os.path.join(MC3D_GAME_evol_folder_path, 'trial{}_population_results.txt'.format(trial))\n",
    "    with open(pop_stats, 'r') as f:\n",
    "        lines = f.readlines()\n",
    "        found = False\n",
    "        for line in lines:\n",
    "            if found:\n",
    "                split_line = line.split()\n",
    "                mapping_ID = split_line[2][:-1]\n",
    "                mapping_fitness = float(split_line[-1])\n",
    "                if mapping_ID not in final_mappings_count.keys():\n",
    "                    final_mappings_count[mapping_ID] = 1\n",
    "                else:\n",
    "                    final_mappings_count[mapping_ID] = final_mappings_count[mapping_ID] + 1\n",
    "                final_mappings_fitness[mapping_ID] = mapping_fitness\n",
    "            if line.split()[0] == \"Final\":\n",
    "                found = True"
   ]
  },
  {
   "cell_type": "code",
   "execution_count": 17,
   "metadata": {},
   "outputs": [
    {
     "name": "stdout",
     "output_type": "stream",
     "text": [
      "1212611200066128120105011121111 0.9988622892868468\n"
     ]
    }
   ],
   "source": [
    "# best mapping and fitness\n",
    "for k, v in final_mappings_fitness.items():\n",
    "    if v == max(final_mappings_fitness.values()):\n",
    "        print(k, v)"
   ]
  },
  {
   "cell_type": "code",
   "execution_count": 9,
   "metadata": {},
   "outputs": [
    {
     "name": "stdout",
     "output_type": "stream",
     "text": [
      "810093341206988782109100020 2 0.8762895889292887\n"
     ]
    }
   ],
   "source": [
    "# most frequent mapping and fitness\n",
    "for k, v in final_mappings_count.items():\n",
    "    if v == max(final_mappings_count.values()):\n",
    "        print(k, v, final_mappings_fitness[k])"
   ]
  },
  {
   "cell_type": "markdown",
   "metadata": {},
   "source": [
    "#### GAME-RMHC"
   ]
  },
  {
   "cell_type": "code",
   "execution_count": 3,
   "metadata": {},
   "outputs": [],
   "source": [
    "MC3D_GAMERHMC_evol_folder_path = os.path.join(config_data['output_path'], '01072023 Evolve keepaway Maps with GAME-RMHC 2000 FE MSE')\n",
    "trials = 10"
   ]
  },
  {
   "cell_type": "code",
   "execution_count": 4,
   "metadata": {},
   "outputs": [],
   "source": [
    "final_mappings_fitness = {}\n",
    "final_mappings_count = {}\n",
    "for trial in range(trials):\n",
    "    pop_stats = os.path.join(MC3D_GAMERHMC_evol_folder_path, 'trial{}_population_results.txt'.format(trial))\n",
    "    with open(pop_stats, 'r') as f:\n",
    "        lines = f.readlines()\n",
    "        found = False\n",
    "        for line in lines:\n",
    "            if found:\n",
    "                split_line = line.split()\n",
    "                mapping_ID = split_line[2][:-1]\n",
    "                mapping_fitness = float(split_line[-1])\n",
    "                if mapping_ID not in final_mappings_count.keys():\n",
    "                    final_mappings_count[mapping_ID] = 1\n",
    "                else:\n",
    "                    final_mappings_count[mapping_ID] = final_mappings_count[mapping_ID] + 1\n",
    "                final_mappings_fitness[mapping_ID] = mapping_fitness\n",
    "            if line.split()[0] == \"Final\":\n",
    "                found = True"
   ]
  },
  {
   "cell_type": "code",
   "execution_count": 5,
   "metadata": {},
   "outputs": [
    {
     "name": "stdout",
     "output_type": "stream",
     "text": [
      "121161706120012121276121212121111 0.9991077110673219\n"
     ]
    }
   ],
   "source": [
    "# best mapping and fitness\n",
    "for k, v in final_mappings_fitness.items():\n",
    "    if v == max(final_mappings_fitness.values()):\n",
    "        print(k, v)"
   ]
  },
  {
   "cell_type": "code",
   "execution_count": 16,
   "metadata": {},
   "outputs": [
    {
     "name": "stdout",
     "output_type": "stream",
     "text": [
      "980144089119700887992222 1 0.8460189537578732\n",
      "98911410311810121201991112000 1 0.700745073520267\n",
      "6912182015105890987572000 1 0.7694594878462281\n",
      "129903341111598898010680020 1 0.8643530550698673\n",
      "61112009912101091011694121200000 1 0.7418696313479595\n",
      "11100121228115611113718050000 1 0.7321609423045272\n",
      "790133321165119497611120000 1 0.8915264283156006\n",
      "9109889296511912969911110002 1 0.8150823206806526\n",
      "65611783961111710810912990000 1 0.784734591687421\n",
      "061104722006881041011072002 1 0.651280511617496\n"
     ]
    }
   ],
   "source": [
    "# most frequent mapping and fitness\n",
    "for k, v in final_mappings_count.items():\n",
    "    if v == max(final_mappings_count.values()):\n",
    "        print(k, v, final_mappings_fitness[k])"
   ]
  },
  {
   "cell_type": "markdown",
   "metadata": {},
   "source": [
    "#### Total Mappings Processed"
   ]
  },
  {
   "cell_type": "code",
   "execution_count": 18,
   "metadata": {},
   "outputs": [],
   "source": [
    "MC3D_GAME_evol_folder_path = os.path.join(config_data['output_path'], '01072023 Evolve keepaway Maps with GAME 2000 FE One-pt CX 0.043 Mutation MSE')\n",
    "trials = 10"
   ]
  },
  {
   "cell_type": "code",
   "execution_count": 19,
   "metadata": {},
   "outputs": [],
   "source": [
    "total_mappings = []\n",
    "unique_mappings = []\n",
    "duplicate_mappings = []\n",
    "for trial in range(trials):\n",
    "    with open(os.path.join(MC3D_GAME_evol_folder_path, 'trial{}_stats_population_stats.txt'.format(trial)), 'r') as f:\n",
    "        pop_stats = json.load(f)\n",
    "        total_mappings.append(len(pop_stats.keys()))\n",
    "        unique_mappings.append(sum(1 for freq in pop_stats.values() if freq == 1))\n",
    "        duplicate_mappings.append(sum(1 for freq in pop_stats.values() if freq > 1))"
   ]
  },
  {
   "cell_type": "code",
   "execution_count": 20,
   "metadata": {},
   "outputs": [
    {
     "name": "stdout",
     "output_type": "stream",
     "text": [
      "Average total mappings: 1249.5, Average unique mappings: 1090.2, Average duplicate mappings: 159.3\n"
     ]
    }
   ],
   "source": [
    "print('Average total mappings: {}, Average unique mappings: {}, Average duplicate mappings: {}'.format(np.mean(total_mappings), np.mean(unique_mappings), np.mean(duplicate_mappings)))"
   ]
  },
  {
   "cell_type": "code",
   "execution_count": 25,
   "metadata": {},
   "outputs": [],
   "source": [
    "population = []\n",
    "for trial in range(trials):\n",
    "    with open(os.path.join(MC3D_GAME_evol_folder_path, 'trial{}_population_results.txt'.format(trial)), 'r') as f:\n",
    "        lines = f.readlines()\n",
    "        found = False\n",
    "        for line in lines:\n",
    "            if found:\n",
    "                offspring = [int(i) for i in line.split('State mapping: ')[1].split(', Action mapping')[0][1:-1].split(', ')]\n",
    "                population.append(offspring)\n",
    "            if line == 'Final population:\\n':\n",
    "                found = True"
   ]
  },
  {
   "cell_type": "code",
   "execution_count": 33,
   "metadata": {},
   "outputs": [
    {
     "name": "stdout",
     "output_type": "stream",
     "text": [
      "0: 28\n",
      "1: 3\n",
      "2: 1\n",
      "3: 3\n",
      "4: 2\n",
      "5: 1\n",
      "6: 4\n",
      "7: 13\n",
      "8: 1\n",
      "9: 3\n",
      "10: 20\n",
      "11: 20\n",
      "12: 1\n",
      "\n",
      "\n",
      "0: 2\n",
      "1: 0\n",
      "2: 2\n",
      "3: 2\n",
      "4: 0\n",
      "5: 18\n",
      "6: 0\n",
      "7: 3\n",
      "8: 10\n",
      "9: 5\n",
      "10: 16\n",
      "11: 30\n",
      "12: 12\n",
      "\n",
      "\n",
      "0: 3\n",
      "1: 5\n",
      "2: 0\n",
      "3: 3\n",
      "4: 0\n",
      "5: 12\n",
      "6: 16\n",
      "7: 2\n",
      "8: 17\n",
      "9: 14\n",
      "10: 2\n",
      "11: 22\n",
      "12: 4\n",
      "\n",
      "\n",
      "0: 29\n",
      "1: 16\n",
      "2: 6\n",
      "3: 1\n",
      "4: 1\n",
      "5: 2\n",
      "6: 2\n",
      "7: 34\n",
      "8: 3\n",
      "9: 1\n",
      "10: 2\n",
      "11: 1\n",
      "12: 2\n",
      "\n",
      "\n",
      "0: 1\n",
      "1: 1\n",
      "2: 0\n",
      "3: 35\n",
      "4: 46\n",
      "5: 1\n",
      "6: 0\n",
      "7: 3\n",
      "8: 3\n",
      "9: 6\n",
      "10: 1\n",
      "11: 0\n",
      "12: 3\n",
      "\n",
      "\n",
      "0: 0\n",
      "1: 3\n",
      "2: 1\n",
      "3: 45\n",
      "4: 40\n",
      "5: 0\n",
      "6: 1\n",
      "7: 6\n",
      "8: 3\n",
      "9: 0\n",
      "10: 1\n",
      "11: 0\n",
      "12: 0\n",
      "\n",
      "\n",
      "0: 2\n",
      "1: 1\n",
      "2: 22\n",
      "3: 20\n",
      "4: 42\n",
      "5: 0\n",
      "6: 3\n",
      "7: 1\n",
      "8: 2\n",
      "9: 4\n",
      "10: 1\n",
      "11: 1\n",
      "12: 1\n",
      "\n",
      "\n",
      "0: 20\n",
      "1: 1\n",
      "2: 15\n",
      "3: 1\n",
      "4: 0\n",
      "5: 1\n",
      "6: 2\n",
      "7: 1\n",
      "8: 2\n",
      "9: 36\n",
      "10: 17\n",
      "11: 2\n",
      "12: 2\n",
      "\n",
      "\n",
      "0: 0\n",
      "1: 1\n",
      "2: 5\n",
      "3: 3\n",
      "4: 2\n",
      "5: 3\n",
      "6: 54\n",
      "7: 3\n",
      "8: 0\n",
      "9: 2\n",
      "10: 17\n",
      "11: 7\n",
      "12: 3\n",
      "\n",
      "\n",
      "0: 0\n",
      "1: 1\n",
      "2: 0\n",
      "3: 1\n",
      "4: 3\n",
      "5: 0\n",
      "6: 38\n",
      "7: 1\n",
      "8: 1\n",
      "9: 3\n",
      "10: 16\n",
      "11: 4\n",
      "12: 32\n",
      "\n",
      "\n",
      "0: 1\n",
      "1: 0\n",
      "2: 1\n",
      "3: 3\n",
      "4: 0\n",
      "5: 14\n",
      "6: 1\n",
      "7: 18\n",
      "8: 5\n",
      "9: 36\n",
      "10: 19\n",
      "11: 1\n",
      "12: 1\n",
      "\n",
      "\n",
      "0: 1\n",
      "1: 3\n",
      "2: 2\n",
      "3: 1\n",
      "4: 2\n",
      "5: 20\n",
      "6: 1\n",
      "7: 2\n",
      "8: 33\n",
      "9: 29\n",
      "10: 2\n",
      "11: 1\n",
      "12: 3\n",
      "\n",
      "\n",
      "0: 1\n",
      "1: 1\n",
      "2: 0\n",
      "3: 0\n",
      "4: 0\n",
      "5: 8\n",
      "6: 15\n",
      "7: 5\n",
      "8: 43\n",
      "9: 17\n",
      "10: 5\n",
      "11: 2\n",
      "12: 3\n",
      "\n",
      "\n",
      "0: 0\n",
      "1: 1\n",
      "2: 26\n",
      "3: 3\n",
      "4: 2\n",
      "5: 0\n",
      "6: 3\n",
      "7: 22\n",
      "8: 19\n",
      "9: 19\n",
      "10: 1\n",
      "11: 2\n",
      "12: 2\n",
      "\n",
      "\n",
      "0: 2\n",
      "1: 0\n",
      "2: 19\n",
      "3: 1\n",
      "4: 0\n",
      "5: 1\n",
      "6: 0\n",
      "7: 20\n",
      "8: 1\n",
      "9: 33\n",
      "10: 2\n",
      "11: 2\n",
      "12: 19\n",
      "\n",
      "\n",
      "0: 2\n",
      "1: 3\n",
      "2: 2\n",
      "3: 1\n",
      "4: 59\n",
      "5: 2\n",
      "6: 1\n",
      "7: 3\n",
      "8: 1\n",
      "9: 22\n",
      "10: 4\n",
      "11: 0\n",
      "12: 0\n",
      "\n",
      "\n",
      "0: 2\n",
      "1: 0\n",
      "2: 1\n",
      "3: 1\n",
      "4: 0\n",
      "5: 19\n",
      "6: 1\n",
      "7: 2\n",
      "8: 2\n",
      "9: 6\n",
      "10: 14\n",
      "11: 34\n",
      "12: 18\n",
      "\n",
      "\n",
      "0: 2\n",
      "1: 0\n",
      "2: 0\n",
      "3: 1\n",
      "4: 3\n",
      "5: 3\n",
      "6: 19\n",
      "7: 1\n",
      "8: 2\n",
      "9: 4\n",
      "10: 42\n",
      "11: 22\n",
      "12: 1\n",
      "\n",
      "\n",
      "0: 8\n",
      "1: 2\n",
      "2: 2\n",
      "3: 1\n",
      "4: 1\n",
      "5: 15\n",
      "6: 1\n",
      "7: 7\n",
      "8: 3\n",
      "9: 34\n",
      "10: 0\n",
      "11: 13\n",
      "12: 13\n",
      "\n",
      "\n"
     ]
    }
   ],
   "source": [
    "for i in range(19):\n",
    "    mapping = []\n",
    "    for j in range(100):\n",
    "        mapping.append(population[j][i])\n",
    "    for j in range(13):\n",
    "        print('{}: {}'.format(j, mapping.count(j)))\n",
    "    print('\\n')"
   ]
  },
  {
   "cell_type": "code",
   "execution_count": 29,
   "metadata": {},
   "outputs": [
    {
     "data": {
      "text/plain": [
       "[12,\n",
       " 12,\n",
       " 12,\n",
       " 12,\n",
       " 12,\n",
       " 7,\n",
       " 0,\n",
       " 8,\n",
       " 12,\n",
       " 7,\n",
       " 12,\n",
       " 7,\n",
       " 12,\n",
       " 7,\n",
       " 12,\n",
       " 12,\n",
       " 5,\n",
       " 12,\n",
       " 6,\n",
       " 12,\n",
       " 11,\n",
       " 11,\n",
       " 11,\n",
       " 7,\n",
       " 8,\n",
       " 0,\n",
       " 0,\n",
       " 11,\n",
       " 11,\n",
       " 11,\n",
       " 7,\n",
       " 11,\n",
       " 0,\n",
       " 11,\n",
       " 11,\n",
       " 11,\n",
       " 11,\n",
       " 11,\n",
       " 0,\n",
       " 11,\n",
       " 9,\n",
       " 7,\n",
       " 9,\n",
       " 9,\n",
       " 9,\n",
       " 9,\n",
       " 9,\n",
       " 9,\n",
       " 9,\n",
       " 9,\n",
       " 9,\n",
       " 9,\n",
       " 9,\n",
       " 1,\n",
       " 9,\n",
       " 9,\n",
       " 9,\n",
       " 9,\n",
       " 9,\n",
       " 9,\n",
       " 5,\n",
       " 0,\n",
       " 5,\n",
       " 5,\n",
       " 5,\n",
       " 5,\n",
       " 9,\n",
       " 9,\n",
       " 5,\n",
       " 5,\n",
       " 2,\n",
       " 1,\n",
       " 9,\n",
       " 3,\n",
       " 5,\n",
       " 5,\n",
       " 5,\n",
       " 5,\n",
       " 9,\n",
       " 5,\n",
       " 9,\n",
       " 9,\n",
       " 9,\n",
       " 9,\n",
       " 2,\n",
       " 5,\n",
       " 9,\n",
       " 9,\n",
       " 9,\n",
       " 0,\n",
       " 9,\n",
       " 9,\n",
       " 8,\n",
       " 0,\n",
       " 4,\n",
       " 12,\n",
       " 9,\n",
       " 5,\n",
       " 9,\n",
       " 9]"
      ]
     },
     "execution_count": 29,
     "metadata": {},
     "output_type": "execute_result"
    }
   ],
   "source": [
    "mapping"
   ]
  },
  {
   "cell_type": "code",
   "execution_count": 5,
   "metadata": {},
   "outputs": [],
   "source": [
    "MC3D_GAMERHMC_evol_folder_path = os.path.join(config_data['output_path'], '11122022 Evolve keepaway Maps with GAME_RMHC 2000 FE')\n",
    "trials = 10\n",
    "\n",
    "total_mappings = []\n",
    "unique_mappings = []\n",
    "duplicate_mappings = []\n",
    "for trial in range(trials):\n",
    "    with open(os.path.join(MC3D_GAMERHMC_evol_folder_path, 'trial{}_stats_population_stats.txt'.format(trial)), 'r') as f:\n",
    "        pop_stats = json.load(f)\n",
    "        total_mappings.append(len(pop_stats.keys()))\n",
    "        unique_mappings.append(sum(1 for freq in pop_stats.values() if freq == 1))\n",
    "        duplicate_mappings.append(sum(1 for freq in pop_stats.values() if freq > 1))"
   ]
  },
  {
   "cell_type": "code",
   "execution_count": 6,
   "metadata": {},
   "outputs": [
    {
     "name": "stdout",
     "output_type": "stream",
     "text": [
      "Average total mappings: 1760.1, Average unique mappings: 1565.5, Average duplicate mappings: 194.6\n"
     ]
    }
   ],
   "source": [
    "print('Average total mappings: {}, Average unique mappings: {}, Average duplicate mappings: {}'.format(np.mean(total_mappings), np.mean(unique_mappings), np.mean(duplicate_mappings)))"
   ]
  },
  {
   "cell_type": "code",
   "execution_count": null,
   "metadata": {},
   "outputs": [],
   "source": []
  },
  {
   "cell_type": "markdown",
   "metadata": {},
   "source": [
    "#### Best ending individual and fitness"
   ]
  },
  {
   "cell_type": "code",
   "execution_count": null,
   "metadata": {},
   "outputs": [],
   "source": []
  },
  {
   "cell_type": "markdown",
   "metadata": {},
   "source": [
    "#### GAME_SAHC"
   ]
  },
  {
   "cell_type": "code",
   "execution_count": 28,
   "metadata": {},
   "outputs": [],
   "source": [
    "MC3D_GAME_evol_folder_path = os.path.join(config_data['output_path'], '11112022 Evolve MC Maps with GAME_SAHC Best Early Stop')\n",
    "trials = 10"
   ]
  },
  {
   "cell_type": "code",
   "execution_count": 30,
   "metadata": {},
   "outputs": [],
   "source": [
    "comparisons = []\n",
    "fitness_evaluations = []\n",
    "stopping_generation = []\n",
    "for trial in range(trials):\n",
    "    trial_stats = os.path.join(MC3D_GAME_evol_folder_path, 'MC_trial{}_stats.txt'.format(trial))\n",
    "    trial_df = pd.read_csv(trial_stats, index_col=False, header=0)    \n",
    "    fitness_evaluations.append(trial_df['fitness_evaluations'].max())\n",
    "    comparisons.append(trial_df['comparisons'].sum())\n",
    "    stopping_generation.append(trial_df['generation'].max())"
   ]
  },
  {
   "cell_type": "code",
   "execution_count": 31,
   "metadata": {},
   "outputs": [
    {
     "name": "stdout",
     "output_type": "stream",
     "text": [
      "Average comparisons: 195.2, Average FE: 97.6, Average stopping generation: 5.9\n"
     ]
    }
   ],
   "source": [
    "print('Average comparisons: {}, Average FE: {}, Average stopping generation: {}'.format(np.mean(comparisons), np.mean(fitness_evaluations), np.mean(stopping_generation)))"
   ]
  },
  {
   "cell_type": "code",
   "execution_count": 32,
   "metadata": {},
   "outputs": [],
   "source": [
    "total_mappings = []\n",
    "unique_mappings = []\n",
    "duplicate_mappings = []\n",
    "for trial in range(trials):\n",
    "    with open(os.path.join(MC3D_GAME_evol_folder_path, 'MC_trial{}_stats_population_stats.txt'.format(trial)), 'r') as f:\n",
    "        pop_stats = json.load(f)\n",
    "        total_mappings.append(len(pop_stats.keys()))\n",
    "        unique_mappings.append(sum(1 for freq in pop_stats.values() if freq == 1))\n",
    "        duplicate_mappings.append(sum(1 for freq in pop_stats.values() if freq > 1))"
   ]
  },
  {
   "cell_type": "code",
   "execution_count": 33,
   "metadata": {},
   "outputs": [
    {
     "name": "stdout",
     "output_type": "stream",
     "text": [
      "Average total mappings: 6.9, Average unique mappings: 6.9, Average duplicate mappings: 0.0\n"
     ]
    }
   ],
   "source": [
    "print('Average total mappings: {}, Average unique mappings: {}, Average duplicate mappings: {}'.format(np.mean(total_mappings), np.mean(unique_mappings), np.mean(duplicate_mappings)))"
   ]
  }
 ],
 "metadata": {
  "kernelspec": {
   "display_name": "venv",
   "language": "python",
   "name": "python3"
  },
  "language_info": {
   "codemirror_mode": {
    "name": "ipython",
    "version": 3
   },
   "file_extension": ".py",
   "mimetype": "text/x-python",
   "name": "python",
   "nbconvert_exporter": "python",
   "pygments_lexer": "ipython3",
   "version": "3.10.4"
  },
  "orig_nbformat": 4,
  "vscode": {
   "interpreter": {
    "hash": "3adb5649c2b955a8db409cf19868a5b0daee8b87bc5439f8460a79164555925c"
   }
  }
 },
 "nbformat": 4,
 "nbformat_minor": 2
}
