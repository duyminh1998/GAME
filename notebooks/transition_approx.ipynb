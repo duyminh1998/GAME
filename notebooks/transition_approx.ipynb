{
 "cells": [
  {
   "cell_type": "markdown",
   "metadata": {},
   "source": [
    "#### Testing the data loading for the transition data"
   ]
  },
  {
   "cell_type": "code",
   "execution_count": 1,
   "metadata": {},
   "outputs": [],
   "source": [
    "from GAME.utils.data_loaders import TransitionDataLoader\n",
    "from GAME.utils.nn import LinearNeuralNet\n",
    "from GAME.utils.config import config\n",
    "import pandas as pd\n",
    "import numpy as np\n",
    "from sklearn.model_selection import train_test_split, GridSearchCV\n",
    "from sklearn.neural_network import MLPRegressor\n",
    "import torch\n",
    "import torch.nn as nn \n",
    "import pickle\n",
    "import os\n",
    "import json"
   ]
  },
  {
   "cell_type": "code",
   "execution_count": 7,
   "metadata": {},
   "outputs": [],
   "source": [
    "config_data = config()\n",
    "file_path = config_data[\"output_path\"] + \"11012022 3DMC Sample Collection 50 Episodes Full Explore\\\\3DMC_50_episodes_sample_data.csv\"\n",
    "current_state_cols = config_data['3DMC_current_state_transition_df_col_names']\n",
    "next_state_cols = config_data['3DMC_next_state_transition_df_col_names']\n",
    "action_col_name = config_data['action_transition_df_col_name']\n",
    "nn_folder_path = config_data[\"pickle_path\"] + \"11012022 3DMC Neural Nets\\\\\""
   ]
  },
  {
   "cell_type": "code",
   "execution_count": 10,
   "metadata": {},
   "outputs": [
    {
     "name": "stdout",
     "output_type": "stream",
     "text": [
      "Evaluating action: 0, target: Next-x_position\n",
      "{'activation': 'relu', 'hidden_layer_sizes': [10], 'learning_rate': 'adaptive', 'learning_rate_init': 0.1, 'max_iter': 2500, 'solver': 'adam'}\n",
      "Evaluating action: 0, target: Next-x_velocity\n",
      "{'activation': 'logistic', 'hidden_layer_sizes': [20], 'learning_rate': 'adaptive', 'learning_rate_init': 0.01, 'max_iter': 2500, 'solver': 'adam'}\n",
      "Evaluating action: 0, target: Next-y_position\n",
      "{'activation': 'relu', 'hidden_layer_sizes': [10], 'learning_rate': 'constant', 'learning_rate_init': 0.2, 'max_iter': 2500, 'solver': 'adam'}\n",
      "Evaluating action: 0, target: Next-y_velocity\n",
      "{'activation': 'logistic', 'hidden_layer_sizes': [10], 'learning_rate': 'adaptive', 'learning_rate_init': 0.01, 'max_iter': 2500, 'solver': 'adam'}\n",
      "Evaluating action: 1, target: Next-x_position\n",
      "{'activation': 'relu', 'hidden_layer_sizes': [10], 'learning_rate': 'adaptive', 'learning_rate_init': 0.01, 'max_iter': 2500, 'solver': 'adam'}\n",
      "Evaluating action: 1, target: Next-x_velocity\n",
      "{'activation': 'relu', 'hidden_layer_sizes': [8], 'learning_rate': 'constant', 'learning_rate_init': 0.1, 'max_iter': 2500, 'solver': 'adam'}\n",
      "Evaluating action: 1, target: Next-y_position\n",
      "{'activation': 'relu', 'hidden_layer_sizes': [20], 'learning_rate': 'constant', 'learning_rate_init': 0.1, 'max_iter': 2500, 'solver': 'adam'}\n",
      "Evaluating action: 1, target: Next-y_velocity\n",
      "{'activation': 'logistic', 'hidden_layer_sizes': [20], 'learning_rate': 'adaptive', 'learning_rate_init': 0.01, 'max_iter': 2500, 'solver': 'adam'}\n",
      "Evaluating action: 2, target: Next-x_position\n",
      "{'activation': 'relu', 'hidden_layer_sizes': [20], 'learning_rate': 'constant', 'learning_rate_init': 0.1, 'max_iter': 2500, 'solver': 'adam'}\n",
      "Evaluating action: 2, target: Next-x_velocity\n",
      "{'activation': 'relu', 'hidden_layer_sizes': [8], 'learning_rate': 'constant', 'learning_rate_init': 0.1, 'max_iter': 2500, 'solver': 'adam'}\n",
      "Evaluating action: 2, target: Next-y_position\n",
      "{'activation': 'relu', 'hidden_layer_sizes': [20], 'learning_rate': 'constant', 'learning_rate_init': 0.1, 'max_iter': 2500, 'solver': 'adam'}\n",
      "Evaluating action: 2, target: Next-y_velocity\n",
      "{'activation': 'logistic', 'hidden_layer_sizes': [20], 'learning_rate': 'constant', 'learning_rate_init': 0.01, 'max_iter': 2500, 'solver': 'adam'}\n",
      "Evaluating action: 3, target: Next-x_position\n",
      "{'activation': 'relu', 'hidden_layer_sizes': [20], 'learning_rate': 'constant', 'learning_rate_init': 0.1, 'max_iter': 2500, 'solver': 'adam'}\n",
      "Evaluating action: 3, target: Next-x_velocity\n",
      "{'activation': 'relu', 'hidden_layer_sizes': [8], 'learning_rate': 'adaptive', 'learning_rate_init': 0.1, 'max_iter': 2500, 'solver': 'adam'}\n",
      "Evaluating action: 3, target: Next-y_position\n",
      "{'activation': 'relu', 'hidden_layer_sizes': [8], 'learning_rate': 'constant', 'learning_rate_init': 0.1, 'max_iter': 2500, 'solver': 'adam'}\n",
      "Evaluating action: 3, target: Next-y_velocity\n",
      "{'activation': 'logistic', 'hidden_layer_sizes': [20], 'learning_rate': 'constant', 'learning_rate_init': 0.01, 'max_iter': 2500, 'solver': 'adam'}\n",
      "Evaluating action: 4, target: Next-x_position\n",
      "{'activation': 'relu', 'hidden_layer_sizes': [10], 'learning_rate': 'adaptive', 'learning_rate_init': 0.1, 'max_iter': 2500, 'solver': 'adam'}\n",
      "Evaluating action: 4, target: Next-x_velocity\n",
      "{'activation': 'logistic', 'hidden_layer_sizes': [20], 'learning_rate': 'constant', 'learning_rate_init': 0.01, 'max_iter': 2500, 'solver': 'adam'}\n",
      "Evaluating action: 4, target: Next-y_position\n",
      "{'activation': 'relu', 'hidden_layer_sizes': [8], 'learning_rate': 'adaptive', 'learning_rate_init': 0.1, 'max_iter': 2500, 'solver': 'adam'}\n",
      "Evaluating action: 4, target: Next-y_velocity\n",
      "{'activation': 'relu', 'hidden_layer_sizes': [20], 'learning_rate': 'adaptive', 'learning_rate_init': 0.1, 'max_iter': 2500, 'solver': 'adam'}\n"
     ]
    }
   ],
   "source": [
    "## nn training parameters\n",
    "parameters = {\n",
    "    'hidden_layer_sizes': [(8,), (10,), (20,)],\n",
    "    'activation': ['logistic', 'tanh', 'relu'],\n",
    "    'solver': ['sgd', 'adam'],\n",
    "    'learning_rate': ['constant', 'adaptive'],\n",
    "    'learning_rate_init': [0.001, 0.01, 0.1, 0.2],\n",
    "    'max_iter': [2500]\n",
    "}\n",
    "\n",
    "actions = [0, 1, 2, 3, 4]\n",
    "targets = next_state_cols\n",
    "for action in actions:\n",
    "    data = TransitionDataLoader(file_path, current_state_cols, next_state_cols, action, action_col_name)\n",
    "    for target in targets:\n",
    "        print(\"Evaluating action: {}, target: {}\".format(action, target))\n",
    "        df_with_one_target = data.split_features_targets(target)\n",
    "        X = df_with_one_target[data.current_state_cols]\n",
    "        y = df_with_one_target[target]\n",
    "        X_train, X_val, y_train, y_val = train_test_split(X, y, test_size=0.2, random_state=42)\n",
    "        \n",
    "        # mlp = MLPRegressor()\n",
    "        # clf = GridSearchCV(mlp, parameters)\n",
    "\n",
    "        # clf.fit(X_val, y_val)\n",
    "\n",
    "        param_file = nn_folder_path + 'a{}_s{}_3DMC_cv_results.txt'.format(action, 'Next_' + '_'.join(target.split('-')[1:]))\n",
    "        with open(param_file, 'r') as f:\n",
    "            network_params = json.loads(f.readline())\n",
    "\n",
    "        best_mlp = MLPRegressor(hidden_layer_sizes=network_params['hidden_layer_sizes'], \n",
    "            activation=network_params['activation'], \n",
    "            learning_rate=network_params['learning_rate'], \n",
    "            learning_rate_init=network_params['learning_rate_init'], \n",
    "            solver=network_params['solver'], \n",
    "            random_state=42, \n",
    "        max_iter=5000)\n",
    "\n",
    "        final_mlp = best_mlp.fit(X_train, y_train)\n",
    "\n",
    "        # save crossval results and model\n",
    "        nn_cv_results_filename = 'a{}--s{}.txt'.format(action, target)\n",
    "        nn_model_filename = 'a{}--s{}.pickle'.format(action, target)\n",
    "        with open(os.path.join(nn_folder_path, nn_cv_results_filename), 'w') as f:\n",
    "            f.write(json.dumps(network_params))\n",
    "        with open(os.path.join(nn_folder_path, nn_model_filename), 'wb') as f:\n",
    "            pickle.dump(final_mlp, f)\n",
    "\n",
    "        print(network_params)"
   ]
  },
  {
   "cell_type": "markdown",
   "metadata": {},
   "source": [
    "#### Splitting data into train and validation sets"
   ]
  },
  {
   "cell_type": "code",
   "execution_count": 5,
   "metadata": {},
   "outputs": [],
   "source": [
    "X = df_with_one_target[data.current_state_cols]\n",
    "y = df_with_one_target[target]\n",
    "X_train, X_val, y_train, y_val = train_test_split(X, y, test_size=0.2, random_state=42)"
   ]
  },
  {
   "cell_type": "markdown",
   "metadata": {},
   "source": [
    "#### Grid Search CV"
   ]
  },
  {
   "cell_type": "code",
   "execution_count": 6,
   "metadata": {},
   "outputs": [],
   "source": [
    "parameters = {\n",
    "    'hidden_layer_sizes': [(8,), (10,), (20,)],\n",
    "    'activation': ['logistic', 'tanh', 'relu'],\n",
    "    'solver': ['sgd', 'adam'],\n",
    "    'learning_rate': ['constant', 'adaptive'],\n",
    "    'learning_rate_init': [0.001, 0.01, 0.1, 0.2],\n",
    "}\n",
    "mlp = MLPRegressor()\n",
    "clf = GridSearchCV(mlp, parameters)"
   ]
  },
  {
   "cell_type": "code",
   "execution_count": null,
   "metadata": {},
   "outputs": [],
   "source": [
    "clf.fit(X_val, y_val)"
   ]
  },
  {
   "cell_type": "code",
   "execution_count": 8,
   "metadata": {},
   "outputs": [
    {
     "data": {
      "text/plain": [
       "['mean_fit_time',\n",
       " 'mean_score_time',\n",
       " 'mean_test_score',\n",
       " 'param_activation',\n",
       " 'param_hidden_layer_sizes',\n",
       " 'param_learning_rate',\n",
       " 'param_learning_rate_init',\n",
       " 'param_solver',\n",
       " 'params',\n",
       " 'rank_test_score',\n",
       " 'split0_test_score',\n",
       " 'split1_test_score',\n",
       " 'split2_test_score',\n",
       " 'split3_test_score',\n",
       " 'split4_test_score',\n",
       " 'std_fit_time',\n",
       " 'std_score_time',\n",
       " 'std_test_score']"
      ]
     },
     "execution_count": 8,
     "metadata": {},
     "output_type": "execute_result"
    }
   ],
   "source": [
    "sorted(clf.cv_results_.keys())"
   ]
  },
  {
   "cell_type": "code",
   "execution_count": 13,
   "metadata": {},
   "outputs": [
    {
     "data": {
      "text/plain": [
       "{'activation': 'relu',\n",
       " 'hidden_layer_sizes': (8,),\n",
       " 'learning_rate': 'constant',\n",
       " 'learning_rate_init': 0.1,\n",
       " 'solver': 'adam'}"
      ]
     },
     "execution_count": 13,
     "metadata": {},
     "output_type": "execute_result"
    }
   ],
   "source": [
    "clf.best_params_"
   ]
  },
  {
   "cell_type": "code",
   "execution_count": 15,
   "metadata": {},
   "outputs": [],
   "source": [
    "best_mlp = MLPRegressor(hidden_layer_sizes=(8,), activation='relu', learning_rate='constant', learning_rate_init=0.1, solver='adam', random_state=42, max_iter=500)"
   ]
  },
  {
   "cell_type": "code",
   "execution_count": 16,
   "metadata": {},
   "outputs": [],
   "source": [
    "best_mlp = best_mlp.fit(X_train, y_train)"
   ]
  },
  {
   "cell_type": "code",
   "execution_count": 17,
   "metadata": {},
   "outputs": [
    {
     "data": {
      "text/plain": [
       "0.9981000749879521"
      ]
     },
     "execution_count": 17,
     "metadata": {},
     "output_type": "execute_result"
    }
   ],
   "source": [
    "best_mlp.score(X_train, y_train)"
   ]
  },
  {
   "cell_type": "code",
   "execution_count": 18,
   "metadata": {},
   "outputs": [],
   "source": [
    "device = 'cpu'\n",
    "model = LinearNeuralNet(4, 8, 1).to(device)"
   ]
  },
  {
   "cell_type": "code",
   "execution_count": 21,
   "metadata": {},
   "outputs": [],
   "source": [
    "# Loss and optimizer\n",
    "criterion = nn.MSELoss()\n",
    "optimizer = torch.optim.Adam(model.parameters(), lr=0.1)"
   ]
  },
  {
   "cell_type": "code",
   "execution_count": null,
   "metadata": {},
   "outputs": [],
   "source": [
    "n_total_steps = len(X_train)\n",
    "num_epochs = 500\n",
    "i = 0\n",
    "for epoch in range(num_epochs):\n",
    "    for index, row in X_train.iterrows():  \n",
    "        # origin shape: [100, 1, 28, 28]\n",
    "        # resized: [100, 784]\n",
    "        input = np.array(row)\n",
    "        labels = y_train[index]\n",
    "        # Forward pass\n",
    "        outputs = model(input)\n",
    "        loss = criterion(outputs, labels)\n",
    "        # Backward and optimize\n",
    "        optimizer.zero_grad()\n",
    "        loss.backward()\n",
    "        optimizer.step()\n",
    "        if (i+1) % 100 == 0:\n",
    "            print (f'Epoch [{epoch+1}/{num_epochs}], Step[{i+1}/{n_total_steps}], Loss: {loss.item():.4f}')\n",
    "        i += 1"
   ]
  },
  {
   "cell_type": "code",
   "execution_count": 34,
   "metadata": {},
   "outputs": [
    {
     "data": {
      "text/html": [
       "<div>\n",
       "<style scoped>\n",
       "    .dataframe tbody tr th:only-of-type {\n",
       "        vertical-align: middle;\n",
       "    }\n",
       "\n",
       "    .dataframe tbody tr th {\n",
       "        vertical-align: top;\n",
       "    }\n",
       "\n",
       "    .dataframe thead th {\n",
       "        text-align: right;\n",
       "    }\n",
       "</style>\n",
       "<table border=\"1\" class=\"dataframe\">\n",
       "  <thead>\n",
       "    <tr style=\"text-align: right;\">\n",
       "      <th></th>\n",
       "      <th>Current_x_position</th>\n",
       "      <th>Current_x_velocity</th>\n",
       "      <th>Current_y_position</th>\n",
       "      <th>Current_y_velocity</th>\n",
       "    </tr>\n",
       "  </thead>\n",
       "  <tbody>\n",
       "    <tr>\n",
       "      <th>13534</th>\n",
       "      <td>-0.446652</td>\n",
       "      <td>0.005859</td>\n",
       "      <td>-0.345691</td>\n",
       "      <td>0.011334</td>\n",
       "    </tr>\n",
       "    <tr>\n",
       "      <th>15767</th>\n",
       "      <td>-0.760550</td>\n",
       "      <td>-0.007376</td>\n",
       "      <td>-0.361183</td>\n",
       "      <td>-0.023958</td>\n",
       "    </tr>\n",
       "    <tr>\n",
       "      <th>15189</th>\n",
       "      <td>-1.083762</td>\n",
       "      <td>0.022334</td>\n",
       "      <td>-0.333265</td>\n",
       "      <td>0.007612</td>\n",
       "    </tr>\n",
       "    <tr>\n",
       "      <th>4810</th>\n",
       "      <td>-0.485702</td>\n",
       "      <td>0.021343</td>\n",
       "      <td>-0.497159</td>\n",
       "      <td>-0.025896</td>\n",
       "    </tr>\n",
       "    <tr>\n",
       "      <th>7475</th>\n",
       "      <td>-0.434994</td>\n",
       "      <td>-0.015725</td>\n",
       "      <td>-0.273362</td>\n",
       "      <td>-0.005274</td>\n",
       "    </tr>\n",
       "    <tr>\n",
       "      <th>...</th>\n",
       "      <td>...</td>\n",
       "      <td>...</td>\n",
       "      <td>...</td>\n",
       "      <td>...</td>\n",
       "    </tr>\n",
       "    <tr>\n",
       "      <th>6265</th>\n",
       "      <td>-0.136792</td>\n",
       "      <td>0.005597</td>\n",
       "      <td>-0.415978</td>\n",
       "      <td>0.021700</td>\n",
       "    </tr>\n",
       "    <tr>\n",
       "      <th>11284</th>\n",
       "      <td>-0.920653</td>\n",
       "      <td>-0.026118</td>\n",
       "      <td>-0.804433</td>\n",
       "      <td>0.020909</td>\n",
       "    </tr>\n",
       "    <tr>\n",
       "      <th>38158</th>\n",
       "      <td>-0.202016</td>\n",
       "      <td>-0.020679</td>\n",
       "      <td>-0.503067</td>\n",
       "      <td>0.041462</td>\n",
       "    </tr>\n",
       "    <tr>\n",
       "      <th>860</th>\n",
       "      <td>-0.885014</td>\n",
       "      <td>-0.012493</td>\n",
       "      <td>-0.765107</td>\n",
       "      <td>0.008429</td>\n",
       "    </tr>\n",
       "    <tr>\n",
       "      <th>15795</th>\n",
       "      <td>-0.392348</td>\n",
       "      <td>0.006949</td>\n",
       "      <td>-0.721975</td>\n",
       "      <td>0.034115</td>\n",
       "    </tr>\n",
       "  </tbody>\n",
       "</table>\n",
       "<p>35457 rows × 4 columns</p>\n",
       "</div>"
      ],
      "text/plain": [
       "       Current_x_position  Current_x_velocity  Current_y_position  \\\n",
       "13534           -0.446652            0.005859           -0.345691   \n",
       "15767           -0.760550           -0.007376           -0.361183   \n",
       "15189           -1.083762            0.022334           -0.333265   \n",
       "4810            -0.485702            0.021343           -0.497159   \n",
       "7475            -0.434994           -0.015725           -0.273362   \n",
       "...                   ...                 ...                 ...   \n",
       "6265            -0.136792            0.005597           -0.415978   \n",
       "11284           -0.920653           -0.026118           -0.804433   \n",
       "38158           -0.202016           -0.020679           -0.503067   \n",
       "860             -0.885014           -0.012493           -0.765107   \n",
       "15795           -0.392348            0.006949           -0.721975   \n",
       "\n",
       "       Current_y_velocity  \n",
       "13534            0.011334  \n",
       "15767           -0.023958  \n",
       "15189            0.007612  \n",
       "4810            -0.025896  \n",
       "7475            -0.005274  \n",
       "...                   ...  \n",
       "6265             0.021700  \n",
       "11284            0.020909  \n",
       "38158            0.041462  \n",
       "860              0.008429  \n",
       "15795            0.034115  \n",
       "\n",
       "[35457 rows x 4 columns]"
      ]
     },
     "execution_count": 34,
     "metadata": {},
     "output_type": "execute_result"
    }
   ],
   "source": [
    "X_train"
   ]
  },
  {
   "cell_type": "code",
   "execution_count": 35,
   "metadata": {},
   "outputs": [
    {
     "data": {
      "text/plain": [
       "array([-0.42785933, -0.75584796, -1.05087529, ..., -0.20736411,\n",
       "       -0.88447452, -0.37080822])"
      ]
     },
     "execution_count": 35,
     "metadata": {},
     "output_type": "execute_result"
    }
   ],
   "source": [
    "best_mlp.predict(X_train)"
   ]
  },
  {
   "cell_type": "code",
   "execution_count": 36,
   "metadata": {},
   "outputs": [
    {
     "data": {
      "text/plain": [
       "13534   -0.442364\n",
       "15767   -0.767295\n",
       "15189   -1.059943\n",
       "4810    -0.465643\n",
       "7475    -0.452376\n",
       "           ...   \n",
       "6265    -0.134488\n",
       "11284   -0.945450\n",
       "38158   -0.225750\n",
       "860     -0.896298\n",
       "15795   -0.387359\n",
       "Name: Next_x_position, Length: 35457, dtype: float64"
      ]
     },
     "execution_count": 36,
     "metadata": {},
     "output_type": "execute_result"
    }
   ],
   "source": [
    "y_train"
   ]
  },
  {
   "cell_type": "code",
   "execution_count": 37,
   "metadata": {},
   "outputs": [],
   "source": [
    "import pickle"
   ]
  },
  {
   "cell_type": "code",
   "execution_count": 38,
   "metadata": {},
   "outputs": [],
   "source": [
    "pickle.dump(best_mlp, open('test.pickle', 'wb'))"
   ]
  },
  {
   "cell_type": "code",
   "execution_count": 39,
   "metadata": {},
   "outputs": [],
   "source": [
    "best_mlp_2 = pickle.load(open('test.pickle', 'rb'))"
   ]
  },
  {
   "cell_type": "code",
   "execution_count": 40,
   "metadata": {},
   "outputs": [
    {
     "data": {
      "text/plain": [
       "0.9981000749879521"
      ]
     },
     "execution_count": 40,
     "metadata": {},
     "output_type": "execute_result"
    }
   ],
   "source": [
    "best_mlp_2.score(X_train, y_train)"
   ]
  }
 ],
 "metadata": {
  "kernelspec": {
   "display_name": "Python 3.7.3 ('venv': venv)",
   "language": "python",
   "name": "python3"
  },
  "language_info": {
   "codemirror_mode": {
    "name": "ipython",
    "version": 3
   },
   "file_extension": ".py",
   "mimetype": "text/x-python",
   "name": "python",
   "nbconvert_exporter": "python",
   "pygments_lexer": "ipython3",
   "version": "3.7.3"
  },
  "orig_nbformat": 4,
  "vscode": {
   "interpreter": {
    "hash": "66eb0ff22152a42a55105d2627a5529bd8ce21fe81b81dbad1c4e8c0b6b69aac"
   }
  }
 },
 "nbformat": 4,
 "nbformat_minor": 2
}
