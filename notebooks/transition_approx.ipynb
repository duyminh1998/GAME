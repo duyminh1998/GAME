{
 "cells": [
  {
   "cell_type": "markdown",
   "metadata": {},
   "source": [
    "#### Testing the data loading for the transition data"
   ]
  },
  {
   "cell_type": "code",
   "execution_count": 1,
   "metadata": {},
   "outputs": [],
   "source": [
    "from GAME.utils.data_loaders import TransitionDataLoader\n",
    "from GAME.utils.nn import LinearNeuralNet\n",
    "import pandas as pd\n",
    "import numpy as np\n",
    "from sklearn.model_selection import train_test_split, GridSearchCV\n",
    "from sklearn.neural_network import MLPRegressor\n",
    "import torch\n",
    "import torch.nn as nn \n",
    "import pickle\n",
    "import os\n",
    "import json"
   ]
  },
  {
   "cell_type": "code",
   "execution_count": 2,
   "metadata": {},
   "outputs": [],
   "source": [
    "file_path = \"C:\\\\Users\\\\minhh\\\\Documents\\\\JHU\\\\Fall 2022\\\\Evolutionary and Swarm Intelligence\\\\src\\\\GAME\\\\output\\\\11012022 3DMC Sample Collection 50 Episodes Full Explore\\\\3DMC_50_episodes_sample_data.csv\"\n",
    "current_state_cols = ['Current_x_position', 'Current_x_velocity', 'Current_y_position', 'Current_y_velocity']\n",
    "next_state_cols = ['Next_x_position', 'Next_x_velocity', 'Next_y_position', 'Next_y_velocity']\n",
    "action_col_name = 'Current_action'\n",
    "nn_folder_path = \"C:\\\\Users\\\\minhh\\\\Documents\\\\JHU\\\\Fall 2022\\\\Evolutionary and Swarm Intelligence\\\\src\\\\GAME\\\\pickle\\\\11012022 3DMC Neural Nets\\\\\""
   ]
  },
  {
   "cell_type": "code",
   "execution_count": 3,
   "metadata": {},
   "outputs": [
    {
     "name": "stdout",
     "output_type": "stream",
     "text": [
      "Evaluating action: 0, target: Next_x_position\n",
      "{'activation': 'relu', 'hidden_layer_sizes': (10,), 'learning_rate': 'adaptive', 'learning_rate_init': 0.1, 'max_iter': 2500, 'solver': 'adam'}\n",
      "Evaluating action: 0, target: Next_x_velocity\n",
      "{'activation': 'logistic', 'hidden_layer_sizes': (20,), 'learning_rate': 'adaptive', 'learning_rate_init': 0.01, 'max_iter': 2500, 'solver': 'adam'}\n",
      "Evaluating action: 0, target: Next_y_position\n"
     ]
    },
    {
     "name": "stderr",
     "output_type": "stream",
     "text": [
      "c:\\Users\\minhh\\Documents\\JHU\\Fall 2022\\Evolutionary and Swarm Intelligence\\src\\GAME\\venv\\lib\\site-packages\\numpy\\core\\_methods.py:179: RuntimeWarning: overflow encountered in reduce\n",
      "  ret = umr_sum(arr, axis, dtype, out, keepdims, where=where)\n",
      "c:\\Users\\minhh\\Documents\\JHU\\Fall 2022\\Evolutionary and Swarm Intelligence\\src\\GAME\\venv\\lib\\site-packages\\sklearn\\neural_network\\_base.py:174: RuntimeWarning: overflow encountered in square\n",
      "  return ((y_true - y_pred) ** 2).mean() / 2\n",
      "c:\\Users\\minhh\\Documents\\JHU\\Fall 2022\\Evolutionary and Swarm Intelligence\\src\\GAME\\venv\\lib\\site-packages\\sklearn\\utils\\extmath.py:153: RuntimeWarning: overflow encountered in matmul\n",
      "  ret = a @ b\n",
      "c:\\Users\\minhh\\Documents\\JHU\\Fall 2022\\Evolutionary and Swarm Intelligence\\src\\GAME\\venv\\lib\\site-packages\\sklearn\\neural_network\\_base.py:129: RuntimeWarning: invalid value encountered in multiply\n",
      "  delta *= 1 - Z ** 2\n",
      "c:\\Users\\minhh\\Documents\\JHU\\Fall 2022\\Evolutionary and Swarm Intelligence\\src\\GAME\\venv\\lib\\site-packages\\sklearn\\neural_network\\_multilayer_perceptron.py:696: ConvergenceWarning: Stochastic Optimizer: Maximum iterations (2500) reached and the optimization hasn't converged yet.\n",
      "  ConvergenceWarning,\n",
      "c:\\Users\\minhh\\Documents\\JHU\\Fall 2022\\Evolutionary and Swarm Intelligence\\src\\GAME\\venv\\lib\\site-packages\\sklearn\\model_selection\\_validation.py:774: UserWarning: Scoring failed. The score on this train-test partition for these parameters will be set to nan. Details: \n",
      "Traceback (most recent call last):\n",
      "  File \"c:\\Users\\minhh\\Documents\\JHU\\Fall 2022\\Evolutionary and Swarm Intelligence\\src\\GAME\\venv\\lib\\site-packages\\sklearn\\model_selection\\_validation.py\", line 761, in _score\n",
      "    scores = scorer(estimator, X_test, y_test)\n",
      "  File \"c:\\Users\\minhh\\Documents\\JHU\\Fall 2022\\Evolutionary and Swarm Intelligence\\src\\GAME\\venv\\lib\\site-packages\\sklearn\\metrics\\_scorer.py\", line 418, in _passthrough_scorer\n",
      "    return estimator.score(*args, **kwargs)\n",
      "  File \"c:\\Users\\minhh\\Documents\\JHU\\Fall 2022\\Evolutionary and Swarm Intelligence\\src\\GAME\\venv\\lib\\site-packages\\sklearn\\base.py\", line 706, in score\n",
      "    return r2_score(y, y_pred, sample_weight=sample_weight)\n",
      "  File \"c:\\Users\\minhh\\Documents\\JHU\\Fall 2022\\Evolutionary and Swarm Intelligence\\src\\GAME\\venv\\lib\\site-packages\\sklearn\\metrics\\_regression.py\", line 790, in r2_score\n",
      "    y_true, y_pred, multioutput\n",
      "  File \"c:\\Users\\minhh\\Documents\\JHU\\Fall 2022\\Evolutionary and Swarm Intelligence\\src\\GAME\\venv\\lib\\site-packages\\sklearn\\metrics\\_regression.py\", line 96, in _check_reg_targets\n",
      "    y_pred = check_array(y_pred, ensure_2d=False, dtype=dtype)\n",
      "  File \"c:\\Users\\minhh\\Documents\\JHU\\Fall 2022\\Evolutionary and Swarm Intelligence\\src\\GAME\\venv\\lib\\site-packages\\sklearn\\utils\\validation.py\", line 800, in check_array\n",
      "    _assert_all_finite(array, allow_nan=force_all_finite == \"allow-nan\")\n",
      "  File \"c:\\Users\\minhh\\Documents\\JHU\\Fall 2022\\Evolutionary and Swarm Intelligence\\src\\GAME\\venv\\lib\\site-packages\\sklearn\\utils\\validation.py\", line 116, in _assert_all_finite\n",
      "    type_err, msg_dtype if msg_dtype is not None else X.dtype\n",
      "ValueError: Input contains NaN, infinity or a value too large for dtype('float64').\n",
      "\n",
      "  UserWarning,\n",
      "c:\\Users\\minhh\\Documents\\JHU\\Fall 2022\\Evolutionary and Swarm Intelligence\\src\\GAME\\venv\\lib\\site-packages\\sklearn\\model_selection\\_search.py:972: UserWarning: One or more of the test scores are non-finite: [0.68032556 0.99548103 0.99262266 0.99831713 0.99417523 0.999405\n",
      " 0.99409772 0.99949539 0.87621922 0.99745407 0.99406049 0.99935743\n",
      " 0.99473711 0.99895937 0.99548118 0.99946733 0.72476752 0.99823315\n",
      " 0.99382718 0.99835217 0.99431792 0.99927041 0.9951094  0.99941636\n",
      " 0.88065085 0.99877072 0.99473252 0.99838251 0.99482208 0.99930635\n",
      " 0.995798   0.99930988 0.88729426 0.9993655  0.99317354 0.99931988\n",
      " 0.99489402 0.9993259  0.99538327 0.99936123 0.8911897  0.99899548\n",
      " 0.99531274 0.99939863 0.99479839 0.99925351 0.99572859 0.99949453\n",
      " 0.98018107 0.99808108 0.98987808 0.99763262 0.99442523 0.99953183\n",
      " 0.99777645 0.99951124 0.98101996 0.99729462 0.99104221 0.99648142\n",
      " 0.99559122 0.99966714 0.99892857 0.99482832 0.98391647 0.99648363\n",
      " 0.98936347 0.99922696 0.99628991 0.9995831  0.99727135 0.99931708\n",
      " 0.98878358 0.99530584 0.99104131 0.99784491 0.9942576  0.99969713\n",
      " 0.99878282 0.99952446 0.99103969 0.99802857 0.99271965 0.99865949\n",
      " 0.99631602 0.99948613        nan 0.99953197 0.9932245  0.99861529\n",
      " 0.99150978 0.99887747 0.99738186 0.9997112  0.99907319 0.99958743\n",
      " 0.96548483 0.99287261 0.99309678 0.99864449 0.99773489 0.99985045\n",
      " 0.99730173 0.99990007 0.77867294 0.98888762 0.99160503 0.99973274\n",
      " 0.99495653 0.99994563 0.99768943 0.79990761 0.97038178 0.99364523\n",
      " 0.99119524 0.99964043 0.99552559 0.99993879 0.99724689 0.9999558\n",
      " 0.97457644 0.99631235 0.9906785  0.99926014 0.99596178 0.99994677\n",
      " 0.99862235 0.99995071 0.98477885 0.99807178 0.99230113 0.99924648\n",
      " 0.99749172 0.99992153 0.99797275 0.99535589 0.98632977 0.99751509\n",
      " 0.99266862 0.999296   0.99651706 0.99994685 0.99845262 0.99992549]\n",
      "  category=UserWarning,\n"
     ]
    },
    {
     "name": "stdout",
     "output_type": "stream",
     "text": [
      "{'activation': 'relu', 'hidden_layer_sizes': (10,), 'learning_rate': 'constant', 'learning_rate_init': 0.2, 'max_iter': 2500, 'solver': 'adam'}\n",
      "Evaluating action: 0, target: Next_y_velocity\n",
      "{'activation': 'logistic', 'hidden_layer_sizes': (10,), 'learning_rate': 'adaptive', 'learning_rate_init': 0.01, 'max_iter': 2500, 'solver': 'adam'}\n",
      "Evaluating action: 1, target: Next_x_position\n",
      "{'activation': 'relu', 'hidden_layer_sizes': (10,), 'learning_rate': 'adaptive', 'learning_rate_init': 0.01, 'max_iter': 2500, 'solver': 'adam'}\n",
      "Evaluating action: 1, target: Next_x_velocity\n",
      "{'activation': 'relu', 'hidden_layer_sizes': (8,), 'learning_rate': 'constant', 'learning_rate_init': 0.1, 'max_iter': 2500, 'solver': 'adam'}\n",
      "Evaluating action: 1, target: Next_y_position\n"
     ]
    },
    {
     "name": "stderr",
     "output_type": "stream",
     "text": [
      "c:\\Users\\minhh\\Documents\\JHU\\Fall 2022\\Evolutionary and Swarm Intelligence\\src\\GAME\\venv\\lib\\site-packages\\sklearn\\model_selection\\_search.py:978: RuntimeWarning: overflow encountered in square\n",
      "  (array - array_means[:, np.newaxis]) ** 2, axis=1, weights=weights\n"
     ]
    },
    {
     "name": "stdout",
     "output_type": "stream",
     "text": [
      "{'activation': 'relu', 'hidden_layer_sizes': (20,), 'learning_rate': 'constant', 'learning_rate_init': 0.1, 'max_iter': 2500, 'solver': 'adam'}\n",
      "Evaluating action: 1, target: Next_y_velocity\n",
      "{'activation': 'logistic', 'hidden_layer_sizes': (20,), 'learning_rate': 'adaptive', 'learning_rate_init': 0.01, 'max_iter': 2500, 'solver': 'adam'}\n",
      "Evaluating action: 2, target: Next_x_position\n",
      "{'activation': 'relu', 'hidden_layer_sizes': (20,), 'learning_rate': 'constant', 'learning_rate_init': 0.1, 'max_iter': 2500, 'solver': 'adam'}\n",
      "Evaluating action: 2, target: Next_x_velocity\n",
      "{'activation': 'relu', 'hidden_layer_sizes': (8,), 'learning_rate': 'constant', 'learning_rate_init': 0.1, 'max_iter': 2500, 'solver': 'adam'}\n",
      "Evaluating action: 2, target: Next_y_position\n",
      "{'activation': 'relu', 'hidden_layer_sizes': (20,), 'learning_rate': 'constant', 'learning_rate_init': 0.1, 'max_iter': 2500, 'solver': 'adam'}\n",
      "Evaluating action: 2, target: Next_y_velocity\n",
      "{'activation': 'logistic', 'hidden_layer_sizes': (20,), 'learning_rate': 'constant', 'learning_rate_init': 0.01, 'max_iter': 2500, 'solver': 'adam'}\n",
      "Evaluating action: 3, target: Next_x_position\n",
      "{'activation': 'relu', 'hidden_layer_sizes': (20,), 'learning_rate': 'constant', 'learning_rate_init': 0.1, 'max_iter': 2500, 'solver': 'adam'}\n",
      "Evaluating action: 3, target: Next_x_velocity\n",
      "{'activation': 'relu', 'hidden_layer_sizes': (8,), 'learning_rate': 'adaptive', 'learning_rate_init': 0.1, 'max_iter': 2500, 'solver': 'adam'}\n",
      "Evaluating action: 3, target: Next_y_position\n",
      "{'activation': 'relu', 'hidden_layer_sizes': (8,), 'learning_rate': 'constant', 'learning_rate_init': 0.1, 'max_iter': 2500, 'solver': 'adam'}\n",
      "Evaluating action: 3, target: Next_y_velocity\n",
      "{'activation': 'logistic', 'hidden_layer_sizes': (20,), 'learning_rate': 'constant', 'learning_rate_init': 0.01, 'max_iter': 2500, 'solver': 'adam'}\n",
      "Evaluating action: 4, target: Next_x_position\n",
      "{'activation': 'relu', 'hidden_layer_sizes': (10,), 'learning_rate': 'adaptive', 'learning_rate_init': 0.1, 'max_iter': 2500, 'solver': 'adam'}\n",
      "Evaluating action: 4, target: Next_x_velocity\n",
      "{'activation': 'logistic', 'hidden_layer_sizes': (20,), 'learning_rate': 'constant', 'learning_rate_init': 0.01, 'max_iter': 2500, 'solver': 'adam'}\n",
      "Evaluating action: 4, target: Next_y_position\n",
      "{'activation': 'relu', 'hidden_layer_sizes': (8,), 'learning_rate': 'adaptive', 'learning_rate_init': 0.1, 'max_iter': 2500, 'solver': 'adam'}\n",
      "Evaluating action: 4, target: Next_y_velocity\n",
      "{'activation': 'relu', 'hidden_layer_sizes': (20,), 'learning_rate': 'adaptive', 'learning_rate_init': 0.1, 'max_iter': 2500, 'solver': 'adam'}\n"
     ]
    }
   ],
   "source": [
    "## nn training parameters\n",
    "parameters = {\n",
    "    'hidden_layer_sizes': [(8,), (10,), (20,)],\n",
    "    'activation': ['logistic', 'tanh', 'relu'],\n",
    "    'solver': ['sgd', 'adam'],\n",
    "    'learning_rate': ['constant', 'adaptive'],\n",
    "    'learning_rate_init': [0.001, 0.01, 0.1, 0.2],\n",
    "    'max_iter': [2500]\n",
    "}\n",
    "\n",
    "actions = [0, 1, 2, 3, 4]\n",
    "targets = next_state_cols\n",
    "for action in actions:\n",
    "    data = TransitionDataLoader(file_path, current_state_cols, next_state_cols, action, action_col_name)\n",
    "    for target in targets:\n",
    "        print(\"Evaluating action: {}, target: {}\".format(action, target))\n",
    "        df_with_one_target = data.split_features_targets(target)\n",
    "        X = df_with_one_target[data.current_state_cols]\n",
    "        y = df_with_one_target[target]\n",
    "        X_train, X_val, y_train, y_val = train_test_split(X, y, test_size=0.2, random_state=42)\n",
    "        \n",
    "        mlp = MLPRegressor()\n",
    "        clf = GridSearchCV(mlp, parameters)\n",
    "\n",
    "        clf.fit(X_val, y_val)\n",
    "\n",
    "        best_mlp = MLPRegressor(hidden_layer_sizes=clf.best_params_['hidden_layer_sizes'], \n",
    "            activation=clf.best_params_['activation'], \n",
    "            learning_rate=clf.best_params_['learning_rate'], \n",
    "            learning_rate_init=clf.best_params_['learning_rate_init'], \n",
    "            solver=clf.best_params_['solver'], \n",
    "            random_state=42, \n",
    "        max_iter=5000)\n",
    "\n",
    "        final_mlp = best_mlp.fit(X_train, y_train)\n",
    "\n",
    "        # save crossval results and model\n",
    "        nn_cv_results_filename = 'a{}-s{}.txt'.format(action, target)\n",
    "        nn_model_filename = 'a{}-s{}.pickle'.format(action, target)\n",
    "        with open(os.path.join(nn_folder_path, nn_cv_results_filename), 'w') as f:\n",
    "            f.write(json.dumps(clf.best_params_))\n",
    "        with open(os.path.join(nn_folder_path, nn_model_filename), 'wb') as f:\n",
    "            pickle.dump(final_mlp, f)\n",
    "\n",
    "        print(clf.best_params_)"
   ]
  },
  {
   "cell_type": "markdown",
   "metadata": {},
   "source": [
    "#### Splitting data into train and validation sets"
   ]
  },
  {
   "cell_type": "code",
   "execution_count": 5,
   "metadata": {},
   "outputs": [],
   "source": [
    "X = df_with_one_target[data.current_state_cols]\n",
    "y = df_with_one_target[target]\n",
    "X_train, X_val, y_train, y_val = train_test_split(X, y, test_size=0.2, random_state=42)"
   ]
  },
  {
   "cell_type": "markdown",
   "metadata": {},
   "source": [
    "#### Grid Search CV"
   ]
  },
  {
   "cell_type": "code",
   "execution_count": 6,
   "metadata": {},
   "outputs": [],
   "source": [
    "parameters = {\n",
    "    'hidden_layer_sizes': [(8,), (10,), (20,)],\n",
    "    'activation': ['logistic', 'tanh', 'relu'],\n",
    "    'solver': ['sgd', 'adam'],\n",
    "    'learning_rate': ['constant', 'adaptive'],\n",
    "    'learning_rate_init': [0.001, 0.01, 0.1, 0.2],\n",
    "}\n",
    "mlp = MLPRegressor()\n",
    "clf = GridSearchCV(mlp, parameters)"
   ]
  },
  {
   "cell_type": "code",
   "execution_count": null,
   "metadata": {},
   "outputs": [],
   "source": [
    "clf.fit(X_val, y_val)"
   ]
  },
  {
   "cell_type": "code",
   "execution_count": 8,
   "metadata": {},
   "outputs": [
    {
     "data": {
      "text/plain": [
       "['mean_fit_time',\n",
       " 'mean_score_time',\n",
       " 'mean_test_score',\n",
       " 'param_activation',\n",
       " 'param_hidden_layer_sizes',\n",
       " 'param_learning_rate',\n",
       " 'param_learning_rate_init',\n",
       " 'param_solver',\n",
       " 'params',\n",
       " 'rank_test_score',\n",
       " 'split0_test_score',\n",
       " 'split1_test_score',\n",
       " 'split2_test_score',\n",
       " 'split3_test_score',\n",
       " 'split4_test_score',\n",
       " 'std_fit_time',\n",
       " 'std_score_time',\n",
       " 'std_test_score']"
      ]
     },
     "execution_count": 8,
     "metadata": {},
     "output_type": "execute_result"
    }
   ],
   "source": [
    "sorted(clf.cv_results_.keys())"
   ]
  },
  {
   "cell_type": "code",
   "execution_count": 13,
   "metadata": {},
   "outputs": [
    {
     "data": {
      "text/plain": [
       "{'activation': 'relu',\n",
       " 'hidden_layer_sizes': (8,),\n",
       " 'learning_rate': 'constant',\n",
       " 'learning_rate_init': 0.1,\n",
       " 'solver': 'adam'}"
      ]
     },
     "execution_count": 13,
     "metadata": {},
     "output_type": "execute_result"
    }
   ],
   "source": [
    "clf.best_params_"
   ]
  },
  {
   "cell_type": "code",
   "execution_count": 15,
   "metadata": {},
   "outputs": [],
   "source": [
    "best_mlp = MLPRegressor(hidden_layer_sizes=(8,), activation='relu', learning_rate='constant', learning_rate_init=0.1, solver='adam', random_state=42, max_iter=500)"
   ]
  },
  {
   "cell_type": "code",
   "execution_count": 16,
   "metadata": {},
   "outputs": [],
   "source": [
    "best_mlp = best_mlp.fit(X_train, y_train)"
   ]
  },
  {
   "cell_type": "code",
   "execution_count": 17,
   "metadata": {},
   "outputs": [
    {
     "data": {
      "text/plain": [
       "0.9981000749879521"
      ]
     },
     "execution_count": 17,
     "metadata": {},
     "output_type": "execute_result"
    }
   ],
   "source": [
    "best_mlp.score(X_train, y_train)"
   ]
  },
  {
   "cell_type": "code",
   "execution_count": 18,
   "metadata": {},
   "outputs": [],
   "source": [
    "device = 'cpu'\n",
    "model = LinearNeuralNet(4, 8, 1).to(device)"
   ]
  },
  {
   "cell_type": "code",
   "execution_count": 21,
   "metadata": {},
   "outputs": [],
   "source": [
    "# Loss and optimizer\n",
    "criterion = nn.MSELoss()\n",
    "optimizer = torch.optim.Adam(model.parameters(), lr=0.1)"
   ]
  },
  {
   "cell_type": "code",
   "execution_count": null,
   "metadata": {},
   "outputs": [],
   "source": [
    "n_total_steps = len(X_train)\n",
    "num_epochs = 500\n",
    "i = 0\n",
    "for epoch in range(num_epochs):\n",
    "    for index, row in X_train.iterrows():  \n",
    "        # origin shape: [100, 1, 28, 28]\n",
    "        # resized: [100, 784]\n",
    "        input = np.array(row)\n",
    "        labels = y_train[index]\n",
    "        # Forward pass\n",
    "        outputs = model(input)\n",
    "        loss = criterion(outputs, labels)\n",
    "        # Backward and optimize\n",
    "        optimizer.zero_grad()\n",
    "        loss.backward()\n",
    "        optimizer.step()\n",
    "        if (i+1) % 100 == 0:\n",
    "            print (f'Epoch [{epoch+1}/{num_epochs}], Step[{i+1}/{n_total_steps}], Loss: {loss.item():.4f}')\n",
    "        i += 1"
   ]
  },
  {
   "cell_type": "code",
   "execution_count": 34,
   "metadata": {},
   "outputs": [
    {
     "data": {
      "text/html": [
       "<div>\n",
       "<style scoped>\n",
       "    .dataframe tbody tr th:only-of-type {\n",
       "        vertical-align: middle;\n",
       "    }\n",
       "\n",
       "    .dataframe tbody tr th {\n",
       "        vertical-align: top;\n",
       "    }\n",
       "\n",
       "    .dataframe thead th {\n",
       "        text-align: right;\n",
       "    }\n",
       "</style>\n",
       "<table border=\"1\" class=\"dataframe\">\n",
       "  <thead>\n",
       "    <tr style=\"text-align: right;\">\n",
       "      <th></th>\n",
       "      <th>Current_x_position</th>\n",
       "      <th>Current_x_velocity</th>\n",
       "      <th>Current_y_position</th>\n",
       "      <th>Current_y_velocity</th>\n",
       "    </tr>\n",
       "  </thead>\n",
       "  <tbody>\n",
       "    <tr>\n",
       "      <th>13534</th>\n",
       "      <td>-0.446652</td>\n",
       "      <td>0.005859</td>\n",
       "      <td>-0.345691</td>\n",
       "      <td>0.011334</td>\n",
       "    </tr>\n",
       "    <tr>\n",
       "      <th>15767</th>\n",
       "      <td>-0.760550</td>\n",
       "      <td>-0.007376</td>\n",
       "      <td>-0.361183</td>\n",
       "      <td>-0.023958</td>\n",
       "    </tr>\n",
       "    <tr>\n",
       "      <th>15189</th>\n",
       "      <td>-1.083762</td>\n",
       "      <td>0.022334</td>\n",
       "      <td>-0.333265</td>\n",
       "      <td>0.007612</td>\n",
       "    </tr>\n",
       "    <tr>\n",
       "      <th>4810</th>\n",
       "      <td>-0.485702</td>\n",
       "      <td>0.021343</td>\n",
       "      <td>-0.497159</td>\n",
       "      <td>-0.025896</td>\n",
       "    </tr>\n",
       "    <tr>\n",
       "      <th>7475</th>\n",
       "      <td>-0.434994</td>\n",
       "      <td>-0.015725</td>\n",
       "      <td>-0.273362</td>\n",
       "      <td>-0.005274</td>\n",
       "    </tr>\n",
       "    <tr>\n",
       "      <th>...</th>\n",
       "      <td>...</td>\n",
       "      <td>...</td>\n",
       "      <td>...</td>\n",
       "      <td>...</td>\n",
       "    </tr>\n",
       "    <tr>\n",
       "      <th>6265</th>\n",
       "      <td>-0.136792</td>\n",
       "      <td>0.005597</td>\n",
       "      <td>-0.415978</td>\n",
       "      <td>0.021700</td>\n",
       "    </tr>\n",
       "    <tr>\n",
       "      <th>11284</th>\n",
       "      <td>-0.920653</td>\n",
       "      <td>-0.026118</td>\n",
       "      <td>-0.804433</td>\n",
       "      <td>0.020909</td>\n",
       "    </tr>\n",
       "    <tr>\n",
       "      <th>38158</th>\n",
       "      <td>-0.202016</td>\n",
       "      <td>-0.020679</td>\n",
       "      <td>-0.503067</td>\n",
       "      <td>0.041462</td>\n",
       "    </tr>\n",
       "    <tr>\n",
       "      <th>860</th>\n",
       "      <td>-0.885014</td>\n",
       "      <td>-0.012493</td>\n",
       "      <td>-0.765107</td>\n",
       "      <td>0.008429</td>\n",
       "    </tr>\n",
       "    <tr>\n",
       "      <th>15795</th>\n",
       "      <td>-0.392348</td>\n",
       "      <td>0.006949</td>\n",
       "      <td>-0.721975</td>\n",
       "      <td>0.034115</td>\n",
       "    </tr>\n",
       "  </tbody>\n",
       "</table>\n",
       "<p>35457 rows × 4 columns</p>\n",
       "</div>"
      ],
      "text/plain": [
       "       Current_x_position  Current_x_velocity  Current_y_position  \\\n",
       "13534           -0.446652            0.005859           -0.345691   \n",
       "15767           -0.760550           -0.007376           -0.361183   \n",
       "15189           -1.083762            0.022334           -0.333265   \n",
       "4810            -0.485702            0.021343           -0.497159   \n",
       "7475            -0.434994           -0.015725           -0.273362   \n",
       "...                   ...                 ...                 ...   \n",
       "6265            -0.136792            0.005597           -0.415978   \n",
       "11284           -0.920653           -0.026118           -0.804433   \n",
       "38158           -0.202016           -0.020679           -0.503067   \n",
       "860             -0.885014           -0.012493           -0.765107   \n",
       "15795           -0.392348            0.006949           -0.721975   \n",
       "\n",
       "       Current_y_velocity  \n",
       "13534            0.011334  \n",
       "15767           -0.023958  \n",
       "15189            0.007612  \n",
       "4810            -0.025896  \n",
       "7475            -0.005274  \n",
       "...                   ...  \n",
       "6265             0.021700  \n",
       "11284            0.020909  \n",
       "38158            0.041462  \n",
       "860              0.008429  \n",
       "15795            0.034115  \n",
       "\n",
       "[35457 rows x 4 columns]"
      ]
     },
     "execution_count": 34,
     "metadata": {},
     "output_type": "execute_result"
    }
   ],
   "source": [
    "X_train"
   ]
  },
  {
   "cell_type": "code",
   "execution_count": 35,
   "metadata": {},
   "outputs": [
    {
     "data": {
      "text/plain": [
       "array([-0.42785933, -0.75584796, -1.05087529, ..., -0.20736411,\n",
       "       -0.88447452, -0.37080822])"
      ]
     },
     "execution_count": 35,
     "metadata": {},
     "output_type": "execute_result"
    }
   ],
   "source": [
    "best_mlp.predict(X_train)"
   ]
  },
  {
   "cell_type": "code",
   "execution_count": 36,
   "metadata": {},
   "outputs": [
    {
     "data": {
      "text/plain": [
       "13534   -0.442364\n",
       "15767   -0.767295\n",
       "15189   -1.059943\n",
       "4810    -0.465643\n",
       "7475    -0.452376\n",
       "           ...   \n",
       "6265    -0.134488\n",
       "11284   -0.945450\n",
       "38158   -0.225750\n",
       "860     -0.896298\n",
       "15795   -0.387359\n",
       "Name: Next_x_position, Length: 35457, dtype: float64"
      ]
     },
     "execution_count": 36,
     "metadata": {},
     "output_type": "execute_result"
    }
   ],
   "source": [
    "y_train"
   ]
  },
  {
   "cell_type": "code",
   "execution_count": 37,
   "metadata": {},
   "outputs": [],
   "source": [
    "import pickle"
   ]
  },
  {
   "cell_type": "code",
   "execution_count": 38,
   "metadata": {},
   "outputs": [],
   "source": [
    "pickle.dump(best_mlp, open('test.pickle', 'wb'))"
   ]
  },
  {
   "cell_type": "code",
   "execution_count": 39,
   "metadata": {},
   "outputs": [],
   "source": [
    "best_mlp_2 = pickle.load(open('test.pickle', 'rb'))"
   ]
  },
  {
   "cell_type": "code",
   "execution_count": 40,
   "metadata": {},
   "outputs": [
    {
     "data": {
      "text/plain": [
       "0.9981000749879521"
      ]
     },
     "execution_count": 40,
     "metadata": {},
     "output_type": "execute_result"
    }
   ],
   "source": [
    "best_mlp_2.score(X_train, y_train)"
   ]
  }
 ],
 "metadata": {
  "kernelspec": {
   "display_name": "Python 3.7.3 ('venv': venv)",
   "language": "python",
   "name": "python3"
  },
  "language_info": {
   "codemirror_mode": {
    "name": "ipython",
    "version": 3
   },
   "file_extension": ".py",
   "mimetype": "text/x-python",
   "name": "python",
   "nbconvert_exporter": "python",
   "pygments_lexer": "ipython3",
   "version": "3.7.3"
  },
  "orig_nbformat": 4,
  "vscode": {
   "interpreter": {
    "hash": "66eb0ff22152a42a55105d2627a5529bd8ce21fe81b81dbad1c4e8c0b6b69aac"
   }
  }
 },
 "nbformat": 4,
 "nbformat_minor": 2
}
