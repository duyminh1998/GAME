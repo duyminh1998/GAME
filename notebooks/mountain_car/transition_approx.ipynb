{
 "cells": [
  {
   "cell_type": "markdown",
   "metadata": {},
   "source": [
    "#### Testing the data loading for the transition data"
   ]
  },
  {
   "cell_type": "code",
   "execution_count": 1,
   "metadata": {},
   "outputs": [],
   "source": [
    "from GAME.utils.data_loaders import TransitionDataLoader\n",
    "from GAME.utils.nn import LinearNeuralNet\n",
    "from GAME.utils.config import config\n",
    "import pandas as pd\n",
    "import numpy as np\n",
    "from sklearn.model_selection import train_test_split, GridSearchCV\n",
    "from sklearn.neural_network import MLPRegressor\n",
    "from sklearn.preprocessing import MinMaxScaler\n",
    "import torch\n",
    "import torch.nn as nn \n",
    "import pickle\n",
    "import os\n",
    "import json"
   ]
  },
  {
   "cell_type": "code",
   "execution_count": 6,
   "metadata": {},
   "outputs": [],
   "source": [
    "config_data = config()\n",
    "file_path = config_data[\"output_path\"] + \"\\\\11012022 3DMC Sample Collection 50 Episodes Full Explore\\\\3DMC_50_episodes_sample_data.csv\"\n",
    "current_state_cols = config_data['3DMC_current_state_transition_df_col_names']\n",
    "next_state_cols = config_data['3DMC_next_state_transition_df_col_names']\n",
    "action_col_name = config_data['action_transition_df_col_name']\n",
    "nn_folder_path = os.path.join(config_data[\"pickle_path\"], 'neural_nets', 'mountain_car', '11142022 MC3D Neural Nets')"
   ]
  },
  {
   "cell_type": "code",
   "execution_count": 8,
   "metadata": {},
   "outputs": [
    {
     "name": "stdout",
     "output_type": "stream",
     "text": [
      "Evaluating action: 0, target: Next-x_position\n",
      "{'activation': 'relu', 'hidden_layer_sizes': (10,), 'learning_rate': 'constant', 'learning_rate_init': 0.01, 'max_iter': 2500, 'solver': 'adam'}\n",
      "Test results: 0.9999068011651299\n",
      "Evaluating action: 0, target: Next-x_velocity\n",
      "{'activation': 'logistic', 'hidden_layer_sizes': (10,), 'learning_rate': 'constant', 'learning_rate_init': 0.01, 'max_iter': 2500, 'solver': 'adam'}\n",
      "Test results: 0.9896835378278072\n",
      "Evaluating action: 0, target: Next-y_position\n",
      "{'activation': 'relu', 'hidden_layer_sizes': (8,), 'learning_rate': 'constant', 'learning_rate_init': 0.01, 'max_iter': 2500, 'solver': 'adam'}\n",
      "Test results: 0.999993599878603\n",
      "Evaluating action: 0, target: Next-y_velocity\n",
      "{'activation': 'relu', 'hidden_layer_sizes': (20,), 'learning_rate': 'constant', 'learning_rate_init': 0.1, 'max_iter': 2500, 'solver': 'adam'}\n",
      "Test results: 0.999172266798462\n",
      "Evaluating action: 1, target: Next-x_position\n",
      "{'activation': 'relu', 'hidden_layer_sizes': (10,), 'learning_rate': 'constant', 'learning_rate_init': 0.01, 'max_iter': 2500, 'solver': 'adam'}\n",
      "Test results: 0.9999618379456928\n",
      "Evaluating action: 1, target: Next-x_velocity\n",
      "{'activation': 'logistic', 'hidden_layer_sizes': (10,), 'learning_rate': 'constant', 'learning_rate_init': 0.01, 'max_iter': 2500, 'solver': 'adam'}\n",
      "Test results: 0.9947225042314727\n",
      "Evaluating action: 1, target: Next-y_position\n",
      "{'activation': 'relu', 'hidden_layer_sizes': (10,), 'learning_rate': 'constant', 'learning_rate_init': 0.01, 'max_iter': 2500, 'solver': 'adam'}\n",
      "Test results: 0.9999736811725488\n",
      "Evaluating action: 1, target: Next-y_velocity\n",
      "{'activation': 'relu', 'hidden_layer_sizes': (8,), 'learning_rate': 'constant', 'learning_rate_init': 0.1, 'max_iter': 2500, 'solver': 'adam'}\n",
      "Test results: 0.9948905380197317\n",
      "Evaluating action: 2, target: Next-x_position\n",
      "{'activation': 'relu', 'hidden_layer_sizes': (20,), 'learning_rate': 'constant', 'learning_rate_init': 0.01, 'max_iter': 2500, 'solver': 'adam'}\n",
      "Test results: 0.9999747872434176\n",
      "Evaluating action: 2, target: Next-x_velocity\n",
      "{'activation': 'logistic', 'hidden_layer_sizes': (10,), 'learning_rate': 'constant', 'learning_rate_init': 0.01, 'max_iter': 2500, 'solver': 'adam'}\n",
      "Test results: 0.9953300256400184\n",
      "Evaluating action: 2, target: Next-y_position\n",
      "{'activation': 'relu', 'hidden_layer_sizes': (20,), 'learning_rate': 'constant', 'learning_rate_init': 0.01, 'max_iter': 2500, 'solver': 'adam'}\n",
      "Test results: 0.9999812812468774\n",
      "Evaluating action: 2, target: Next-y_velocity\n",
      "{'activation': 'logistic', 'hidden_layer_sizes': (10,), 'learning_rate': 'constant', 'learning_rate_init': 0.01, 'max_iter': 2500, 'solver': 'adam'}\n",
      "Test results: 0.9984301703667084\n",
      "Evaluating action: 3, target: Next-x_position\n",
      "{'activation': 'relu', 'hidden_layer_sizes': (8,), 'learning_rate': 'constant', 'learning_rate_init': 0.01, 'max_iter': 2500, 'solver': 'adam'}\n",
      "Test results: 0.9999632025682723\n",
      "Evaluating action: 3, target: Next-x_velocity\n",
      "{'activation': 'relu', 'hidden_layer_sizes': (10,), 'learning_rate': 'constant', 'learning_rate_init': 0.1, 'max_iter': 2500, 'solver': 'adam'}\n",
      "Test results: 0.9641818429396058\n",
      "Evaluating action: 3, target: Next-y_position\n",
      "{'activation': 'relu', 'hidden_layer_sizes': (20,), 'learning_rate': 'constant', 'learning_rate_init': 0.01, 'max_iter': 2500, 'solver': 'adam'}\n",
      "Test results: 0.999982072256202\n",
      "Evaluating action: 3, target: Next-y_velocity\n",
      "{'activation': 'logistic', 'hidden_layer_sizes': (10,), 'learning_rate': 'constant', 'learning_rate_init': 0.01, 'max_iter': 2500, 'solver': 'adam'}\n",
      "Test results: 0.9974138100749161\n",
      "Evaluating action: 4, target: Next-x_position\n",
      "{'activation': 'relu', 'hidden_layer_sizes': (8,), 'learning_rate': 'constant', 'learning_rate_init': 0.01, 'max_iter': 2500, 'solver': 'adam'}\n",
      "Test results: 0.99995843631746\n",
      "Evaluating action: 4, target: Next-x_velocity\n",
      "{'activation': 'logistic', 'hidden_layer_sizes': (10,), 'learning_rate': 'constant', 'learning_rate_init': 0.01, 'max_iter': 2500, 'solver': 'adam'}\n",
      "Test results: 0.9978601291182515\n",
      "Evaluating action: 4, target: Next-y_position\n",
      "{'activation': 'relu', 'hidden_layer_sizes': (10,), 'learning_rate': 'constant', 'learning_rate_init': 0.01, 'max_iter': 2500, 'solver': 'adam'}\n",
      "Test results: 0.9999726036707491\n",
      "Evaluating action: 4, target: Next-y_velocity\n",
      "{'activation': 'relu', 'hidden_layer_sizes': (20,), 'learning_rate': 'constant', 'learning_rate_init': 0.1, 'max_iter': 2500, 'solver': 'adam'}\n",
      "Test results: 0.9993745221713841\n"
     ]
    }
   ],
   "source": [
    "## nn training parameters\n",
    "parameters = {\n",
    "    'hidden_layer_sizes': [(8,), (10,), (20,)],\n",
    "    'activation': ['logistic', 'tanh', 'relu'],\n",
    "    'solver': ['sgd', 'adam'],\n",
    "    'learning_rate': ['constant', 'adaptive'],\n",
    "    'learning_rate_init': [0.001, 0.01, 0.1, 0.2],\n",
    "    'max_iter': [2500]\n",
    "}\n",
    "\n",
    "parameters = {\n",
    "    'hidden_layer_sizes': [(8,), (10,), (20,)],\n",
    "    'activation': ['logistic', 'tanh', 'relu'],\n",
    "    'solver': ['adam'],\n",
    "    'learning_rate': ['constant'],\n",
    "    'learning_rate_init': [0.001, 0.01, 0.1, 0.2],\n",
    "    'max_iter': [2500]\n",
    "}\n",
    "\n",
    "actions = [0, 1, 2, 3, 4]\n",
    "targets = next_state_cols\n",
    "for action in actions:\n",
    "    data = TransitionDataLoader(file_path, current_state_cols, next_state_cols, action, action_col_name)\n",
    "    for target in targets:\n",
    "        print(\"Evaluating action: {}, target: {}\".format(action, target))\n",
    "        df_with_one_target = data.split_features_targets(target).copy(deep=True)\n",
    "        feature_scaler = MinMaxScaler()\n",
    "        target_scaler = MinMaxScaler()\n",
    "        X = df_with_one_target[data.current_state_cols]\n",
    "        y = df_with_one_target[target]\n",
    "        X_train, X_test, y_train, y_test = train_test_split(X, y, test_size=0.2, random_state=42)\n",
    "\n",
    "        # scale\n",
    "        feature_scaler.fit(X_train)\n",
    "        # target_scaler.fit(y_train)\n",
    "        X_train = feature_scaler.transform(X_train)\n",
    "        # y_train = target_scaler.transform(y_train)\n",
    "        \n",
    "        mlp = MLPRegressor()\n",
    "        clf = GridSearchCV(mlp, parameters)\n",
    "\n",
    "        clf.fit(X_train, y_train)\n",
    "\n",
    "        # param_file = nn_folder_path + 'a{}_s{}_3DMC_cv_results.txt'.format(action, 'Next_' + '_'.join(target.split('-')[1:]))\n",
    "        # with open(param_file, 'r') as f:\n",
    "        #     network_params = json.loads(f.readline())\n",
    "\n",
    "        network_params = clf.best_params_\n",
    "\n",
    "        best_mlp = MLPRegressor(hidden_layer_sizes=network_params['hidden_layer_sizes'], \n",
    "            activation=network_params['activation'], \n",
    "            learning_rate=network_params['learning_rate'], \n",
    "            learning_rate_init=network_params['learning_rate_init'], \n",
    "            solver=network_params['solver'], \n",
    "            random_state=420, \n",
    "        max_iter=2500)\n",
    "\n",
    "        X_test = feature_scaler.transform(X_test)\n",
    "        # y_test = target_scaler.transform(y_test)        \n",
    "\n",
    "        final_mlp = best_mlp.fit(X_train, y_train)\n",
    "\n",
    "        # save crossval results and model\n",
    "        nn_cv_params_filename = 'a{}--s{}--params.txt'.format(action, target)\n",
    "        nn_test_results_filename = 'a{}--s{}--results.txt'.format(action, target)\n",
    "        nn_model_filename = 'a{}--s{}.pickle'.format(action, target)\n",
    "        with open(os.path.join(nn_folder_path, nn_cv_params_filename), 'w') as f:\n",
    "            f.write(json.dumps(network_params))\n",
    "        with open(os.path.join(nn_folder_path, nn_model_filename), 'wb') as f:\n",
    "            pickle.dump(final_mlp, f)\n",
    "        with open(os.path.join(nn_folder_path, nn_test_results_filename), 'w') as f:\n",
    "            f.write('Test results: {}'.format(final_mlp.score(X_test, y_test)))            \n",
    "\n",
    "        print(network_params)\n",
    "        print('Test results: {}'.format(final_mlp.score(X_test, y_test)))"
   ]
  },
  {
   "cell_type": "markdown",
   "metadata": {},
   "source": [
    "#### Splitting data into train and validation sets"
   ]
  },
  {
   "cell_type": "code",
   "execution_count": 5,
   "metadata": {},
   "outputs": [],
   "source": [
    "X = df_with_one_target[data.current_state_cols]\n",
    "y = df_with_one_target[target]\n",
    "X_train, X_val, y_train, y_val = train_test_split(X, y, test_size=0.2, random_state=42)"
   ]
  },
  {
   "cell_type": "markdown",
   "metadata": {},
   "source": [
    "#### Grid Search CV"
   ]
  },
  {
   "cell_type": "code",
   "execution_count": 6,
   "metadata": {},
   "outputs": [],
   "source": [
    "parameters = {\n",
    "    'hidden_layer_sizes': [(8,), (10,), (20,)],\n",
    "    'activation': ['logistic', 'tanh', 'relu'],\n",
    "    'solver': ['sgd', 'adam'],\n",
    "    'learning_rate': ['constant', 'adaptive'],\n",
    "    'learning_rate_init': [0.001, 0.01, 0.1, 0.2],\n",
    "}\n",
    "mlp = MLPRegressor()\n",
    "clf = GridSearchCV(mlp, parameters)"
   ]
  },
  {
   "cell_type": "code",
   "execution_count": null,
   "metadata": {},
   "outputs": [],
   "source": [
    "clf.fit(X_val, y_val)"
   ]
  },
  {
   "cell_type": "code",
   "execution_count": 8,
   "metadata": {},
   "outputs": [
    {
     "data": {
      "text/plain": [
       "['mean_fit_time',\n",
       " 'mean_score_time',\n",
       " 'mean_test_score',\n",
       " 'param_activation',\n",
       " 'param_hidden_layer_sizes',\n",
       " 'param_learning_rate',\n",
       " 'param_learning_rate_init',\n",
       " 'param_solver',\n",
       " 'params',\n",
       " 'rank_test_score',\n",
       " 'split0_test_score',\n",
       " 'split1_test_score',\n",
       " 'split2_test_score',\n",
       " 'split3_test_score',\n",
       " 'split4_test_score',\n",
       " 'std_fit_time',\n",
       " 'std_score_time',\n",
       " 'std_test_score']"
      ]
     },
     "execution_count": 8,
     "metadata": {},
     "output_type": "execute_result"
    }
   ],
   "source": [
    "sorted(clf.cv_results_.keys())"
   ]
  },
  {
   "cell_type": "code",
   "execution_count": 13,
   "metadata": {},
   "outputs": [
    {
     "data": {
      "text/plain": [
       "{'activation': 'relu',\n",
       " 'hidden_layer_sizes': (8,),\n",
       " 'learning_rate': 'constant',\n",
       " 'learning_rate_init': 0.1,\n",
       " 'solver': 'adam'}"
      ]
     },
     "execution_count": 13,
     "metadata": {},
     "output_type": "execute_result"
    }
   ],
   "source": [
    "clf.best_params_"
   ]
  },
  {
   "cell_type": "code",
   "execution_count": 15,
   "metadata": {},
   "outputs": [],
   "source": [
    "best_mlp = MLPRegressor(hidden_layer_sizes=(8,), activation='relu', learning_rate='constant', learning_rate_init=0.1, solver='adam', random_state=42, max_iter=500)"
   ]
  },
  {
   "cell_type": "code",
   "execution_count": 16,
   "metadata": {},
   "outputs": [],
   "source": [
    "best_mlp = best_mlp.fit(X_train, y_train)"
   ]
  },
  {
   "cell_type": "code",
   "execution_count": 17,
   "metadata": {},
   "outputs": [
    {
     "data": {
      "text/plain": [
       "0.9981000749879521"
      ]
     },
     "execution_count": 17,
     "metadata": {},
     "output_type": "execute_result"
    }
   ],
   "source": [
    "best_mlp.score(X_train, y_train)"
   ]
  },
  {
   "cell_type": "code",
   "execution_count": 18,
   "metadata": {},
   "outputs": [],
   "source": [
    "device = 'cpu'\n",
    "model = LinearNeuralNet(4, 8, 1).to(device)"
   ]
  },
  {
   "cell_type": "code",
   "execution_count": 21,
   "metadata": {},
   "outputs": [],
   "source": [
    "# Loss and optimizer\n",
    "criterion = nn.MSELoss()\n",
    "optimizer = torch.optim.Adam(model.parameters(), lr=0.1)"
   ]
  },
  {
   "cell_type": "code",
   "execution_count": null,
   "metadata": {},
   "outputs": [],
   "source": [
    "n_total_steps = len(X_train)\n",
    "num_epochs = 500\n",
    "i = 0\n",
    "for epoch in range(num_epochs):\n",
    "    for index, row in X_train.iterrows():  \n",
    "        # origin shape: [100, 1, 28, 28]\n",
    "        # resized: [100, 784]\n",
    "        input = np.array(row)\n",
    "        labels = y_train[index]\n",
    "        # Forward pass\n",
    "        outputs = model(input)\n",
    "        loss = criterion(outputs, labels)\n",
    "        # Backward and optimize\n",
    "        optimizer.zero_grad()\n",
    "        loss.backward()\n",
    "        optimizer.step()\n",
    "        if (i+1) % 100 == 0:\n",
    "            print (f'Epoch [{epoch+1}/{num_epochs}], Step[{i+1}/{n_total_steps}], Loss: {loss.item():.4f}')\n",
    "        i += 1"
   ]
  },
  {
   "cell_type": "code",
   "execution_count": 34,
   "metadata": {},
   "outputs": [
    {
     "data": {
      "text/html": [
       "<div>\n",
       "<style scoped>\n",
       "    .dataframe tbody tr th:only-of-type {\n",
       "        vertical-align: middle;\n",
       "    }\n",
       "\n",
       "    .dataframe tbody tr th {\n",
       "        vertical-align: top;\n",
       "    }\n",
       "\n",
       "    .dataframe thead th {\n",
       "        text-align: right;\n",
       "    }\n",
       "</style>\n",
       "<table border=\"1\" class=\"dataframe\">\n",
       "  <thead>\n",
       "    <tr style=\"text-align: right;\">\n",
       "      <th></th>\n",
       "      <th>Current_x_position</th>\n",
       "      <th>Current_x_velocity</th>\n",
       "      <th>Current_y_position</th>\n",
       "      <th>Current_y_velocity</th>\n",
       "    </tr>\n",
       "  </thead>\n",
       "  <tbody>\n",
       "    <tr>\n",
       "      <th>13534</th>\n",
       "      <td>-0.446652</td>\n",
       "      <td>0.005859</td>\n",
       "      <td>-0.345691</td>\n",
       "      <td>0.011334</td>\n",
       "    </tr>\n",
       "    <tr>\n",
       "      <th>15767</th>\n",
       "      <td>-0.760550</td>\n",
       "      <td>-0.007376</td>\n",
       "      <td>-0.361183</td>\n",
       "      <td>-0.023958</td>\n",
       "    </tr>\n",
       "    <tr>\n",
       "      <th>15189</th>\n",
       "      <td>-1.083762</td>\n",
       "      <td>0.022334</td>\n",
       "      <td>-0.333265</td>\n",
       "      <td>0.007612</td>\n",
       "    </tr>\n",
       "    <tr>\n",
       "      <th>4810</th>\n",
       "      <td>-0.485702</td>\n",
       "      <td>0.021343</td>\n",
       "      <td>-0.497159</td>\n",
       "      <td>-0.025896</td>\n",
       "    </tr>\n",
       "    <tr>\n",
       "      <th>7475</th>\n",
       "      <td>-0.434994</td>\n",
       "      <td>-0.015725</td>\n",
       "      <td>-0.273362</td>\n",
       "      <td>-0.005274</td>\n",
       "    </tr>\n",
       "    <tr>\n",
       "      <th>...</th>\n",
       "      <td>...</td>\n",
       "      <td>...</td>\n",
       "      <td>...</td>\n",
       "      <td>...</td>\n",
       "    </tr>\n",
       "    <tr>\n",
       "      <th>6265</th>\n",
       "      <td>-0.136792</td>\n",
       "      <td>0.005597</td>\n",
       "      <td>-0.415978</td>\n",
       "      <td>0.021700</td>\n",
       "    </tr>\n",
       "    <tr>\n",
       "      <th>11284</th>\n",
       "      <td>-0.920653</td>\n",
       "      <td>-0.026118</td>\n",
       "      <td>-0.804433</td>\n",
       "      <td>0.020909</td>\n",
       "    </tr>\n",
       "    <tr>\n",
       "      <th>38158</th>\n",
       "      <td>-0.202016</td>\n",
       "      <td>-0.020679</td>\n",
       "      <td>-0.503067</td>\n",
       "      <td>0.041462</td>\n",
       "    </tr>\n",
       "    <tr>\n",
       "      <th>860</th>\n",
       "      <td>-0.885014</td>\n",
       "      <td>-0.012493</td>\n",
       "      <td>-0.765107</td>\n",
       "      <td>0.008429</td>\n",
       "    </tr>\n",
       "    <tr>\n",
       "      <th>15795</th>\n",
       "      <td>-0.392348</td>\n",
       "      <td>0.006949</td>\n",
       "      <td>-0.721975</td>\n",
       "      <td>0.034115</td>\n",
       "    </tr>\n",
       "  </tbody>\n",
       "</table>\n",
       "<p>35457 rows × 4 columns</p>\n",
       "</div>"
      ],
      "text/plain": [
       "       Current_x_position  Current_x_velocity  Current_y_position  \\\n",
       "13534           -0.446652            0.005859           -0.345691   \n",
       "15767           -0.760550           -0.007376           -0.361183   \n",
       "15189           -1.083762            0.022334           -0.333265   \n",
       "4810            -0.485702            0.021343           -0.497159   \n",
       "7475            -0.434994           -0.015725           -0.273362   \n",
       "...                   ...                 ...                 ...   \n",
       "6265            -0.136792            0.005597           -0.415978   \n",
       "11284           -0.920653           -0.026118           -0.804433   \n",
       "38158           -0.202016           -0.020679           -0.503067   \n",
       "860             -0.885014           -0.012493           -0.765107   \n",
       "15795           -0.392348            0.006949           -0.721975   \n",
       "\n",
       "       Current_y_velocity  \n",
       "13534            0.011334  \n",
       "15767           -0.023958  \n",
       "15189            0.007612  \n",
       "4810            -0.025896  \n",
       "7475            -0.005274  \n",
       "...                   ...  \n",
       "6265             0.021700  \n",
       "11284            0.020909  \n",
       "38158            0.041462  \n",
       "860              0.008429  \n",
       "15795            0.034115  \n",
       "\n",
       "[35457 rows x 4 columns]"
      ]
     },
     "execution_count": 34,
     "metadata": {},
     "output_type": "execute_result"
    }
   ],
   "source": [
    "X_train"
   ]
  },
  {
   "cell_type": "code",
   "execution_count": 35,
   "metadata": {},
   "outputs": [
    {
     "data": {
      "text/plain": [
       "array([-0.42785933, -0.75584796, -1.05087529, ..., -0.20736411,\n",
       "       -0.88447452, -0.37080822])"
      ]
     },
     "execution_count": 35,
     "metadata": {},
     "output_type": "execute_result"
    }
   ],
   "source": [
    "best_mlp.predict(X_train)"
   ]
  },
  {
   "cell_type": "code",
   "execution_count": 36,
   "metadata": {},
   "outputs": [
    {
     "data": {
      "text/plain": [
       "13534   -0.442364\n",
       "15767   -0.767295\n",
       "15189   -1.059943\n",
       "4810    -0.465643\n",
       "7475    -0.452376\n",
       "           ...   \n",
       "6265    -0.134488\n",
       "11284   -0.945450\n",
       "38158   -0.225750\n",
       "860     -0.896298\n",
       "15795   -0.387359\n",
       "Name: Next_x_position, Length: 35457, dtype: float64"
      ]
     },
     "execution_count": 36,
     "metadata": {},
     "output_type": "execute_result"
    }
   ],
   "source": [
    "y_train"
   ]
  },
  {
   "cell_type": "code",
   "execution_count": 37,
   "metadata": {},
   "outputs": [],
   "source": [
    "import pickle"
   ]
  },
  {
   "cell_type": "code",
   "execution_count": 38,
   "metadata": {},
   "outputs": [],
   "source": [
    "pickle.dump(best_mlp, open('test.pickle', 'wb'))"
   ]
  },
  {
   "cell_type": "code",
   "execution_count": 39,
   "metadata": {},
   "outputs": [],
   "source": [
    "best_mlp_2 = pickle.load(open('test.pickle', 'rb'))"
   ]
  },
  {
   "cell_type": "code",
   "execution_count": 40,
   "metadata": {},
   "outputs": [
    {
     "data": {
      "text/plain": [
       "0.9981000749879521"
      ]
     },
     "execution_count": 40,
     "metadata": {},
     "output_type": "execute_result"
    }
   ],
   "source": [
    "best_mlp_2.score(X_train, y_train)"
   ]
  },
  {
   "cell_type": "markdown",
   "metadata": {},
   "source": [
    "#### EDA on 4v3 transition data"
   ]
  },
  {
   "cell_type": "code",
   "execution_count": 12,
   "metadata": {},
   "outputs": [],
   "source": [
    "import pandas as pd\n",
    "from GAME.utils.config import config\n",
    "from GAME.utils.data_loaders import TransitionDataLoader\n",
    "from sklearn.preprocessing import StandardScaler, MinMaxScaler"
   ]
  },
  {
   "cell_type": "code",
   "execution_count": 3,
   "metadata": {},
   "outputs": [],
   "source": [
    "config_data = config()"
   ]
  },
  {
   "cell_type": "code",
   "execution_count": 13,
   "metadata": {},
   "outputs": [],
   "source": [
    "file_path = os.path.join(config_data['output_path'], '11102022 4v3 6x350 eps random', 'keepaway_4v3_transitions_v3.csv')\n",
    "current_state_cols = config_data['4v3_current_state_transition_df_col_names']\n",
    "next_state_cols = config_data['4v3_next_state_transition_df_col_names']\n",
    "action_col_name = config_data['action_transition_df_col_name']\n",
    "data = TransitionDataLoader(file_path, current_state_cols, next_state_cols, 0, action_col_name)\n",
    "target = next_state_cols[0]\n",
    "df_with_one_target = data.split_features_targets(target)"
   ]
  },
  {
   "cell_type": "code",
   "execution_count": null,
   "metadata": {},
   "outputs": [],
   "source": [
    "df_with_one_target.isna().sum()"
   ]
  },
  {
   "cell_type": "code",
   "execution_count": 15,
   "metadata": {},
   "outputs": [
    {
     "data": {
      "text/html": [
       "<div>\n",
       "<style scoped>\n",
       "    .dataframe tbody tr th:only-of-type {\n",
       "        vertical-align: middle;\n",
       "    }\n",
       "\n",
       "    .dataframe tbody tr th {\n",
       "        vertical-align: top;\n",
       "    }\n",
       "\n",
       "    .dataframe thead th {\n",
       "        text-align: right;\n",
       "    }\n",
       "</style>\n",
       "<table border=\"1\" class=\"dataframe\">\n",
       "  <thead>\n",
       "    <tr style=\"text-align: right;\">\n",
       "      <th></th>\n",
       "      <th>Current-dist(K1,C)</th>\n",
       "      <th>Current-dist(K1,K2)</th>\n",
       "      <th>Current-dist(K1,K3)</th>\n",
       "      <th>Current-dist(K1,K4)</th>\n",
       "      <th>Current-dist(K1,T1)</th>\n",
       "      <th>Current-dist(K1,T2)</th>\n",
       "      <th>Current-dist(K1,T3)</th>\n",
       "      <th>Current-dist(K2,C)</th>\n",
       "      <th>Current-dist(K3,C)</th>\n",
       "      <th>Current-dist(K4,C)</th>\n",
       "      <th>Current-dist(T1,C)</th>\n",
       "      <th>Current-dist(T2,C)</th>\n",
       "      <th>Current-dist(T3,C)</th>\n",
       "      <th>Current-Min(dist(K2,T1),dist(K2,T2),dist(K2,T3))</th>\n",
       "      <th>Current-Min(dist(K3,T1),dist(K3,T2),dist(K3,T3))</th>\n",
       "      <th>Current-Min(dist(K4,T1),dist(K4,T2),dist(K4,T3))</th>\n",
       "      <th>Current-Min(ang(K2,K1,T1),ang(K2,K1,T2),ang(K2,K1,T3))</th>\n",
       "      <th>Current-Min(ang(K3,K1,T1),ang(K3,K1,T2),ang(K3,K1,T3))</th>\n",
       "      <th>Current-Min(ang(K4,K1,T1),ang(K4,K1,T2),ang(K4,K1,T3))</th>\n",
       "      <th>Next-dist(K1,C)</th>\n",
       "    </tr>\n",
       "  </thead>\n",
       "  <tbody>\n",
       "    <tr>\n",
       "      <th>0</th>\n",
       "      <td>40.499188</td>\n",
       "      <td>47.057832</td>\n",
       "      <td>78.062421</td>\n",
       "      <td>188.980056</td>\n",
       "      <td>26.100533</td>\n",
       "      <td>55.191169</td>\n",
       "      <td>59.433482</td>\n",
       "      <td>32.844181</td>\n",
       "      <td>50.380351</td>\n",
       "      <td>55.452001</td>\n",
       "      <td>2.100599</td>\n",
       "      <td>12.423837</td>\n",
       "      <td>17.746259</td>\n",
       "      <td>5.946075</td>\n",
       "      <td>40.761488</td>\n",
       "      <td>74.655870</td>\n",
       "      <td>18.083580</td>\n",
       "      <td>45.388051</td>\n",
       "      <td>1.341811</td>\n",
       "      <td>40.513728</td>\n",
       "    </tr>\n",
       "    <tr>\n",
       "      <th>1</th>\n",
       "      <td>134.349283</td>\n",
       "      <td>74.720919</td>\n",
       "      <td>274.320161</td>\n",
       "      <td>549.648801</td>\n",
       "      <td>138.736270</td>\n",
       "      <td>196.306423</td>\n",
       "      <td>307.626997</td>\n",
       "      <td>58.903482</td>\n",
       "      <td>145.255928</td>\n",
       "      <td>140.566367</td>\n",
       "      <td>34.065994</td>\n",
       "      <td>39.360529</td>\n",
       "      <td>36.625510</td>\n",
       "      <td>145.062454</td>\n",
       "      <td>217.586078</td>\n",
       "      <td>36.542561</td>\n",
       "      <td>45.942785</td>\n",
       "      <td>51.160952</td>\n",
       "      <td>3.652071</td>\n",
       "      <td>133.319148</td>\n",
       "    </tr>\n",
       "    <tr>\n",
       "      <th>2</th>\n",
       "      <td>66.495050</td>\n",
       "      <td>42.181856</td>\n",
       "      <td>100.067254</td>\n",
       "      <td>332.308526</td>\n",
       "      <td>103.295725</td>\n",
       "      <td>112.512884</td>\n",
       "      <td>146.042278</td>\n",
       "      <td>132.697771</td>\n",
       "      <td>145.341098</td>\n",
       "      <td>122.583639</td>\n",
       "      <td>25.868321</td>\n",
       "      <td>6.774272</td>\n",
       "      <td>32.598323</td>\n",
       "      <td>107.689767</td>\n",
       "      <td>165.417905</td>\n",
       "      <td>73.716001</td>\n",
       "      <td>73.367512</td>\n",
       "      <td>77.159517</td>\n",
       "      <td>16.339526</td>\n",
       "      <td>66.404321</td>\n",
       "    </tr>\n",
       "    <tr>\n",
       "      <th>3</th>\n",
       "      <td>107.601919</td>\n",
       "      <td>105.659774</td>\n",
       "      <td>204.917707</td>\n",
       "      <td>405.426306</td>\n",
       "      <td>94.034927</td>\n",
       "      <td>108.740057</td>\n",
       "      <td>187.782090</td>\n",
       "      <td>108.312375</td>\n",
       "      <td>62.127871</td>\n",
       "      <td>102.645594</td>\n",
       "      <td>27.260141</td>\n",
       "      <td>29.576257</td>\n",
       "      <td>13.967598</td>\n",
       "      <td>121.400390</td>\n",
       "      <td>35.331293</td>\n",
       "      <td>41.938324</td>\n",
       "      <td>52.360545</td>\n",
       "      <td>24.370342</td>\n",
       "      <td>2.603832</td>\n",
       "      <td>106.062620</td>\n",
       "    </tr>\n",
       "    <tr>\n",
       "      <th>4</th>\n",
       "      <td>76.964096</td>\n",
       "      <td>89.293930</td>\n",
       "      <td>97.929444</td>\n",
       "      <td>274.869856</td>\n",
       "      <td>37.507035</td>\n",
       "      <td>98.745222</td>\n",
       "      <td>99.681370</td>\n",
       "      <td>13.290491</td>\n",
       "      <td>3.750926</td>\n",
       "      <td>63.289137</td>\n",
       "      <td>9.974706</td>\n",
       "      <td>7.438985</td>\n",
       "      <td>1.958720</td>\n",
       "      <td>1.848765</td>\n",
       "      <td>0.891221</td>\n",
       "      <td>50.239185</td>\n",
       "      <td>7.510336</td>\n",
       "      <td>5.419946</td>\n",
       "      <td>6.188784</td>\n",
       "      <td>77.225185</td>\n",
       "    </tr>\n",
       "  </tbody>\n",
       "</table>\n",
       "</div>"
      ],
      "text/plain": [
       "   Current-dist(K1,C)  Current-dist(K1,K2)  Current-dist(K1,K3)  \\\n",
       "0           40.499188            47.057832            78.062421   \n",
       "1          134.349283            74.720919           274.320161   \n",
       "2           66.495050            42.181856           100.067254   \n",
       "3          107.601919           105.659774           204.917707   \n",
       "4           76.964096            89.293930            97.929444   \n",
       "\n",
       "   Current-dist(K1,K4)  Current-dist(K1,T1)  Current-dist(K1,T2)  \\\n",
       "0           188.980056            26.100533            55.191169   \n",
       "1           549.648801           138.736270           196.306423   \n",
       "2           332.308526           103.295725           112.512884   \n",
       "3           405.426306            94.034927           108.740057   \n",
       "4           274.869856            37.507035            98.745222   \n",
       "\n",
       "   Current-dist(K1,T3)  Current-dist(K2,C)  Current-dist(K3,C)  \\\n",
       "0            59.433482           32.844181           50.380351   \n",
       "1           307.626997           58.903482          145.255928   \n",
       "2           146.042278          132.697771          145.341098   \n",
       "3           187.782090          108.312375           62.127871   \n",
       "4            99.681370           13.290491            3.750926   \n",
       "\n",
       "   Current-dist(K4,C)  Current-dist(T1,C)  Current-dist(T2,C)  \\\n",
       "0           55.452001            2.100599           12.423837   \n",
       "1          140.566367           34.065994           39.360529   \n",
       "2          122.583639           25.868321            6.774272   \n",
       "3          102.645594           27.260141           29.576257   \n",
       "4           63.289137            9.974706            7.438985   \n",
       "\n",
       "   Current-dist(T3,C)  Current-Min(dist(K2,T1),dist(K2,T2),dist(K2,T3))  \\\n",
       "0           17.746259                                          5.946075   \n",
       "1           36.625510                                        145.062454   \n",
       "2           32.598323                                        107.689767   \n",
       "3           13.967598                                        121.400390   \n",
       "4            1.958720                                          1.848765   \n",
       "\n",
       "   Current-Min(dist(K3,T1),dist(K3,T2),dist(K3,T3))  \\\n",
       "0                                         40.761488   \n",
       "1                                        217.586078   \n",
       "2                                        165.417905   \n",
       "3                                         35.331293   \n",
       "4                                          0.891221   \n",
       "\n",
       "   Current-Min(dist(K4,T1),dist(K4,T2),dist(K4,T3))  \\\n",
       "0                                         74.655870   \n",
       "1                                         36.542561   \n",
       "2                                         73.716001   \n",
       "3                                         41.938324   \n",
       "4                                         50.239185   \n",
       "\n",
       "   Current-Min(ang(K2,K1,T1),ang(K2,K1,T2),ang(K2,K1,T3))  \\\n",
       "0                                          18.083580        \n",
       "1                                          45.942785        \n",
       "2                                          73.367512        \n",
       "3                                          52.360545        \n",
       "4                                           7.510336        \n",
       "\n",
       "   Current-Min(ang(K3,K1,T1),ang(K3,K1,T2),ang(K3,K1,T3))  \\\n",
       "0                                          45.388051        \n",
       "1                                          51.160952        \n",
       "2                                          77.159517        \n",
       "3                                          24.370342        \n",
       "4                                           5.419946        \n",
       "\n",
       "   Current-Min(ang(K4,K1,T1),ang(K4,K1,T2),ang(K4,K1,T3))  Next-dist(K1,C)  \n",
       "0                                           1.341811             40.513728  \n",
       "1                                           3.652071            133.319148  \n",
       "2                                          16.339526             66.404321  \n",
       "3                                           2.603832            106.062620  \n",
       "4                                           6.188784             77.225185  "
      ]
     },
     "execution_count": 15,
     "metadata": {},
     "output_type": "execute_result"
    }
   ],
   "source": [
    "df_with_one_target.head()"
   ]
  },
  {
   "cell_type": "code",
   "execution_count": 20,
   "metadata": {},
   "outputs": [
    {
     "data": {
      "text/plain": [
       "array([[-0.8477702 , -0.74911748, -1.32032927, ..., -0.88962398,\n",
       "        -0.28091109, -1.33480264],\n",
       "       [ 1.29114884, -0.2132291 ,  1.28670531, ..., -0.17906845,\n",
       "        -0.12828506, -1.23482449],\n",
       "       [-0.25530363, -0.84357472, -1.02802304, ...,  0.52040557,\n",
       "         0.55907436, -0.68576604],\n",
       "       ...,\n",
       "       [ 0.52279744,  0.05748036, -1.07813201, ..., -1.31841241,\n",
       "         0.09436401,  0.80781465],\n",
       "       [-0.97749439, -1.02435688, -0.55410279, ...,  0.23811576,\n",
       "         2.01010957,  1.54877008],\n",
       "       [-1.01498041, -1.2177336 , -0.45738086, ...,  0.14892727,\n",
       "         2.16858255,  1.80897057]])"
      ]
     },
     "execution_count": 20,
     "metadata": {},
     "output_type": "execute_result"
    }
   ],
   "source": [
    "trans = StandardScaler()\n",
    "X = df_with_one_target[data.current_state_cols]\n",
    "y = df_with_one_target[target]\n",
    "X = trans.fit_transform(X)\n",
    "X"
   ]
  },
  {
   "cell_type": "code",
   "execution_count": null,
   "metadata": {},
   "outputs": [],
   "source": []
  }
 ],
 "metadata": {
  "kernelspec": {
   "display_name": "Python 3.7.3 ('venv': venv)",
   "language": "python",
   "name": "python3"
  },
  "language_info": {
   "codemirror_mode": {
    "name": "ipython",
    "version": 3
   },
   "file_extension": ".py",
   "mimetype": "text/x-python",
   "name": "python",
   "nbconvert_exporter": "python",
   "pygments_lexer": "ipython3",
   "version": "3.7.3"
  },
  "orig_nbformat": 4,
  "vscode": {
   "interpreter": {
    "hash": "66eb0ff22152a42a55105d2627a5529bd8ce21fe81b81dbad1c4e8c0b6b69aac"
   }
  }
 },
 "nbformat": 4,
 "nbformat_minor": 2
}
