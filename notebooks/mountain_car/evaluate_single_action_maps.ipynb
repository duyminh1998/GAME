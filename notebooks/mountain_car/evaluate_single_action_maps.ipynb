{
 "cells": [
  {
   "cell_type": "code",
   "execution_count": 3,
   "metadata": {},
   "outputs": [],
   "source": [
    "from GAME.bin.intertask_mappings import *\n",
    "from GAME.utils.config import config"
   ]
  },
  {
   "cell_type": "code",
   "execution_count": 4,
   "metadata": {},
   "outputs": [],
   "source": [
    "config_data = config()"
   ]
  },
  {
   "cell_type": "code",
   "execution_count": 7,
   "metadata": {},
   "outputs": [],
   "source": [
    "src_state_var_names = config_data['MC2D_state_names']\n",
    "src_action_names = config_data['MC2D_action_names']\n",
    "src_action_values = config_data['MC2D_action_values']\n",
    "target_state_var_names = config_data['MC3D_state_names']\n",
    "target_action_names = config_data['MC3D_action_names']\n",
    "target_action_values = config_data['MC3D_action_values']\n",
    "src_task_data_folder_and_filename = os.path.join(config_data['output_path'], \"11032022 2DMC Sample Collection 100 Episodes with Training\", \"2DMC_100_episodes_sample_data.csv\")\n",
    "neural_networks_folder = os.path.join(config_data['pickle_path'], \"11012022 3DMC Neural Nets\")\n",
    "\n",
    "src_data_path = src_task_data_folder_and_filename\n",
    "src_data_df = pd.read_csv(src_data_path, index_col = False)\n",
    "transformed_df_col_names = config_data['3DMC_full_transition_df_col_names']\n",
    "transformed_df_current_state_cols = config_data['3DMC_current_state_transition_df_col_names']\n",
    "transformed_df_next_state_cols = config_data['3DMC_next_state_transition_df_col_names']\n",
    "\n",
    "# evaluation using networks\n",
    "network_folder_path = neural_networks_folder\n",
    "eval_networks = EvaluationNetworks(network_folder_path)"
   ]
  },
  {
   "cell_type": "code",
   "execution_count": null,
   "metadata": {},
   "outputs": [],
   "source": []
  }
 ],
 "metadata": {
  "kernelspec": {
   "display_name": "Python 3.7.3 ('venv': venv)",
   "language": "python",
   "name": "python3"
  },
  "language_info": {
   "codemirror_mode": {
    "name": "ipython",
    "version": 3
   },
   "file_extension": ".py",
   "mimetype": "text/x-python",
   "name": "python",
   "nbconvert_exporter": "python",
   "pygments_lexer": "ipython3",
   "version": "3.7.3"
  },
  "orig_nbformat": 4,
  "vscode": {
   "interpreter": {
    "hash": "66eb0ff22152a42a55105d2627a5529bd8ce21fe81b81dbad1c4e8c0b6b69aac"
   }
  }
 },
 "nbformat": 4,
 "nbformat_minor": 2
}
