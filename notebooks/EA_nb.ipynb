{
 "cells": [
  {
   "cell_type": "markdown",
   "metadata": {},
   "source": [
    "#### Enumerating all possible inter-task mappings"
   ]
  },
  {
   "cell_type": "code",
   "execution_count": null,
   "metadata": {},
   "outputs": [],
   "source": [
    "from itertools import combinations_with_replacement, permutations, product, combinations"
   ]
  },
  {
   "cell_type": "code",
   "execution_count": null,
   "metadata": {},
   "outputs": [],
   "source": [
    "MC2D_states = ['x', 'dot_x']\n",
    "MC3D_states = ['x', 'y', 'dot_x', 'dot_y']\n",
    "MC2D_actions = ['Left', 'Neutral', 'Right']\n",
    "MC3D_actions = ['Neutral', 'West', 'East', 'South', 'North']\n",
    "\n",
    "src_task_states = MC2D_states\n",
    "target_task_states = MC3D_states\n",
    "src_task_actions = MC2D_actions\n",
    "target_task_actions = MC3D_actions"
   ]
  },
  {
   "cell_type": "code",
   "execution_count": null,
   "metadata": {},
   "outputs": [],
   "source": [
    "Keepaway3v2_states = [\n",
    "    'dist(K1, C)',\n",
    "    'dist(K1, K2)',\n",
    "    'dist(K1, K3)',\n",
    "    'dist(K1, T1)',\n",
    "    'dist(K1, T2)',\n",
    "    'dist(K2, C)',\n",
    "    'dist(K3, C)',\n",
    "    'dist(T1, C)',\n",
    "    'dist(T2, C)',\n",
    "    'Min(dist(K2, T1), dist(K2, T2))',\n",
    "    'Min(dist(K3, T1), dist(K3, T2))',\n",
    "    'Min(ang(K2, K1, T1), ang(K2, K1, T2))',\n",
    "    'Min(ang(K3, K1, T1), ang(K3, K1, T2))',\n",
    "]\n",
    "Keepaway3v2_actions = ['Hold', 'Pass1', 'Pass2']\n",
    "Keepaway4v3_states = [\n",
    "    'dist(K1, C)',\n",
    "    'dist(K1, K2)',\n",
    "    'dist(K1, K3)',\n",
    "    'dist(K1, K4',\n",
    "    'dist(K1, T1)',\n",
    "    'dist(K1, T2)',\n",
    "    'dist(K1, T3)',\n",
    "    'dist(K2, C)',\n",
    "    'dist(K3, C)',\n",
    "    'dist(K4, C)',\n",
    "    'dist(T1, C)',\n",
    "    'dist(T2, C)',\n",
    "    'dist(T3, C)',\n",
    "    'Min(dist(K2, T1), dist(K2, T2), dist(K2, T3))',\n",
    "    'Min(dist(K3, T1), dist(K3, T2), dist(K3, T3))',\n",
    "    'Min(dist(K4, T1), dist(K4, T2), dist(K4, T3))',\n",
    "    'Min(ang(K2, K1, T1), ang(K2, K1, T2), ang(K2, K1, T3))',\n",
    "    'Min(ang(K3, K1, T1), ang(K3, K1, T2), ang(K3, K1, T3))',\n",
    "    'Min(ang(K4, K1, T1), ang(K4, K1, T2), ang(K4, K1, T3))'\n",
    "]\n",
    "Keepaway4v3_actions = ['Hold', 'Pass1', 'Pass2', 'Pass3']\n",
    "\n",
    "src_task_states = Keepaway3v2_states\n",
    "target_task_states = Keepaway4v3_states\n",
    "src_task_actions = Keepaway3v2_actions\n",
    "target_task_actions = Keepaway4v3_actions"
   ]
  },
  {
   "cell_type": "code",
   "execution_count": null,
   "metadata": {},
   "outputs": [],
   "source": [
    "state_mapping_length = len(target_task_states)\n",
    "action_mapping_length = len(target_task_actions)"
   ]
  },
  {
   "cell_type": "code",
   "execution_count": null,
   "metadata": {},
   "outputs": [],
   "source": [
    "print(target_task_states)\n",
    "print('---------------------------------')\n",
    "comb = combinations_with_replacement(src_task_states, state_mapping_length) \n",
    "for i in list(comb): \n",
    "    print (i)"
   ]
  },
  {
   "cell_type": "code",
   "execution_count": null,
   "metadata": {},
   "outputs": [],
   "source": [
    "print(target_task_actions)\n",
    "print('---------------------------------')\n",
    "comb = permutations(src_task_actions, action_mapping_length - 1) \n",
    "for i in list(comb): \n",
    "    print (i)"
   ]
  },
  {
   "cell_type": "code",
   "execution_count": null,
   "metadata": {},
   "outputs": [],
   "source": [
    "for word in map(\", \".join, product(src_task_states, src_task_states, src_task_states, src_task_states, src_task_states, src_task_states, src_task_states)):\n",
    "    print(word)"
   ]
  }
 ],
 "metadata": {
  "kernelspec": {
   "display_name": "Python 3.7.3 ('venv': venv)",
   "language": "python",
   "name": "python3"
  },
  "language_info": {
   "name": "python",
   "version": "3.7.3"
  },
  "orig_nbformat": 4,
  "vscode": {
   "interpreter": {
    "hash": "66eb0ff22152a42a55105d2627a5529bd8ce21fe81b81dbad1c4e8c0b6b69aac"
   }
  }
 },
 "nbformat": 4,
 "nbformat_minor": 2
}
