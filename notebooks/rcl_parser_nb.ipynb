{
 "cells": [
  {
   "cell_type": "markdown",
   "metadata": {},
   "source": [
    "#### Analyze RCS csv logs"
   ]
  },
  {
   "cell_type": "code",
   "execution_count": 1,
   "metadata": {},
   "outputs": [],
   "source": [
    "import pandas as pd\n",
    "import numpy as np\n",
    "import math\n",
    "import sys"
   ]
  },
  {
   "cell_type": "code",
   "execution_count": 4,
   "metadata": {},
   "outputs": [],
   "source": [
    "file_path = \"C:\\\\Users\\\\minhh\\\\Documents\\\\JHU\\\\Fall 2022\\\\Evolutionary and Swarm Intelligence\\\\src\\\\GAME\\\\logs\\\\202210280009-UbuntuXenial\\\\202210280009-UbuntuXenial.rcg.csv\"\n",
    "df = pd.read_csv(file_path, index_col=False, low_memory=False)\n",
    "df = df.dropna(axis=1) # drop empty columns\n",
    "# # add column to identify the current keeper with ball\n",
    "# df['current_keeper'] = ''\n",
    "# # add column to keep track of the current action\n",
    "# df['current_action'] = ''"
   ]
  },
  {
   "cell_type": "code",
   "execution_count": 5,
   "metadata": {},
   "outputs": [
    {
     "name": "stdout",
     "output_type": "stream",
     "text": [
      "Index(['show_time', 'playmode', 'team_name_l', 'team_name_r', 'team_score_l',\n",
      "       'team_score_r', 'team_pen_score_l', 'team_pen_score_r',\n",
      "       'team_pen_miss_l', 'team_pen_miss_r',\n",
      "       ...\n",
      "       'player_l5_counting_dash', 'player_l5_counting_turn',\n",
      "       'player_l5_counting_catch', 'player_l5_counting_move',\n",
      "       'player_l5_counting_turn_neck', 'player_l5_counting_change_view',\n",
      "       'player_l5_counting_say', 'player_l5_counting_tackle',\n",
      "       'player_l5_counting_point_to', 'player_l5_counting_attention_to'],\n",
      "      dtype='object', length=149)\n"
     ]
    }
   ],
   "source": [
    "print(df.columns)"
   ]
  },
  {
   "cell_type": "code",
   "execution_count": null,
   "metadata": {},
   "outputs": [],
   "source": [
    "# center point\n",
    "center_x = 0\n",
    "center_y = 0\n",
    "# ball kickable distance = player_size + ball_size + kickable margin\n",
    "ball_kickable_dist = 0.03 + 0.085 + 0.7\n",
    "# variables to identify data columns\n",
    "# 3v2\n",
    "keeper_col_name_prefixes = ['player_l' + str(i) for i in range(1, 4)]\n",
    "taker_col_name_prefixes = ['player_l' + str(i) for i in range(4, 6)]\n",
    "keeper_ids = [i for i in range(1, 4)]\n",
    "taker_ids = [i for i in range(4, 6)]\n",
    "actions_3v2 = {\n",
    "    0: 'Hold',\n",
    "    1: 'Pass to K1',\n",
    "    2: 'Pass to K2'\n",
    "}\n",
    "# add 3v2 specific state columns\n",
    "state_3v2_col_names = ['dist(K1,C)', 'dist(K1,K2)', 'dist(K1,K3)', 'dist(K1,T1)', 'dist(K1,T2)',\n",
    "                        'dist(K2,C)', 'dist(K3,C)', 'dist(T1,C)', 'dist(T2,C)', 'Min(dist(K2,T1),dist(K2,T2))',\n",
    "                        'Min(dist(K3,T1),dist(K3,T2))', 'Min(ang(K2,K1,T1),ang(K2,K1,T2))', 'Min(ang(K3,K1,T1),ang(K3,K1,T2))']\n",
    "for col in state_3v2_col_names:\n",
    "    df[col] = ''"
   ]
  },
  {
   "cell_type": "markdown",
   "metadata": {},
   "source": [
    "the corners of the keepaway box are defined as corner = (length / 2, weidth / 2)\n",
    "\n",
    "for most of the experiments length = width = 20\n",
    "\n",
    "thus, the corners are (10, 10) and (-10, -10)\n",
    "\n",
    "this implies that the center is (0, 0)\n",
    "\n",
    "0x3 seems to denote that the ball is kickable\n",
    "0x441 is collision with ball\n",
    "0x801 also seems to denote collision with ball\n",
    "0x803 ball is kickable, no collison"
   ]
  },
  {
   "cell_type": "code",
   "execution_count": null,
   "metadata": {},
   "outputs": [],
   "source": [
    "for col in df.columns:\n",
    "    if 'player' in col and 'side' in col:\n",
    "        print(col)"
   ]
  },
  {
   "cell_type": "code",
   "execution_count": null,
   "metadata": {},
   "outputs": [],
   "source": [
    "pd.unique(df['player_l1_state'])"
   ]
  },
  {
   "cell_type": "code",
   "execution_count": null,
   "metadata": {},
   "outputs": [],
   "source": [
    "pd.unique(df['player_l2_state'])"
   ]
  },
  {
   "cell_type": "markdown",
   "metadata": {},
   "source": [
    "#### 202210280159-UbuntuXenial analysis"
   ]
  },
  {
   "cell_type": "code",
   "execution_count": 9,
   "metadata": {},
   "outputs": [],
   "source": [
    "file_path = \"C:\\\\Users\\\\minhh\\\\Documents\\\\JHU\\\\Fall 2022\\\\Evolutionary and Swarm Intelligence\\\\src\\\\GAME\\\\logs\\\\202210280159-UbuntuXenial\\\\202210280159-UbuntuXenial.rcg.csv\"\n",
    "df = pd.read_csv(file_path, index_col=False, low_memory=False)\n",
    "df = df.dropna(axis=1) # drop empty columns\n",
    "# add column to identify the current keeper with ball\n",
    "df['current_keeper'] = ''\n",
    "# add column to keep track of the current action\n",
    "df['current_action'] = ''"
   ]
  },
  {
   "cell_type": "code",
   "execution_count": null,
   "metadata": {},
   "outputs": [],
   "source": [
    "# center point\n",
    "center_x = 0\n",
    "center_y = 0\n",
    "# ball kickable distance = player_size + ball_size + kickable margin\n",
    "ball_kickable_dist = 0.03 + 0.085 + 0.7\n",
    "# variables to identify data columns\n",
    "# 3v2\n",
    "keeper_col_name_prefixes = ['player_l' + str(i) for i in range(1, 4)]\n",
    "taker_col_name_prefixes = ['player_l' + str(i) for i in range(4, 6)]\n",
    "keeper_ids = [i for i in range(1, 4)]\n",
    "taker_ids = [i for i in range(4, 6)]\n",
    "actions_3v2 = {\n",
    "    0: 'Hold',\n",
    "    1: 'Pass to K1',\n",
    "    2: 'Pass to K2'\n",
    "}\n",
    "# add 3v2 specific state columns\n",
    "state_3v2_col_names = ['dist(K1,C)', 'dist(K1,K2)', 'dist(K1,K3)', 'dist(K1,T1)', 'dist(K1,T2)',\n",
    "                        'dist(K2,C)', 'dist(K3,C)', 'dist(T1,C)', 'dist(T2,C)', 'Min(dist(K2,T1),dist(K2,T2))',\n",
    "                        'Min(dist(K3,T1),dist(K3,T2))', 'Min(ang(K2,K1,T1),ang(K2,K1,T2))', 'Min(ang(K3,K1,T1),ang(K3,K1,T2))']\n",
    "for col in state_3v2_col_names:\n",
    "    df[col] = ''"
   ]
  },
  {
   "cell_type": "code",
   "execution_count": null,
   "metadata": {},
   "outputs": [],
   "source": [
    "def get_distance(x1, y1, x2, y2):\n",
    "    return math.sqrt((x2 - x1)**2 + (y2 - y1)**2)"
   ]
  },
  {
   "cell_type": "code",
   "execution_count": null,
   "metadata": {},
   "outputs": [],
   "source": [
    "def get_closest_player_to_ball(player_positions:list, ball_location:tuple) -> int:\n",
    "    ball_x, ball_y = ball_location\n",
    "    closest_distance = sys.maxsize * 2 + 1\n",
    "    closest_player_id = -1\n",
    "    for player_idx, player_pos in enumerate(player_positions):\n",
    "        player_x = player_pos[0]\n",
    "        player_y = player_pos[1]\n",
    "        distance_to_ball = get_distance(player_x, player_y, ball_x, ball_y)\n",
    "        if distance_to_ball < closest_distance:\n",
    "            closest_distance = distance_to_ball\n",
    "            closest_player_id = player_idx + 1\n",
    "    return closest_player_id, closest_distance"
   ]
  },
  {
   "cell_type": "code",
   "execution_count": null,
   "metadata": {},
   "outputs": [],
   "source": [
    "def get_sorted_distance_between_current_and_others(current_player_location:tuple, other_positions:list):\n",
    "    current_player_x, current_player_y = current_player_location\n",
    "    distances = [get_distance(current_player_x, current_player_y, player_x, player_y) for player_x, player_y in other_positions if (player_x, player_y) != current_player_location]\n",
    "    return sorted(distances)"
   ]
  },
  {
   "cell_type": "code",
   "execution_count": null,
   "metadata": {},
   "outputs": [],
   "source": [
    "def get_sorted_teammates_idx_to_cur_player(cur_player_id:int, player_positions:list):\n",
    "    assert cur_player_id > 0\n",
    "    cur_player_idx = cur_player_id - 1\n",
    "    cur_player_x, cur_player_y = player_positions[cur_player_idx][0], player_positions[cur_player_idx][1]\n",
    "    distances = [get_distance(cur_player_x, cur_player_y, player_x, player_y) for player_x, player_y in player_positions]\n",
    "    return np.argsort(distances)[1:] # drop the first index as it counts the current keeper"
   ]
  },
  {
   "cell_type": "code",
   "execution_count": null,
   "metadata": {},
   "outputs": [],
   "source": [
    "def get_sorted_opponents_idx_to_cur_player(cur_player_pos:tuple, opponent_positions:list):\n",
    "    cur_player_x, cur_player_y = cur_player_pos\n",
    "    distances = [get_distance(cur_player_x, cur_player_y, opp_x, opp_y) for opp_x, opp_y in opponent_positions]\n",
    "    return np.argsort(distances)"
   ]
  },
  {
   "cell_type": "code",
   "execution_count": null,
   "metadata": {},
   "outputs": [],
   "source": [
    "def get_angle(a, b, c):\n",
    "    a = np.array(a)\n",
    "    b = np.array(b)\n",
    "    c = np.array(c)\n",
    "    ba = a - b\n",
    "    bc = c - b\n",
    "\n",
    "    cosine_angle = np.dot(ba, bc) / (np.linalg.norm(ba) * np.linalg.norm(bc))\n",
    "    angle = np.arccos(cosine_angle)\n",
    "\n",
    "    return np.degrees(angle)"
   ]
  },
  {
   "cell_type": "code",
   "execution_count": null,
   "metadata": {},
   "outputs": [],
   "source": [
    "show_time = 0\n",
    "samples = 0\n",
    "# get a list of ids for the keepers\n",
    "for index, row in df.iterrows():\n",
    "    # get the keeper and taker positions\n",
    "    keeper_positions = [(row['player_l{}_x'.format(id)], row['player_l{}_y'.format(id)]) for id in keeper_ids]\n",
    "    taker_positions = [(row['player_l{}_x'.format(id)], row['player_l{}_y'.format(id)]) for id in taker_ids]\n",
    "    # get ball position\n",
    "    ball_x = row['ball_x']\n",
    "    ball_y = row['ball_y']\n",
    "    # get closest keeper to ball\n",
    "    closest_keeper_id, closest_distance_to_ball = get_closest_player_to_ball(keeper_positions, (ball_x, ball_y))\n",
    "    ball_velocity = math.sqrt(row['ball_vx']**2 + row['ball_vy']**2)\n",
    "    if closest_distance_to_ball < ball_kickable_dist and ball_velocity <= 2: # we only fill information if a keeper actually has the ball\n",
    "        # get a list of teammate idxes sorted according to distance to the current keeper\n",
    "        sorted_teammate_idxes = get_sorted_teammates_idx_to_cur_player(closest_keeper_id, keeper_positions)\n",
    "        # get a list of taker idxes sorted according to distance to the current keeper\n",
    "        sorted_opponent_idxes = get_sorted_opponents_idx_to_cur_player(keeper_positions[closest_keeper_id - 1], taker_positions)\n",
    "        # distance between current keeper to the center of the field\n",
    "        keeper_with_ball_x = keeper_positions[closest_keeper_id - 1][0]\n",
    "        keeper_with_ball_y = keeper_positions[closest_keeper_id - 1][1]\n",
    "        df.at[index, 'dist(K1,C)'] = get_distance(keeper_with_ball_x, keeper_with_ball_y, center_x, center_y)\n",
    "        # distance between current keeper and the teammates, sorted according to distance\n",
    "        for counter, teammate_idx in enumerate(sorted_teammate_idxes):\n",
    "            teammate_x, teammate_y = keeper_positions[teammate_idx][0], keeper_positions[teammate_idx][1]\n",
    "            df.at[index, 'dist(K1,K{})'.format(counter + 2)] = get_distance(keeper_with_ball_x, keeper_with_ball_y, teammate_x, teammate_y)\n",
    "            # distance between teammates to the center\n",
    "            df.at[index, 'dist(K{},C)'.format(counter + 2)] = get_distance(teammate_x, teammate_y, center_x, center_y)\n",
    "        # distance between current keeper and takers, sorted according to distance\n",
    "        for counter, opp_idx in enumerate(sorted_opponent_idxes):\n",
    "            opp_x, opp_y = taker_positions[opp_idx][0], taker_positions[opp_idx][1]\n",
    "            df.at[index, 'dist(K1,T{})'.format(counter + 1)] = get_distance(keeper_with_ball_x, keeper_with_ball_y, opp_x, opp_y)\n",
    "            # distance between opponent to the center\n",
    "            df.at[index, 'dist(T{},C)'.format(counter + 1)] = get_distance(opp_x, opp_y, center_x, center_y)\n",
    "        # distance between teammates and opponents\n",
    "        for tm_counter, teammate_idx in enumerate(sorted_teammate_idxes):\n",
    "            tm_x, tm_y = keeper_positions[teammate_idx][0], keeper_positions[teammate_idx][1]\n",
    "            min_dist = get_sorted_distance_between_current_and_others((tm_x, tm_y), taker_positions)[0]\n",
    "            col_name = ''\n",
    "            for opp_counter, opp_idx in enumerate(sorted_opponent_idxes):\n",
    "                col_name += 'dist(K{},T{}),'.format(tm_counter + 2, opp_counter + 1)\n",
    "            col_name = col_name[:-1]\n",
    "            df.at[index, 'Min({})'.format(col_name)] = min_dist\n",
    "            # angle of passing lane from keeper with ball to teammates\n",
    "            min_angle = sys.maxsize * 2 + 1\n",
    "            col_name = ''\n",
    "            for opp_counter, opp_idx in enumerate(sorted_opponent_idxes):\n",
    "                angle = get_angle((tm_x, tm_y), (keeper_with_ball_x, keeper_with_ball_y), taker_positions[opp_idx])\n",
    "                if angle < min_angle:\n",
    "                    min_angle = angle\n",
    "                col_name += 'ang(K{},K1,T{}),'.format(tm_counter + 2, opp_counter + 1)\n",
    "            col_name = col_name[:-1]\n",
    "            df.at[index, 'Min({})'.format(col_name)] = min_angle\n",
    "        # debug print\n",
    "        print('Time: {}'.format(show_time))\n",
    "        for keeper_idx, keeper_pos in enumerate(keeper_positions):\n",
    "            print('Keeper {} , Keeper x: {}, Keeper y: {}, distance to ball: {}'.format(keeper_idx + 1, keeper_pos[0], keeper_pos[1], get_distance(keeper_pos[0], keeper_pos[1], ball_x, ball_y)))\n",
    "        for taker_idx, taker_pos in enumerate(taker_positions):\n",
    "            print('Taker {}, Taker x: {}, Taker y: {}, distance to ball: {}'.format(taker_idx + 1, taker_pos[0], taker_pos[1], get_distance(taker_pos[0], taker_pos[1], ball_x, ball_y)))\n",
    "        for state_var in state_3v2_col_names:\n",
    "            print('{}: {}'.format(state_var, row[state_var]))\n",
    "        print('Ball velocity: {}'.format(ball_velocity))\n",
    "        print('\\n')\n",
    "        samples += 1\n",
    "    show_time += 1\n",
    "print('Total samples: {}'.format(samples))"
   ]
  },
  {
   "cell_type": "code",
   "execution_count": null,
   "metadata": {},
   "outputs": [],
   "source": [
    "from IPython.display import display, HTML\n",
    "display(df)"
   ]
  },
  {
   "cell_type": "code",
   "execution_count": null,
   "metadata": {},
   "outputs": [],
   "source": [
    "show_time = 0\n",
    "for index, row in df.iterrows():\n",
    "    print('Time: {}'.format(show_time))\n",
    "    show_time += 1\n",
    "    ball_x = row['ball_x']\n",
    "    ball_y = row['ball_y']\n",
    "    keeper_positions = []\n",
    "    # print keeper distance to ball\n",
    "    for keeper_idx, keeper in enumerate(keepers_names):\n",
    "        keeper_x = row[keeper + '_x']\n",
    "        keeper_y = row[keeper + '_y']\n",
    "        print('Keeper {} , Keeper x: {}, Keeper y: {}, distance to ball: {}'.format(keeper_idx + 1, keeper_x, keeper_y, get_distance(keeper_x, keeper_y, ball_x, ball_y)))\n",
    "        keeper_positions.append((keeper_x, keeper_y))\n",
    "    closest_keeper, closest_distance_to_ball = get_closest_player_to_ball(keeper_positions, (ball_x, ball_y))\n",
    "    if closest_distance_to_ball < ball_kickable_dist:\n",
    "        print('Keeper {} can kick the ball.'.format(closest_keeper + 1))\n",
    "        # start creating state variables in relation to the keeper with the ball\n",
    "        keeper_with_ball_x = row['player_l{}_x'.format(closest_keeper + 1)]\n",
    "        keeper_with_ball_y = row['player_l{}_y'.format(closest_keeper + 1)]\n",
    "        # distance between current keeper to the center of the field\n",
    "        row['dist(K1,C)'] = get_distance(keeper_with_ball_x, keeper_with_ball_y, center_x, center_y)\n",
    "        # distance between current keeper to teammates\n",
    "        distance_between_keeper_and_teammates = get_sorted_distance_between_player_and_teammates(keeper_positions, (keeper_with_ball_x, keeper_with_ball_y))\n",
    "        for d_idx, d in enumerate(distance_between_keeper_and_teammates):\n",
    "            row['dist(K1,K{})'.format(d_idx + 2)] = d\n",
    "        # distance between teammates and the center of the field\n",
    "        \n",
    "    # print taker distance to ball\n",
    "    for taker_idx, taker in enumerate(takers_names):\n",
    "        taker_x = row[taker + '_x']\n",
    "        taker_y = row[taker + '_y']\n",
    "        print('Taker {} distance to ball: {}'.format(taker_idx + 1, get_distance(taker_x, taker_y, ball_x, ball_y)))\n",
    "    print('\\n')"
   ]
  },
  {
   "cell_type": "code",
   "execution_count": null,
   "metadata": {},
   "outputs": [],
   "source": [
    "def get_closest_player_to_ball(player_positions:list, ball_location:tuple) -> int:\n",
    "    ball_x, ball_y = ball_location\n",
    "    closest_distance = sys.maxsize * 2 + 1\n",
    "    closest_player_id = -1\n",
    "    for player_id, player_pos in enumerate(player_positions):\n",
    "        player_x = player_pos[0]\n",
    "        player_y = player_pos[1]\n",
    "        distance_to_ball = get_distance(player_x, player_y, ball_x, ball_y)\n",
    "        if distance_to_ball < closest_distance:\n",
    "            closest_distance = distance_to_ball\n",
    "            closest_player_id = player_id\n",
    "    return closest_player_id, closest_distance"
   ]
  },
  {
   "cell_type": "code",
   "execution_count": 36,
   "metadata": {},
   "outputs": [],
   "source": [
    "data_column_names = ['Cycle', 'State']\n",
    "data_column_dtypes = ['int', 'str']\n",
    "data_column_info = {col_name : col_dtype for col_name, col_dtype in zip(data_column_names, data_column_dtypes)}\n",
    "df2 = pd.DataFrame({c: pd.Series(dtype=dt) for c, dt in data_column_info.items()})\n",
    "filepath = \"C:\\\\Users\\\\minhh\\\\Documents\\\\JHU\\\\Fall 2022\\\\Evolutionary and Swarm Intelligence\\\\src\\\\GAME\\\\logs\\\\202210280159-UbuntuXenial\\\\k3-draw.log\"\n",
    "# create an array to help us id the keeper\n",
    "id_of_targets = []\n",
    "with open(filepath, 'r') as f:\n",
    "    lines = f.readlines()\n",
    "    for line in lines:\n",
    "        line_split = line.split(' ')\n",
    "        if len(line_split) > 1 and line_split[1] == '\\\"state\\\"':\n",
    "            cycle = int(line_split[0][:-1])\n",
    "            state = line.split('\\\"')[3]\n",
    "            if '(' in state:\n",
    "                # run a check to help us id the current keeper\n",
    "                id_of_target_kp = state[1:-1].split(' ')[2]\n",
    "                if id_of_target_kp not in id_of_targets:\n",
    "                    id_of_targets.append(id_of_target_kp)\n",
    "            df2 = df2.append({'Cycle': cycle, 'State': state}, ignore_index=True)"
   ]
  },
  {
   "cell_type": "code",
   "execution_count": null,
   "metadata": {},
   "outputs": [],
   "source": [
    "df2"
   ]
  },
  {
   "cell_type": "code",
   "execution_count": 37,
   "metadata": {},
   "outputs": [],
   "source": [
    "time_of_first_action = -1\n",
    "for _, row in df2.iterrows():\n",
    "    if '(' in row['State']:\n",
    "        time_of_first_action = row['Cycle'] + 1\n",
    "        break"
   ]
  },
  {
   "cell_type": "code",
   "execution_count": 38,
   "metadata": {},
   "outputs": [
    {
     "data": {
      "text/plain": [
       "41"
      ]
     },
     "execution_count": 38,
     "metadata": {},
     "output_type": "execute_result"
    }
   ],
   "source": [
    "time_of_first_action"
   ]
  },
  {
   "cell_type": "code",
   "execution_count": 39,
   "metadata": {},
   "outputs": [
    {
     "name": "stdout",
     "output_type": "stream",
     "text": [
      "player_l2_state\n"
     ]
    }
   ],
   "source": [
    "keeper_ids = [i for i in range(1, 3 + 1)]\n",
    "rcg_at_time_slice = df[df['show_time'] == time_of_first_action]\n",
    "for col in rcg_at_time_slice.columns:\n",
    "    if rcg_at_time_slice[col].to_list()[0] == '0x3':\n",
    "        print(col)"
   ]
  },
  {
   "cell_type": "code",
   "execution_count": 42,
   "metadata": {},
   "outputs": [
    {
     "data": {
      "text/plain": [
       "'2'"
      ]
     },
     "execution_count": 42,
     "metadata": {},
     "output_type": "execute_result"
    }
   ],
   "source": [
    "'player_l2_state'.split('_')[1][1:]"
   ]
  },
  {
   "cell_type": "code",
   "execution_count": null,
   "metadata": {},
   "outputs": [],
   "source": [
    "def id_keeper_draw_log()"
   ]
  }
 ],
 "metadata": {
  "kernelspec": {
   "display_name": "Python 3.7.3 ('venv': venv)",
   "language": "python",
   "name": "python3"
  },
  "language_info": {
   "codemirror_mode": {
    "name": "ipython",
    "version": 3
   },
   "file_extension": ".py",
   "mimetype": "text/x-python",
   "name": "python",
   "nbconvert_exporter": "python",
   "pygments_lexer": "ipython3",
   "version": "3.7.3"
  },
  "orig_nbformat": 4,
  "vscode": {
   "interpreter": {
    "hash": "66eb0ff22152a42a55105d2627a5529bd8ce21fe81b81dbad1c4e8c0b6b69aac"
   }
  }
 },
 "nbformat": 4,
 "nbformat_minor": 2
}
